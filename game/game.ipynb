{
 "cells": [
  {
   "cell_type": "markdown",
   "metadata": {},
   "source": [
    "### Задача:\n",
    "На основе анализа данных сделать выводы об эффективности рекламных источников. Обозначить рекомендации по выбору рекламной площадки для продвижения игры.\n",
    "\n",
    "### План:\n",
    "1. Загрузка и предобработка данных\n",
    "2. Анализ поведения пользователей в игре:\n",
    "    - Каким образом пользователи проходят первый уровень\n",
    "    - Порядок постройки зданий\n",
    "    - Скорость прохождения\n",
    "3. Анализ эффективности рекламных источников.\n",
    "4. Проверка гипотез:\n",
    "    + Время прохождения различается в зависимости от выбора типа прохождения\n",
    "    + Средняя стоимость привлечения одного пользователя у разных источников разная.\n",
    "\n",
    "5. Вывод"
   ]
  },
  {
   "cell_type": "markdown",
   "metadata": {},
   "source": [
    "### 1. Загрузка и предобработка данных"
   ]
  },
  {
   "cell_type": "code",
   "execution_count": 1,
   "metadata": {},
   "outputs": [],
   "source": [
    "import pandas as pd\n",
    "import matplotlib.pyplot as plt\n",
    "plt.style.use('ggplot')\n",
    "import seaborn as sns\n",
    "import numpy as np\n",
    "from scipy import stats as st\n",
    "import warnings\n",
    "warnings.filterwarnings(\"ignore\")\n",
    "pd.options.display.max_columns = 40\n",
    "pd.set_option('max_colwidth', 150)"
   ]
  },
  {
   "cell_type": "code",
   "execution_count": 2,
   "metadata": {},
   "outputs": [],
   "source": [
    "game_actions = pd.read_csv('game_actions.csv') #загружаем данные о действиях пользователей\n",
    "ad_cost = pd.read_csv('ad_costs.csv') #загружаем информацию о стоимости кликов\n",
    "user_source = pd.read_csv('user_source.csv') #загружаем информацию об источниках"
   ]
  },
  {
   "cell_type": "code",
   "execution_count": 3,
   "metadata": {},
   "outputs": [
    {
     "data": {
      "text/html": [
       "<div>\n",
       "<style scoped>\n",
       "    .dataframe tbody tr th:only-of-type {\n",
       "        vertical-align: middle;\n",
       "    }\n",
       "\n",
       "    .dataframe tbody tr th {\n",
       "        vertical-align: top;\n",
       "    }\n",
       "\n",
       "    .dataframe thead th {\n",
       "        text-align: right;\n",
       "    }\n",
       "</style>\n",
       "<table border=\"1\" class=\"dataframe\">\n",
       "  <thead>\n",
       "    <tr style=\"text-align: right;\">\n",
       "      <th></th>\n",
       "      <th>event_datetime</th>\n",
       "      <th>event</th>\n",
       "      <th>building_type</th>\n",
       "      <th>user_id</th>\n",
       "      <th>project_type</th>\n",
       "    </tr>\n",
       "  </thead>\n",
       "  <tbody>\n",
       "    <tr>\n",
       "      <th>0</th>\n",
       "      <td>2020-05-04 00:00:01</td>\n",
       "      <td>building</td>\n",
       "      <td>assembly_shop</td>\n",
       "      <td>55e92310-cb8e-4754-b622-597e124b03de</td>\n",
       "      <td>NaN</td>\n",
       "    </tr>\n",
       "    <tr>\n",
       "      <th>1</th>\n",
       "      <td>2020-05-04 00:00:03</td>\n",
       "      <td>building</td>\n",
       "      <td>assembly_shop</td>\n",
       "      <td>c07b1c10-f477-44dc-81dc-ec82254b1347</td>\n",
       "      <td>NaN</td>\n",
       "    </tr>\n",
       "    <tr>\n",
       "      <th>2</th>\n",
       "      <td>2020-05-04 00:00:16</td>\n",
       "      <td>building</td>\n",
       "      <td>assembly_shop</td>\n",
       "      <td>6edd42cc-e753-4ff6-a947-2107cd560710</td>\n",
       "      <td>NaN</td>\n",
       "    </tr>\n",
       "    <tr>\n",
       "      <th>3</th>\n",
       "      <td>2020-05-04 00:00:16</td>\n",
       "      <td>building</td>\n",
       "      <td>assembly_shop</td>\n",
       "      <td>92c69003-d60a-444a-827f-8cc51bf6bf4c</td>\n",
       "      <td>NaN</td>\n",
       "    </tr>\n",
       "    <tr>\n",
       "      <th>4</th>\n",
       "      <td>2020-05-04 00:00:35</td>\n",
       "      <td>building</td>\n",
       "      <td>assembly_shop</td>\n",
       "      <td>cdc6bb92-0ccb-4490-9866-ef142f09139d</td>\n",
       "      <td>NaN</td>\n",
       "    </tr>\n",
       "  </tbody>\n",
       "</table>\n",
       "</div>"
      ],
      "text/plain": [
       "        event_datetime     event  building_type  \\\n",
       "0  2020-05-04 00:00:01  building  assembly_shop   \n",
       "1  2020-05-04 00:00:03  building  assembly_shop   \n",
       "2  2020-05-04 00:00:16  building  assembly_shop   \n",
       "3  2020-05-04 00:00:16  building  assembly_shop   \n",
       "4  2020-05-04 00:00:35  building  assembly_shop   \n",
       "\n",
       "                                user_id project_type  \n",
       "0  55e92310-cb8e-4754-b622-597e124b03de          NaN  \n",
       "1  c07b1c10-f477-44dc-81dc-ec82254b1347          NaN  \n",
       "2  6edd42cc-e753-4ff6-a947-2107cd560710          NaN  \n",
       "3  92c69003-d60a-444a-827f-8cc51bf6bf4c          NaN  \n",
       "4  cdc6bb92-0ccb-4490-9866-ef142f09139d          NaN  "
      ]
     },
     "execution_count": 3,
     "metadata": {},
     "output_type": "execute_result"
    }
   ],
   "source": [
    "game_actions.head()"
   ]
  },
  {
   "cell_type": "code",
   "execution_count": 4,
   "metadata": {},
   "outputs": [
    {
     "name": "stdout",
     "output_type": "stream",
     "text": [
      "<class 'pandas.core.frame.DataFrame'>\n",
      "RangeIndex: 135640 entries, 0 to 135639\n",
      "Data columns (total 5 columns):\n",
      " #   Column          Non-Null Count   Dtype \n",
      "---  ------          --------------   ----- \n",
      " 0   event_datetime  135640 non-null  object\n",
      " 1   event           135640 non-null  object\n",
      " 2   building_type   127957 non-null  object\n",
      " 3   user_id         135640 non-null  object\n",
      " 4   project_type    1866 non-null    object\n",
      "dtypes: object(5)\n",
      "memory usage: 5.2+ MB\n"
     ]
    }
   ],
   "source": [
    "game_actions.info()"
   ]
  },
  {
   "cell_type": "markdown",
   "metadata": {},
   "source": [
    "В столбцах building_type и project_type есть пропуски, но они, скорее всего, появились потому что, пользователь может пройти уровень двумя способами. Проверим."
   ]
  },
  {
   "cell_type": "code",
   "execution_count": 5,
   "metadata": {},
   "outputs": [
    {
     "data": {
      "text/plain": [
       "135640"
      ]
     },
     "execution_count": 5,
     "metadata": {},
     "output_type": "execute_result"
    }
   ],
   "source": [
    "game_actions.loc[(game_actions['project_type'].isnull()) & (game_actions['building_type'].isnull())]['event_datetime'].count() + \\\n",
    "game_actions.loc[game_actions['project_type'].isnull() & (game_actions['event'] != 'finished_stage_1')]['event_datetime'].count() + \\\n",
    "game_actions.loc[game_actions['building_type'].isnull() & (game_actions['event'] != 'finished_stage_1')]['event_datetime'].count()"
   ]
  },
  {
   "cell_type": "markdown",
   "metadata": {},
   "source": [
    "Сумма строк с пропусками в project_type и building_type и строк с завершением 1 уровня равна общему количеству действий в датасете. Заменим пропуски на значение 0."
   ]
  },
  {
   "cell_type": "code",
   "execution_count": 6,
   "metadata": {},
   "outputs": [],
   "source": [
    "game_actions = game_actions.fillna(0)"
   ]
  },
  {
   "cell_type": "code",
   "execution_count": 7,
   "metadata": {},
   "outputs": [
    {
     "data": {
      "text/plain": [
       "1"
      ]
     },
     "execution_count": 7,
     "metadata": {},
     "output_type": "execute_result"
    }
   ],
   "source": [
    "game_actions.duplicated().sum() #проверим на наличие дубликатов"
   ]
  },
  {
   "cell_type": "code",
   "execution_count": 8,
   "metadata": {},
   "outputs": [],
   "source": [
    "game_actions = game_actions.drop_duplicates() #удалим"
   ]
  },
  {
   "cell_type": "code",
   "execution_count": 9,
   "metadata": {},
   "outputs": [
    {
     "data": {
      "text/plain": [
       "array([0, 'satellite_orbital_assembly'], dtype=object)"
      ]
     },
     "execution_count": 9,
     "metadata": {},
     "output_type": "execute_result"
    }
   ],
   "source": [
    "game_actions['project_type'].unique()"
   ]
  },
  {
   "cell_type": "code",
   "execution_count": 10,
   "metadata": {},
   "outputs": [],
   "source": [
    "game_actions = game_actions.replace({'project_type':{'satellite_orbital_assembly':1}})\n",
    "#для удобства вычислений, пометим событие с выполнением проекта цифрой 1"
   ]
  },
  {
   "cell_type": "code",
   "execution_count": 11,
   "metadata": {},
   "outputs": [],
   "source": [
    "game_actions['event_datetime'] = pd.to_datetime(game_actions['event_datetime'])\n",
    "#приведём значения event_datetime к типу \"datetime\""
   ]
  },
  {
   "cell_type": "code",
   "execution_count": 12,
   "metadata": {},
   "outputs": [
    {
     "data": {
      "text/html": [
       "<div>\n",
       "<style scoped>\n",
       "    .dataframe tbody tr th:only-of-type {\n",
       "        vertical-align: middle;\n",
       "    }\n",
       "\n",
       "    .dataframe tbody tr th {\n",
       "        vertical-align: top;\n",
       "    }\n",
       "\n",
       "    .dataframe thead th {\n",
       "        text-align: right;\n",
       "    }\n",
       "</style>\n",
       "<table border=\"1\" class=\"dataframe\">\n",
       "  <thead>\n",
       "    <tr style=\"text-align: right;\">\n",
       "      <th></th>\n",
       "      <th>source</th>\n",
       "      <th>day</th>\n",
       "      <th>cost</th>\n",
       "    </tr>\n",
       "  </thead>\n",
       "  <tbody>\n",
       "    <tr>\n",
       "      <th>0</th>\n",
       "      <td>facebook_ads</td>\n",
       "      <td>2020-05-03</td>\n",
       "      <td>935.882786</td>\n",
       "    </tr>\n",
       "    <tr>\n",
       "      <th>1</th>\n",
       "      <td>facebook_ads</td>\n",
       "      <td>2020-05-04</td>\n",
       "      <td>548.354480</td>\n",
       "    </tr>\n",
       "    <tr>\n",
       "      <th>2</th>\n",
       "      <td>facebook_ads</td>\n",
       "      <td>2020-05-05</td>\n",
       "      <td>260.185754</td>\n",
       "    </tr>\n",
       "    <tr>\n",
       "      <th>3</th>\n",
       "      <td>facebook_ads</td>\n",
       "      <td>2020-05-06</td>\n",
       "      <td>177.982200</td>\n",
       "    </tr>\n",
       "    <tr>\n",
       "      <th>4</th>\n",
       "      <td>facebook_ads</td>\n",
       "      <td>2020-05-07</td>\n",
       "      <td>111.766796</td>\n",
       "    </tr>\n",
       "  </tbody>\n",
       "</table>\n",
       "</div>"
      ],
      "text/plain": [
       "         source         day        cost\n",
       "0  facebook_ads  2020-05-03  935.882786\n",
       "1  facebook_ads  2020-05-04  548.354480\n",
       "2  facebook_ads  2020-05-05  260.185754\n",
       "3  facebook_ads  2020-05-06  177.982200\n",
       "4  facebook_ads  2020-05-07  111.766796"
      ]
     },
     "execution_count": 12,
     "metadata": {},
     "output_type": "execute_result"
    }
   ],
   "source": [
    "ad_cost.head()"
   ]
  },
  {
   "cell_type": "code",
   "execution_count": 13,
   "metadata": {},
   "outputs": [
    {
     "name": "stdout",
     "output_type": "stream",
     "text": [
      "<class 'pandas.core.frame.DataFrame'>\n",
      "RangeIndex: 28 entries, 0 to 27\n",
      "Data columns (total 3 columns):\n",
      " #   Column  Non-Null Count  Dtype  \n",
      "---  ------  --------------  -----  \n",
      " 0   source  28 non-null     object \n",
      " 1   day     28 non-null     object \n",
      " 2   cost    28 non-null     float64\n",
      "dtypes: float64(1), object(2)\n",
      "memory usage: 800.0+ bytes\n"
     ]
    }
   ],
   "source": [
    "ad_cost.info()"
   ]
  },
  {
   "cell_type": "code",
   "execution_count": 14,
   "metadata": {},
   "outputs": [],
   "source": [
    "ad_cost['day'] = pd.to_datetime(ad_cost['day'])"
   ]
  },
  {
   "cell_type": "code",
   "execution_count": 15,
   "metadata": {},
   "outputs": [
    {
     "data": {
      "text/html": [
       "<div>\n",
       "<style scoped>\n",
       "    .dataframe tbody tr th:only-of-type {\n",
       "        vertical-align: middle;\n",
       "    }\n",
       "\n",
       "    .dataframe tbody tr th {\n",
       "        vertical-align: top;\n",
       "    }\n",
       "\n",
       "    .dataframe thead th {\n",
       "        text-align: right;\n",
       "    }\n",
       "</style>\n",
       "<table border=\"1\" class=\"dataframe\">\n",
       "  <thead>\n",
       "    <tr style=\"text-align: right;\">\n",
       "      <th></th>\n",
       "      <th>user_id</th>\n",
       "      <th>source</th>\n",
       "    </tr>\n",
       "  </thead>\n",
       "  <tbody>\n",
       "    <tr>\n",
       "      <th>0</th>\n",
       "      <td>0001f83c-c6ac-4621-b7f0-8a28b283ac30</td>\n",
       "      <td>facebook_ads</td>\n",
       "    </tr>\n",
       "    <tr>\n",
       "      <th>1</th>\n",
       "      <td>00151b4f-ba38-44a8-a650-d7cf130a0105</td>\n",
       "      <td>yandex_direct</td>\n",
       "    </tr>\n",
       "    <tr>\n",
       "      <th>2</th>\n",
       "      <td>001aaea6-3d14-43f1-8ca8-7f48820f17aa</td>\n",
       "      <td>youtube_channel_reklama</td>\n",
       "    </tr>\n",
       "    <tr>\n",
       "      <th>3</th>\n",
       "      <td>001d39dc-366c-4021-9604-6a3b9ff01e25</td>\n",
       "      <td>instagram_new_adverts</td>\n",
       "    </tr>\n",
       "    <tr>\n",
       "      <th>4</th>\n",
       "      <td>002f508f-67b6-479f-814b-b05f00d4e995</td>\n",
       "      <td>facebook_ads</td>\n",
       "    </tr>\n",
       "  </tbody>\n",
       "</table>\n",
       "</div>"
      ],
      "text/plain": [
       "                                user_id                   source\n",
       "0  0001f83c-c6ac-4621-b7f0-8a28b283ac30             facebook_ads\n",
       "1  00151b4f-ba38-44a8-a650-d7cf130a0105            yandex_direct\n",
       "2  001aaea6-3d14-43f1-8ca8-7f48820f17aa  youtube_channel_reklama\n",
       "3  001d39dc-366c-4021-9604-6a3b9ff01e25    instagram_new_adverts\n",
       "4  002f508f-67b6-479f-814b-b05f00d4e995             facebook_ads"
      ]
     },
     "execution_count": 15,
     "metadata": {},
     "output_type": "execute_result"
    }
   ],
   "source": [
    "user_source.head()"
   ]
  },
  {
   "cell_type": "code",
   "execution_count": 16,
   "metadata": {},
   "outputs": [
    {
     "name": "stdout",
     "output_type": "stream",
     "text": [
      "<class 'pandas.core.frame.DataFrame'>\n",
      "RangeIndex: 13576 entries, 0 to 13575\n",
      "Data columns (total 2 columns):\n",
      " #   Column   Non-Null Count  Dtype \n",
      "---  ------   --------------  ----- \n",
      " 0   user_id  13576 non-null  object\n",
      " 1   source   13576 non-null  object\n",
      "dtypes: object(2)\n",
      "memory usage: 212.2+ KB\n"
     ]
    }
   ],
   "source": [
    "user_source.info()"
   ]
  },
  {
   "cell_type": "markdown",
   "metadata": {},
   "source": [
    "Заменены пропуски, удалены дубликаты, столбцы приведены к необходимым типам. Можно приступать к анализу."
   ]
  },
  {
   "cell_type": "markdown",
   "metadata": {},
   "source": [
    "### 2. Анализ поведения пользователей в игре."
   ]
  },
  {
   "cell_type": "code",
   "execution_count": 17,
   "metadata": {},
   "outputs": [
    {
     "data": {
      "text/plain": [
       "array(['building', 'finished_stage_1', 'project'], dtype=object)"
      ]
     },
     "execution_count": 17,
     "metadata": {},
     "output_type": "execute_result"
    }
   ],
   "source": [
    "game_actions['event'].unique()"
   ]
  },
  {
   "cell_type": "markdown",
   "metadata": {},
   "source": [
    "Есть три вида события: постройка, прохождение первого уровня и проект. Посмотрим, отмечается ли завершением проекта прохождением первого уровня."
   ]
  },
  {
   "cell_type": "code",
   "execution_count": 18,
   "metadata": {},
   "outputs": [
    {
     "data": {
      "text/plain": [
       "1866"
      ]
     },
     "metadata": {},
     "output_type": "display_data"
    },
    {
     "data": {
      "text/plain": [
       "1866"
      ]
     },
     "metadata": {},
     "output_type": "display_data"
    }
   ],
   "source": [
    "display(game_actions.query('event == \"project\"')['user_id'].nunique())\n",
    "id_final_stage_1 = game_actions.query('event == \"finished_stage_1\"')['user_id'].to_list()\n",
    "display(game_actions.query('event == \"project\" & user_id in @id_final_stage_1')['user_id'].nunique())"
   ]
  },
  {
   "cell_type": "markdown",
   "metadata": {},
   "source": [
    "Все, кто завершил проект, прошли первый уровень. Посмотрим, какая доля, вообще проходит первый уровень."
   ]
  },
  {
   "cell_type": "code",
   "execution_count": 19,
   "metadata": {},
   "outputs": [],
   "source": [
    "all_users = game_actions['user_id'].nunique()\n",
    "over = game_actions.query('event == \"finished_stage_1\"')['user_id'].nunique()\n",
    "project_users = game_actions.query('event == \"project\"')['user_id'].nunique()"
   ]
  },
  {
   "cell_type": "code",
   "execution_count": 20,
   "metadata": {},
   "outputs": [
    {
     "data": {
      "image/png": "[encoded data removed]",
      "text/plain": [
       "<Figure size 1224x432 with 2 Axes>"
      ]
     },
     "metadata": {},
     "output_type": "display_data"
    }
   ],
   "source": [
    "plt.figure(figsize=(17,6))\n",
    "plt.subplot(1, 2, 1)\n",
    "plt.title('Пользователи, прошедшие первый уровень')\n",
    "plt.pie([all_users-over, over], \n",
    "        labels=['Не прошли', 'Прошли'],\n",
    "        colors = ['brown','peru'],\n",
    "        autopct = \"%0.1f%%\",\n",
    "        textprops = {\"fontsize\":15},\n",
    "        shadow = True)\n",
    "plt.subplot(1, 2, 2)\n",
    "plt.title('Как проходили первый уровень')\n",
    "plt.pie([over-project_users, project_users], \n",
    "        labels=['Победа над первым врагом', 'Завершение проекта'],\n",
    "        colors = ['yellowgreen','gold'],\n",
    "        autopct = \"%0.1f%%\",\n",
    "        textprops = {\"fontsize\":15},\n",
    "        shadow = True)\n",
    "plt.show()"
   ]
  },
  {
   "cell_type": "markdown",
   "metadata": {},
   "source": [
    "Больше половины пользователей вообще не проходят первый уровень, а именно 57.15% от общего количества. Очень большая доля пользователей отваливается. Значит, либо неинтересно, либо сложно. Всего треть пользователей выбирает прохождение через выполнение проекта. Возможно, это связано со разной скоростью или сложностью прохождения."
   ]
  },
  {
   "cell_type": "code",
   "execution_count": 21,
   "metadata": {},
   "outputs": [],
   "source": [
    "project_user_id = game_actions.query('project_type == 1')['user_id'].unique()\n",
    "#список пользователей, которые прошли уровень через постройку объекта"
   ]
  },
  {
   "cell_type": "code",
   "execution_count": 22,
   "metadata": {},
   "outputs": [],
   "source": [
    "project_building = game_actions.query('building_type != 0 & user_id in @project_user_id')\\\n",
    "                  .groupby('user_id')\\\n",
    "                  .agg({'building_type':'nunique'}).reset_index()"
   ]
  },
  {
   "cell_type": "code",
   "execution_count": 23,
   "metadata": {},
   "outputs": [
    {
     "data": {
      "text/plain": [
       "array([3], dtype=int64)"
      ]
     },
     "execution_count": 23,
     "metadata": {},
     "output_type": "execute_result"
    }
   ],
   "source": [
    "project_building['building_type'].unique()"
   ]
  },
  {
   "cell_type": "markdown",
   "metadata": {},
   "source": [
    "Все, кто прошли первый уровень через выполнения проекта, построили все три здания."
   ]
  },
  {
   "cell_type": "code",
   "execution_count": 24,
   "metadata": {},
   "outputs": [],
   "source": [
    "finished_stage_user_id = game_actions.query('event == \"finished_stage_1\"')['user_id'].unique()"
   ]
  },
  {
   "cell_type": "code",
   "execution_count": 25,
   "metadata": {},
   "outputs": [],
   "source": [
    "finished_stage_bulding = game_actions.query('user_id in @finished_stage_user_id')\\\n",
    "                                     .groupby('building_type')\\\n",
    "                                     .agg({'user_id':'nunique'}).reset_index()\n",
    "finished_stage_bulding['ratio'] = round(finished_stage_bulding['user_id'] / over * 100, 1)"
   ]
  },
  {
   "cell_type": "code",
   "execution_count": 26,
   "metadata": {},
   "outputs": [
    {
     "data": {
      "text/html": [
       "<div>\n",
       "<style scoped>\n",
       "    .dataframe tbody tr th:only-of-type {\n",
       "        vertical-align: middle;\n",
       "    }\n",
       "\n",
       "    .dataframe tbody tr th {\n",
       "        vertical-align: top;\n",
       "    }\n",
       "\n",
       "    .dataframe thead th {\n",
       "        text-align: right;\n",
       "    }\n",
       "</style>\n",
       "<table border=\"1\" class=\"dataframe\">\n",
       "  <thead>\n",
       "    <tr style=\"text-align: right;\">\n",
       "      <th></th>\n",
       "      <th>building_type</th>\n",
       "      <th>user_id</th>\n",
       "      <th>ratio</th>\n",
       "    </tr>\n",
       "  </thead>\n",
       "  <tbody>\n",
       "    <tr>\n",
       "      <th>0</th>\n",
       "      <td>0</td>\n",
       "      <td>5817</td>\n",
       "      <td>100.0</td>\n",
       "    </tr>\n",
       "    <tr>\n",
       "      <th>1</th>\n",
       "      <td>assembly_shop</td>\n",
       "      <td>5817</td>\n",
       "      <td>100.0</td>\n",
       "    </tr>\n",
       "    <tr>\n",
       "      <th>3</th>\n",
       "      <td>spaceport</td>\n",
       "      <td>5760</td>\n",
       "      <td>99.0</td>\n",
       "    </tr>\n",
       "    <tr>\n",
       "      <th>2</th>\n",
       "      <td>research_center</td>\n",
       "      <td>4208</td>\n",
       "      <td>72.3</td>\n",
       "    </tr>\n",
       "  </tbody>\n",
       "</table>\n",
       "</div>"
      ],
      "text/plain": [
       "     building_type  user_id  ratio\n",
       "0                0     5817  100.0\n",
       "1    assembly_shop     5817  100.0\n",
       "3        spaceport     5760   99.0\n",
       "2  research_center     4208   72.3"
      ]
     },
     "execution_count": 26,
     "metadata": {},
     "output_type": "execute_result"
    }
   ],
   "source": [
    "finished_stage_bulding.sort_values(by='ratio', ascending=False)"
   ]
  },
  {
   "cell_type": "markdown",
   "metadata": {},
   "source": [
    "Все, кто прошёл первый уровень, построил assembly_shop."
   ]
  },
  {
   "cell_type": "code",
   "execution_count": 27,
   "metadata": {},
   "outputs": [],
   "source": [
    "not_finished_stage_bulding = game_actions.query('user_id not in @finished_stage_user_id')\\\n",
    "                                         .groupby('building_type')\\\n",
    "                                         .agg({'user_id':'nunique'}).reset_index()\n",
    "not_finished_stage_bulding['ratio'] = round(not_finished_stage_bulding['user_id']\n",
    "                                            / (all_users - over) * 100, 1)"
   ]
  },
  {
   "cell_type": "code",
   "execution_count": 28,
   "metadata": {},
   "outputs": [
    {
     "data": {
      "text/html": [
       "<div>\n",
       "<style scoped>\n",
       "    .dataframe tbody tr th:only-of-type {\n",
       "        vertical-align: middle;\n",
       "    }\n",
       "\n",
       "    .dataframe tbody tr th {\n",
       "        vertical-align: top;\n",
       "    }\n",
       "\n",
       "    .dataframe thead th {\n",
       "        text-align: right;\n",
       "    }\n",
       "</style>\n",
       "<table border=\"1\" class=\"dataframe\">\n",
       "  <thead>\n",
       "    <tr style=\"text-align: right;\">\n",
       "      <th></th>\n",
       "      <th>building_type</th>\n",
       "      <th>user_id</th>\n",
       "      <th>ratio</th>\n",
       "    </tr>\n",
       "  </thead>\n",
       "  <tbody>\n",
       "    <tr>\n",
       "      <th>0</th>\n",
       "      <td>assembly_shop</td>\n",
       "      <td>7759</td>\n",
       "      <td>100.0</td>\n",
       "    </tr>\n",
       "    <tr>\n",
       "      <th>2</th>\n",
       "      <td>spaceport</td>\n",
       "      <td>7471</td>\n",
       "      <td>96.3</td>\n",
       "    </tr>\n",
       "    <tr>\n",
       "      <th>1</th>\n",
       "      <td>research_center</td>\n",
       "      <td>3463</td>\n",
       "      <td>44.6</td>\n",
       "    </tr>\n",
       "  </tbody>\n",
       "</table>\n",
       "</div>"
      ],
      "text/plain": [
       "     building_type  user_id  ratio\n",
       "0    assembly_shop     7759  100.0\n",
       "2        spaceport     7471   96.3\n",
       "1  research_center     3463   44.6"
      ]
     },
     "execution_count": 28,
     "metadata": {},
     "output_type": "execute_result"
    }
   ],
   "source": [
    "not_finished_stage_bulding.sort_values(by='ratio', ascending=False)"
   ]
  },
  {
   "cell_type": "markdown",
   "metadata": {},
   "source": [
    "Все пользователи в игре построили assembly_shop, почти все - spaceport. Получается, что порядок постройки таков: \n",
    "1. assembly_shop\n",
    "2. spaceport \n",
    "3. research_center.\n",
    "\n",
    "Также мы видим, что значительно меньшая часть пользователей, не прошедших первый уровень по сравнению с прошедшими, строит research_center. Возможно, дело в сложности постройки."
   ]
  },
  {
   "cell_type": "markdown",
   "metadata": {},
   "source": [
    "Разобъём пользователей на 3 группы:\n",
    "1. Прошедшие первый уровень через выполнение проекта.\n",
    "2. Прошедшие первый уровень через победу над первым врагом.\n",
    "3. Не прошедшие первый уровень"
   ]
  },
  {
   "cell_type": "code",
   "execution_count": 29,
   "metadata": {},
   "outputs": [],
   "source": [
    "battle_user_id = game_actions\\\n",
    "                 .query('event == \"finished_stage_1\" & user_id not in @project_user_id')['user_id']\\\n",
    "                 .unique()\n",
    "#создаём список пользователей, которые прошли первый уровень через победу над врагом"
   ]
  },
  {
   "cell_type": "code",
   "execution_count": 30,
   "metadata": {},
   "outputs": [],
   "source": [
    "def type_finished(user_id):\n",
    "    if user_id in project_user_id:\n",
    "        return 'project'\n",
    "    elif user_id in battle_user_id:\n",
    "        return 'battle'\n",
    "    else:\n",
    "        return 'no_finished'\n",
    "#напишем функцию определения группы пользователя"
   ]
  },
  {
   "cell_type": "code",
   "execution_count": 31,
   "metadata": {},
   "outputs": [],
   "source": [
    "game_actions['type_finished'] = game_actions.apply(lambda x: type_finished(x['user_id']), axis=1)\n",
    "#добавим информацию о группе пользователя"
   ]
  },
  {
   "cell_type": "code",
   "execution_count": 32,
   "metadata": {
    "scrolled": false
   },
   "outputs": [],
   "source": [
    "main_time = game_actions.pivot_table(index='user_id', \n",
    "                                     values=['event_datetime', 'type_finished'],\n",
    "                                     aggfunc={'event_datetime':['min', 'max'], 'type_finished':'max'})\n",
    "main_time = main_time.reset_index()\n",
    "main_time.columns = ['user_id', 'max_time', 'min_time', 'type_finished']\n",
    "main_time['days_finished'] = (main_time['max_time']- main_time['min_time']).dt.days\n",
    "main_time = main_time[['type_finished', 'days_finished']]\n",
    "#создадим таблицу с данными о затраченном времени на прохождение"
   ]
  },
  {
   "cell_type": "code",
   "execution_count": 33,
   "metadata": {},
   "outputs": [
    {
     "data": {
      "image/png": "[encoded data removed]",
      "text/plain": [
       "<Figure size 864x576 with 1 Axes>"
      ]
     },
     "metadata": {},
     "output_type": "display_data"
    }
   ],
   "source": [
    "plt.figure(figsize=(12,8))\n",
    "plt.title('Время прохождения')\n",
    "ax = sns.boxplot(data = main_time, x='type_finished', y='days_finished')"
   ]
  },
  {
   "cell_type": "markdown",
   "metadata": {},
   "source": [
    "Меньше всего времени на уровне проводят игроки, не прошедшие уровень. Через победу над первым врагом пользователи проходят быстрее, чем через выполнение проекта. Поэтому выполнивших проект среди тех, кто прошёл первый уровень меньшее количество."
   ]
  },
  {
   "cell_type": "code",
   "execution_count": 34,
   "metadata": {},
   "outputs": [],
   "source": [
    "amount_building = game_actions.query('event==\"building\"')\\\n",
    "                                .groupby(['type_finished','user_id'])\\\n",
    "                                .agg({'event':{'count'}}).reset_index()\n",
    "amount_building.columns= ['type_finished','user_id','amount_building']\n",
    "#посчитаем, сколько зданий построил каждый пользователь"
   ]
  },
  {
   "cell_type": "code",
   "execution_count": 35,
   "metadata": {},
   "outputs": [
    {
     "data": {
      "image/png": "[encoded data removed]",
      "text/plain": [
       "<Figure size 864x576 with 1 Axes>"
      ]
     },
     "metadata": {},
     "output_type": "display_data"
    }
   ],
   "source": [
    "plt.figure(figsize=(12,8))\n",
    "plt.title('Количество построек')\n",
    "ax = sns.boxplot(data = amount_building, x='type_finished', y='amount_building')"
   ]
  },
  {
   "cell_type": "markdown",
   "metadata": {},
   "source": [
    "Больше всего зданий строят пользователи, прошедшие уровень через проект. Минимальное количество зданий такого пользователя такое же, как медианное значение пользователей, завершивших уровень через победу над врагом. У тех, кто не проходит первый уровень - больше всего разброс по количетсву построенных зданий, но в целом, они строят меньше."
   ]
  },
  {
   "cell_type": "code",
   "execution_count": 36,
   "metadata": {},
   "outputs": [
    {
     "data": {
      "text/html": [
       "<div>\n",
       "<style scoped>\n",
       "    .dataframe tbody tr th:only-of-type {\n",
       "        vertical-align: middle;\n",
       "    }\n",
       "\n",
       "    .dataframe tbody tr th {\n",
       "        vertical-align: top;\n",
       "    }\n",
       "\n",
       "    .dataframe thead th {\n",
       "        text-align: right;\n",
       "    }\n",
       "</style>\n",
       "<table border=\"1\" class=\"dataframe\">\n",
       "  <thead>\n",
       "    <tr style=\"text-align: right;\">\n",
       "      <th></th>\n",
       "      <th>type_finished</th>\n",
       "      <th>amount_building</th>\n",
       "    </tr>\n",
       "  </thead>\n",
       "  <tbody>\n",
       "    <tr>\n",
       "      <th>0</th>\n",
       "      <td>project</td>\n",
       "      <td>12.647910</td>\n",
       "    </tr>\n",
       "    <tr>\n",
       "      <th>1</th>\n",
       "      <td>battle</td>\n",
       "      <td>9.411541</td>\n",
       "    </tr>\n",
       "    <tr>\n",
       "      <th>2</th>\n",
       "      <td>no_finished</td>\n",
       "      <td>8.657043</td>\n",
       "    </tr>\n",
       "  </tbody>\n",
       "</table>\n",
       "</div>"
      ],
      "text/plain": [
       "  type_finished  amount_building\n",
       "0       project        12.647910\n",
       "1        battle         9.411541\n",
       "2   no_finished         8.657043"
      ]
     },
     "execution_count": 36,
     "metadata": {},
     "output_type": "execute_result"
    }
   ],
   "source": [
    "mean_building = amount_building.groupby('type_finished')\\\n",
    "                               .agg({'amount_building':'mean'})\\\n",
    "                               .sort_values(by='amount_building', ascending=False)\\\n",
    "                               .reset_index()\n",
    "mean_building\n",
    "#посчитаем, сколько зданий в среднем строят пользователи с разным типом прохождения"
   ]
  },
  {
   "cell_type": "markdown",
   "metadata": {},
   "source": [
    "В среднем, пользователи, прошедшие уровень через проект значительно больше строят зданий."
   ]
  },
  {
   "cell_type": "code",
   "execution_count": 37,
   "metadata": {},
   "outputs": [
    {
     "data": {
      "text/html": [
       "<div>\n",
       "<style scoped>\n",
       "    .dataframe tbody tr th:only-of-type {\n",
       "        vertical-align: middle;\n",
       "    }\n",
       "\n",
       "    .dataframe tbody tr th {\n",
       "        vertical-align: top;\n",
       "    }\n",
       "\n",
       "    .dataframe thead th {\n",
       "        text-align: right;\n",
       "    }\n",
       "</style>\n",
       "<table border=\"1\" class=\"dataframe\">\n",
       "  <thead>\n",
       "    <tr style=\"text-align: right;\">\n",
       "      <th>type_finished</th>\n",
       "      <th>building_type</th>\n",
       "      <th>battle</th>\n",
       "      <th>no_finished</th>\n",
       "      <th>project</th>\n",
       "      <th>All</th>\n",
       "    </tr>\n",
       "  </thead>\n",
       "  <tbody>\n",
       "    <tr>\n",
       "      <th>0</th>\n",
       "      <td>All</td>\n",
       "      <td>37185</td>\n",
       "      <td>67170</td>\n",
       "      <td>23601</td>\n",
       "      <td>127956</td>\n",
       "    </tr>\n",
       "    <tr>\n",
       "      <th>1</th>\n",
       "      <td>spaceport</td>\n",
       "      <td>17132</td>\n",
       "      <td>31405</td>\n",
       "      <td>10788</td>\n",
       "      <td>59325</td>\n",
       "    </tr>\n",
       "    <tr>\n",
       "      <th>2</th>\n",
       "      <td>assembly_shop</td>\n",
       "      <td>16298</td>\n",
       "      <td>29080</td>\n",
       "      <td>9116</td>\n",
       "      <td>54494</td>\n",
       "    </tr>\n",
       "    <tr>\n",
       "      <th>3</th>\n",
       "      <td>research_center</td>\n",
       "      <td>3755</td>\n",
       "      <td>6685</td>\n",
       "      <td>3697</td>\n",
       "      <td>14137</td>\n",
       "    </tr>\n",
       "  </tbody>\n",
       "</table>\n",
       "</div>"
      ],
      "text/plain": [
       "type_finished    building_type  battle  no_finished  project     All\n",
       "0                          All   37185        67170    23601  127956\n",
       "1                    spaceport   17132        31405    10788   59325\n",
       "2                assembly_shop   16298        29080     9116   54494\n",
       "3              research_center    3755         6685     3697   14137"
      ]
     },
     "execution_count": 37,
     "metadata": {},
     "output_type": "execute_result"
    }
   ],
   "source": [
    "amount_building_type = game_actions.query('event==\"building\"')\\\n",
    "                                .pivot_table(index='building_type', \n",
    "                                             columns='type_finished',\n",
    "                                             values='user_id',\n",
    "                                             aggfunc='count',\n",
    "                                             margins=True).sort_values(by='battle', ascending=False)\n",
    "amount_building_type = amount_building_type.reset_index()\n",
    "amount_building_type\n",
    "#посчитаем, сколько зданий и каких построили пользователи, выбравшие разный тип прохождения"
   ]
  },
  {
   "cell_type": "markdown",
   "metadata": {},
   "source": [
    "В абсолютных показателях больше всего построек у пользователей, которые не прошли первый уровень, меньше всего - у тех, кто проходил через выполнение проекта. Это объясняется тем, что разное количество пользователей в группах.\n",
    "\n",
    "Распределение по доле пользователей, построивших конкретное здание(как и порядок постройки зданий) было такое:\n",
    "1. spaceport\n",
    "2. assembly_shop\n",
    "3. research_center\n",
    "\n",
    "А вот по количеству построенных конкретных зданий распределение мест другое. Больше всего построено spaceport, затем уже assembly_shop и меньше всего(чуть более 10% от всех построенных зданий) research_center."
   ]
  },
  {
   "cell_type": "markdown",
   "metadata": {},
   "source": [
    "### 3. Анализ эффективности рекламных источников. "
   ]
  },
  {
   "cell_type": "code",
   "execution_count": 38,
   "metadata": {},
   "outputs": [],
   "source": [
    "first_visit = game_actions.pivot_table(index='user_id', values='event_datetime', aggfunc='min')\n",
    "first_visit = first_visit.reset_index()\n",
    "first_visit.columns = ['user_id', 'first_visit_datetime']\n",
    "first_visit['first_visit_date'] = first_visit['first_visit_datetime'].dt.date\n",
    "#находим время первого визита пользователя"
   ]
  },
  {
   "cell_type": "code",
   "execution_count": 39,
   "metadata": {},
   "outputs": [],
   "source": [
    "game_actions = game_actions.merge(first_visit, on='user_id').merge(user_source, how='left', on='user_id')\n",
    "#добавим в датасет информацию о первом визите пользователя и источнике"
   ]
  },
  {
   "cell_type": "code",
   "execution_count": 40,
   "metadata": {},
   "outputs": [],
   "source": [
    "game_actions['lifetime'] = (game_actions['event_datetime'] \n",
    "                            - game_actions['first_visit_datetime']).dt.days\n",
    "#разобъём все события по 24 часа"
   ]
  },
  {
   "cell_type": "code",
   "execution_count": 41,
   "metadata": {},
   "outputs": [],
   "source": [
    "cohorts = game_actions.groupby(['type_finished','lifetime']).agg({'user_id':'nunique'}).reset_index()\n",
    "initial_users_count = cohorts.query('lifetime==0')[['type_finished', 'user_id']]\\\n",
    "                             .rename(columns={'user_id':'cohort_users'})\n",
    "cohorts = cohorts.merge(initial_users_count, on='type_finished')\n",
    "cohorts['retention'] = cohorts['user_id']/cohorts['cohort_users']\n",
    "#разобъём на когорты и поссчитаем ретеншн"
   ]
  },
  {
   "cell_type": "code",
   "execution_count": 42,
   "metadata": {},
   "outputs": [],
   "source": [
    "retention_pivot = cohorts.pivot_table(index='lifetime', \n",
    "                                      columns='type_finished', \n",
    "                                      values='retention', \n",
    "                                      aggfunc='sum')\n",
    "#приведём к удобному виду"
   ]
  },
  {
   "cell_type": "code",
   "execution_count": 43,
   "metadata": {},
   "outputs": [
    {
     "data": {
      "image/png": "[encoded data removed]",
      "text/plain": [
       "<Figure size 936x648 with 2 Axes>"
      ]
     },
     "metadata": {},
     "output_type": "display_data"
    }
   ],
   "source": [
    "plt.figure(figsize=(13, 9))\n",
    "plt.title('Ретеншн в зависимости от типа прохождения')\n",
    "sns.heatmap(retention_pivot, annot=True, fmt='.1%', linewidths=1, linecolor='gray')\n",
    "plt.show()\n",
    "#построим тепловую карту"
   ]
  },
  {
   "cell_type": "markdown",
   "metadata": {},
   "source": [
    "Большее удержание показывает когорта пользователей, которая проходила первый уровень через выполнение проекта, потому что время прохождения через выполнение проекта затрачивается больше, чем прохождение через победу над первым врагом."
   ]
  },
  {
   "cell_type": "code",
   "execution_count": 44,
   "metadata": {},
   "outputs": [],
   "source": [
    "cohorts_source = game_actions.groupby(['source','lifetime']).agg({'user_id':'nunique'}).reset_index()\n",
    "initial_users_count_source = cohorts_source.query('lifetime==0')[['source', 'user_id']]\\\n",
    "                                           .rename(columns={'user_id':'cohort_users'})\n",
    "cohorts_source = cohorts_source.merge(initial_users_count_source, on='source')\n",
    "cohorts_source['retention'] = cohorts_source['user_id']/cohorts_source['cohort_users']\n",
    "#разобъём на когорты по источникам и поссчитаем ретеншн"
   ]
  },
  {
   "cell_type": "code",
   "execution_count": 45,
   "metadata": {},
   "outputs": [],
   "source": [
    "retention_source_pivot = cohorts_source.pivot_table(index='lifetime', \n",
    "                                                    columns='source', \n",
    "                                                    values='retention', \n",
    "                                                    aggfunc='sum')\n",
    "#приведём к удобному виду"
   ]
  },
  {
   "cell_type": "code",
   "execution_count": 46,
   "metadata": {
    "scrolled": false
   },
   "outputs": [
    {
     "data": {
      "image/png": "[encoded data removed]",
      "text/plain": [
       "<Figure size 936x648 with 2 Axes>"
      ]
     },
     "metadata": {},
     "output_type": "display_data"
    }
   ],
   "source": [
    "plt.figure(figsize=(13, 9))\n",
    "plt.title('Ретеншн в зависимости от источника')\n",
    "sns.heatmap(retention_source_pivot, annot=True, fmt='.1%', linewidths=1, linecolor='gray')\n",
    "plt.show()\n",
    "#построим тепловую карту"
   ]
  },
  {
   "cell_type": "markdown",
   "metadata": {},
   "source": [
    "Как видим, ретеншн от источника привлечения не зависит."
   ]
  },
  {
   "cell_type": "code",
   "execution_count": 47,
   "metadata": {},
   "outputs": [
    {
     "data": {
      "text/html": [
       "<div>\n",
       "<style scoped>\n",
       "    .dataframe tbody tr th:only-of-type {\n",
       "        vertical-align: middle;\n",
       "    }\n",
       "\n",
       "    .dataframe tbody tr th {\n",
       "        vertical-align: top;\n",
       "    }\n",
       "\n",
       "    .dataframe thead th {\n",
       "        text-align: right;\n",
       "    }\n",
       "</style>\n",
       "<table border=\"1\" class=\"dataframe\">\n",
       "  <thead>\n",
       "    <tr style=\"text-align: right;\">\n",
       "      <th></th>\n",
       "      <th>source</th>\n",
       "      <th>amount_battle</th>\n",
       "      <th>amount_no_finished</th>\n",
       "      <th>amount_project</th>\n",
       "      <th>amount_all</th>\n",
       "      <th>ratio_battle</th>\n",
       "      <th>ratio_no_finished</th>\n",
       "      <th>ratio_project</th>\n",
       "    </tr>\n",
       "  </thead>\n",
       "  <tbody>\n",
       "    <tr>\n",
       "      <th>2</th>\n",
       "      <td>yandex_direct</td>\n",
       "      <td>1422</td>\n",
       "      <td>2775</td>\n",
       "      <td>620</td>\n",
       "      <td>4817</td>\n",
       "      <td>29.5</td>\n",
       "      <td>57.6</td>\n",
       "      <td>12.9</td>\n",
       "    </tr>\n",
       "    <tr>\n",
       "      <th>1</th>\n",
       "      <td>instagram_new_adverts</td>\n",
       "      <td>990</td>\n",
       "      <td>1881</td>\n",
       "      <td>476</td>\n",
       "      <td>3347</td>\n",
       "      <td>29.6</td>\n",
       "      <td>56.2</td>\n",
       "      <td>14.2</td>\n",
       "    </tr>\n",
       "    <tr>\n",
       "      <th>0</th>\n",
       "      <td>facebook_ads</td>\n",
       "      <td>759</td>\n",
       "      <td>1576</td>\n",
       "      <td>391</td>\n",
       "      <td>2726</td>\n",
       "      <td>27.8</td>\n",
       "      <td>57.8</td>\n",
       "      <td>14.3</td>\n",
       "    </tr>\n",
       "    <tr>\n",
       "      <th>3</th>\n",
       "      <td>youtube_channel_reklama</td>\n",
       "      <td>780</td>\n",
       "      <td>1527</td>\n",
       "      <td>379</td>\n",
       "      <td>2686</td>\n",
       "      <td>29.0</td>\n",
       "      <td>56.9</td>\n",
       "      <td>14.1</td>\n",
       "    </tr>\n",
       "  </tbody>\n",
       "</table>\n",
       "</div>"
      ],
      "text/plain": [
       "                    source  amount_battle  amount_no_finished  amount_project  \\\n",
       "2            yandex_direct           1422                2775             620   \n",
       "1    instagram_new_adverts            990                1881             476   \n",
       "0             facebook_ads            759                1576             391   \n",
       "3  youtube_channel_reklama            780                1527             379   \n",
       "\n",
       "   amount_all  ratio_battle  ratio_no_finished  ratio_project  \n",
       "2        4817          29.5               57.6           12.9  \n",
       "1        3347          29.6               56.2           14.2  \n",
       "0        2726          27.8               57.8           14.3  \n",
       "3        2686          29.0               56.9           14.1  "
      ]
     },
     "execution_count": 47,
     "metadata": {},
     "output_type": "execute_result"
    }
   ],
   "source": [
    "pivot_source = game_actions.pivot_table(index='source', \n",
    "                                        columns='type_finished', \n",
    "                                        values='user_id', \n",
    "                                        aggfunc='nunique')\n",
    "pivot_source = pivot_source.reset_index()\n",
    "pivot_source.columns = ['source', 'amount_battle', 'amount_no_finished', 'amount_project']\n",
    "pivot_source['amount_all'] = pivot_source['amount_battle']\\\n",
    "                             +pivot_source['amount_no_finished']\\\n",
    "                             +pivot_source['amount_project']\n",
    "pivot_source['ratio_battle'] = round(pivot_source['amount_battle']\n",
    "                                     /pivot_source['amount_all'] *100, 1)\n",
    "pivot_source['ratio_no_finished'] = round(pivot_source['amount_no_finished']\n",
    "                                          /pivot_source['amount_all'] *100, 1)\n",
    "pivot_source['ratio_project'] = round(pivot_source['amount_project']\n",
    "                                      /pivot_source['amount_all'] *100, 1)\n",
    "pivot_source = pivot_source.sort_values(by='amount_all', ascending=False)\n",
    "pivot_source"
   ]
  },
  {
   "cell_type": "markdown",
   "metadata": {},
   "source": [
    "Больше всего пользователей пришло с канала yandex_direct, но с него меньшая доля пользователей, которые выбирают прохождение уровня через выполнение проекта."
   ]
  },
  {
   "cell_type": "code",
   "execution_count": 48,
   "metadata": {},
   "outputs": [],
   "source": [
    "all_cost = ad_cost.groupby('source').agg({'cost':'sum'}).reset_index()"
   ]
  },
  {
   "cell_type": "code",
   "execution_count": 49,
   "metadata": {},
   "outputs": [
    {
     "data": {
      "text/html": [
       "<div>\n",
       "<style scoped>\n",
       "    .dataframe tbody tr th:only-of-type {\n",
       "        vertical-align: middle;\n",
       "    }\n",
       "\n",
       "    .dataframe tbody tr th {\n",
       "        vertical-align: top;\n",
       "    }\n",
       "\n",
       "    .dataframe thead th {\n",
       "        text-align: right;\n",
       "    }\n",
       "</style>\n",
       "<table border=\"1\" class=\"dataframe\">\n",
       "  <thead>\n",
       "    <tr style=\"text-align: right;\">\n",
       "      <th></th>\n",
       "      <th>source</th>\n",
       "      <th>amount_all</th>\n",
       "      <th>cost</th>\n",
       "      <th>CAC</th>\n",
       "    </tr>\n",
       "  </thead>\n",
       "  <tbody>\n",
       "    <tr>\n",
       "      <th>3</th>\n",
       "      <td>youtube_channel_reklama</td>\n",
       "      <td>2686</td>\n",
       "      <td>1068.119204</td>\n",
       "      <td>0.397662</td>\n",
       "    </tr>\n",
       "    <tr>\n",
       "      <th>0</th>\n",
       "      <td>yandex_direct</td>\n",
       "      <td>4817</td>\n",
       "      <td>2233.111449</td>\n",
       "      <td>0.463590</td>\n",
       "    </tr>\n",
       "    <tr>\n",
       "      <th>1</th>\n",
       "      <td>instagram_new_adverts</td>\n",
       "      <td>3347</td>\n",
       "      <td>2161.441691</td>\n",
       "      <td>0.645785</td>\n",
       "    </tr>\n",
       "    <tr>\n",
       "      <th>2</th>\n",
       "      <td>facebook_ads</td>\n",
       "      <td>2726</td>\n",
       "      <td>2140.904643</td>\n",
       "      <td>0.785365</td>\n",
       "    </tr>\n",
       "  </tbody>\n",
       "</table>\n",
       "</div>"
      ],
      "text/plain": [
       "                    source  amount_all         cost       CAC\n",
       "3  youtube_channel_reklama        2686  1068.119204  0.397662\n",
       "0            yandex_direct        4817  2233.111449  0.463590\n",
       "1    instagram_new_adverts        3347  2161.441691  0.645785\n",
       "2             facebook_ads        2726  2140.904643  0.785365"
      ]
     },
     "execution_count": 49,
     "metadata": {},
     "output_type": "execute_result"
    }
   ],
   "source": [
    "pivot_source = pivot_source.merge(all_cost, on='source')\n",
    "pivot_source['CAC'] = pivot_source['cost']/pivot_source['amount_all']\n",
    "pivot_source[['source','amount_all','cost','CAC']].sort_values(by='CAC')"
   ]
  },
  {
   "cell_type": "markdown",
   "metadata": {},
   "source": [
    "Наименьшие затраты на привлечение пользователя показывает канал youtube_channel_reklama, но с этого источника пришло наименьшее количество пользователей, затем идёт yandex_direct, который и привлёк больше всего пользователей. Было бы интересно посмотреть ещё данные о количестве показов и кликов, посчитать CTR, чтобы выяснить, на самом ли деле поток зависит от выбора канала, или необходимо под каждый отдельно разрабатывать свою рекламу, так как в этих каналах разная целевая аудитория. Также количество показов нам может сказать о том, насколько дорогой один показ и, вообще, как часто показывается реклама в каждом канале. Возможно, с источника youtube_channel_reklama пришло пользователей меньше, чем с yandex_direct, потому что выбрана низкая цена одного показа, из-за этого наша реклама проигрывает в рекламном аукционе и меньше показывается аудитории. Из этого и формируется такой хороший показатель CAC. Возможно, увеличив цену одного показа, мы увеличим количество показов и количество привлечённых пользователей, но тогда затраты на привличение одно пользователя вырастут."
   ]
  },
  {
   "cell_type": "markdown",
   "metadata": {},
   "source": [
    "###  4. Проверка гипотез"
   ]
  },
  {
   "cell_type": "markdown",
   "metadata": {},
   "source": [
    "###### Время прохождения различается в зависимости от выбора типа прохождения "
   ]
  },
  {
   "cell_type": "markdown",
   "metadata": {},
   "source": [
    "Нулевая гипотеза: время прохождения первого уровня через победу над первым врагом не отличается от времени прохождения через выполнение проекта.\n",
    "\n",
    "Альтернативная гипотеза: время прохождения первого уровня различается в зависимости от выбора типа прохождения."
   ]
  },
  {
   "cell_type": "code",
   "execution_count": 50,
   "metadata": {},
   "outputs": [],
   "source": [
    "def display_var(sel_1, sel_2):\n",
    "    display(\n",
    "        'Дисперсия 1: {:.6f}'.format(np.var(sel_1, ddof=1)),\n",
    "        'Дисперсия 2: {:.6f}'.format(np.var(sel_2, ddof=1)))\n",
    "#напишем функцию для проверки дисперсий 2х выборок"
   ]
  },
  {
   "cell_type": "code",
   "execution_count": 51,
   "metadata": {},
   "outputs": [],
   "source": [
    "project_users_time = main_time.query('type_finished == \"project\"')\n",
    "battle_users_time = main_time.query('type_finished == \"battle\"')"
   ]
  },
  {
   "cell_type": "code",
   "execution_count": 52,
   "metadata": {},
   "outputs": [
    {
     "data": {
      "text/plain": [
       "'Дисперсия 1: 12.437774'"
      ]
     },
     "metadata": {},
     "output_type": "display_data"
    },
    {
     "data": {
      "text/plain": [
       "'Дисперсия 2: 16.860053'"
      ]
     },
     "metadata": {},
     "output_type": "display_data"
    }
   ],
   "source": [
    "display_var(project_users_time['days_finished'], battle_users_time['days_finished'])\n",
    "#проверим дисперсии на равенство"
   ]
  },
  {
   "cell_type": "markdown",
   "metadata": {},
   "source": [
    "Дисперсиии различные, значит параметр equal_var=False.\n",
    "\n",
    "Критический уровень значимости возьмём 5%."
   ]
  },
  {
   "cell_type": "code",
   "execution_count": 53,
   "metadata": {},
   "outputs": [],
   "source": [
    "def t_test_func(sel_1, sel_2, alpha, eq_var):\n",
    "    results = st.ttest_ind(sel_1, sel_2, equal_var = eq_var)\n",
    "    display('p-value = {}'.format(results.pvalue))\n",
    "    if results.pvalue < alpha:\n",
    "        display('Отвергаем нулевую гипотезу.')\n",
    "    else:\n",
    "        display(\n",
    "            'Не получилось отвергнуть нулевую гипотезу, с вероятностью {:.2%} такое различие можно получить случайно.'.\n",
    "            format(results.pvalue))\n",
    "#напишем функцию для проверки гипотезы"
   ]
  },
  {
   "cell_type": "code",
   "execution_count": 54,
   "metadata": {},
   "outputs": [
    {
     "data": {
      "text/plain": [
       "'p-value = 2.6237027268062713e-106'"
      ]
     },
     "metadata": {},
     "output_type": "display_data"
    },
    {
     "data": {
      "text/plain": [
       "'Отвергаем нулевую гипотезу.'"
      ]
     },
     "metadata": {},
     "output_type": "display_data"
    }
   ],
   "source": [
    "t_test_func(project_users_time['days_finished'], battle_users_time['days_finished'], 0.05, False)\n",
    "#проверим гипотезу"
   ]
  },
  {
   "cell_type": "markdown",
   "metadata": {},
   "source": [
    "Так как p-value получили меньше критического уровня значимости, значит время прохождения первого уровня различается в зависимости от выбора типа прохождения."
   ]
  },
  {
   "cell_type": "markdown",
   "metadata": {},
   "source": [
    "######  Средняя стоимость привлечения одного пользователя у разных источников разная."
   ]
  },
  {
   "cell_type": "markdown",
   "metadata": {},
   "source": [
    "Нулевая гипотеза: средняя стоимость привлечения одного пользователя у всех источников одинаковая.\n",
    "\n",
    "Альтернативная гипотеза: средняя стоимость привлечения одного пользователя разная у разных источников."
   ]
  },
  {
   "cell_type": "code",
   "execution_count": 55,
   "metadata": {},
   "outputs": [],
   "source": [
    "users_per_source = game_actions.groupby(['source', 'first_visit_date'])\\\n",
    "                               .agg({'user_id':'nunique'})\\\n",
    "                               .reset_index()\n",
    "users_per_source['first_visit_date'] = pd.to_datetime(users_per_source['first_visit_date'])\n",
    "users_per_source.columns = ['source', 'day', 'user_id']\n",
    "#рассчитаем ежедневное количество привлечённых пользователей по источникам"
   ]
  },
  {
   "cell_type": "code",
   "execution_count": 56,
   "metadata": {},
   "outputs": [],
   "source": [
    "all_cost = ad_cost.merge(users_per_source, on=['source','day'])\n",
    "all_cost['cost_per_user'] = all_cost['cost']/all_cost['user_id']\n",
    "all_cost_pivot = all_cost.pivot_table(index='day', \n",
    "                                      columns='source', \n",
    "                                      values='cost_per_user', \n",
    "                                      aggfunc='sum')\n",
    "#рассчитаем ежедневный САС по источникам"
   ]
  },
  {
   "cell_type": "code",
   "execution_count": 57,
   "metadata": {},
   "outputs": [],
   "source": [
    "source = all_cost_pivot.columns.to_list() #создадим список названий источников"
   ]
  },
  {
   "cell_type": "code",
   "execution_count": 58,
   "metadata": {},
   "outputs": [
    {
     "data": {
      "text/plain": [
       "'Сравнение дисперсий facebook_ads и youtube_channel_reklama'"
      ]
     },
     "metadata": {},
     "output_type": "display_data"
    },
    {
     "data": {
      "text/plain": [
       "'Дисперсия 1: 0.002488'"
      ]
     },
     "metadata": {},
     "output_type": "display_data"
    },
    {
     "data": {
      "text/plain": [
       "'Дисперсия 2: 0.000783'"
      ]
     },
     "metadata": {},
     "output_type": "display_data"
    },
    {
     "data": {
      "text/plain": [
       "'Сравнение дисперсий facebook_ads и yandex_direct'"
      ]
     },
     "metadata": {},
     "output_type": "display_data"
    },
    {
     "data": {
      "text/plain": [
       "'Дисперсия 1: 0.002488'"
      ]
     },
     "metadata": {},
     "output_type": "display_data"
    },
    {
     "data": {
      "text/plain": [
       "'Дисперсия 2: 0.000260'"
      ]
     },
     "metadata": {},
     "output_type": "display_data"
    },
    {
     "data": {
      "text/plain": [
       "'Сравнение дисперсий facebook_ads и instagram_new_adverts'"
      ]
     },
     "metadata": {},
     "output_type": "display_data"
    },
    {
     "data": {
      "text/plain": [
       "'Дисперсия 1: 0.002488'"
      ]
     },
     "metadata": {},
     "output_type": "display_data"
    },
    {
     "data": {
      "text/plain": [
       "'Дисперсия 2: 0.000777'"
      ]
     },
     "metadata": {},
     "output_type": "display_data"
    },
    {
     "data": {
      "text/plain": [
       "'Сравнение дисперсий instagram_new_adverts и youtube_channel_reklama'"
      ]
     },
     "metadata": {},
     "output_type": "display_data"
    },
    {
     "data": {
      "text/plain": [
       "'Дисперсия 1: 0.000777'"
      ]
     },
     "metadata": {},
     "output_type": "display_data"
    },
    {
     "data": {
      "text/plain": [
       "'Дисперсия 2: 0.000783'"
      ]
     },
     "metadata": {},
     "output_type": "display_data"
    },
    {
     "data": {
      "text/plain": [
       "'Сравнение дисперсий instagram_new_adverts и yandex_direct'"
      ]
     },
     "metadata": {},
     "output_type": "display_data"
    },
    {
     "data": {
      "text/plain": [
       "'Дисперсия 1: 0.000777'"
      ]
     },
     "metadata": {},
     "output_type": "display_data"
    },
    {
     "data": {
      "text/plain": [
       "'Дисперсия 2: 0.000260'"
      ]
     },
     "metadata": {},
     "output_type": "display_data"
    },
    {
     "data": {
      "text/plain": [
       "'Сравнение дисперсий yandex_direct и youtube_channel_reklama'"
      ]
     },
     "metadata": {},
     "output_type": "display_data"
    },
    {
     "data": {
      "text/plain": [
       "'Дисперсия 1: 0.000260'"
      ]
     },
     "metadata": {},
     "output_type": "display_data"
    },
    {
     "data": {
      "text/plain": [
       "'Дисперсия 2: 0.000783'"
      ]
     },
     "metadata": {},
     "output_type": "display_data"
    }
   ],
   "source": [
    "for i in source:\n",
    "    for j in reversed(source):\n",
    "        if i != j:\n",
    "            display('Сравнение дисперсий {} и {}'.format(i, j))\n",
    "            display_var(all_cost_pivot[i], all_cost_pivot[j])\n",
    "        else: \n",
    "            break"
   ]
  },
  {
   "cell_type": "markdown",
   "metadata": {},
   "source": [
    "Дисперсии различные. Значит параметр equal_var=False."
   ]
  },
  {
   "cell_type": "code",
   "execution_count": 59,
   "metadata": {},
   "outputs": [
    {
     "data": {
      "text/plain": [
       "'=============================================================================='"
      ]
     },
     "metadata": {},
     "output_type": "display_data"
    },
    {
     "data": {
      "text/plain": [
       "'Сравнение средней стоимости привлечения facebook_ads и youtube_channel_reklama'"
      ]
     },
     "metadata": {},
     "output_type": "display_data"
    },
    {
     "data": {
      "text/plain": [
       "'p-value = 1.410512322436684e-05'"
      ]
     },
     "metadata": {},
     "output_type": "display_data"
    },
    {
     "data": {
      "text/plain": [
       "'Отвергаем нулевую гипотезу.'"
      ]
     },
     "metadata": {},
     "output_type": "display_data"
    },
    {
     "data": {
      "text/plain": [
       "'=============================================================================='"
      ]
     },
     "metadata": {},
     "output_type": "display_data"
    },
    {
     "data": {
      "text/plain": [
       "''"
      ]
     },
     "metadata": {},
     "output_type": "display_data"
    },
    {
     "data": {
      "text/plain": [
       "'=============================================================================='"
      ]
     },
     "metadata": {},
     "output_type": "display_data"
    },
    {
     "data": {
      "text/plain": [
       "'Сравнение средней стоимости привлечения facebook_ads и yandex_direct'"
      ]
     },
     "metadata": {},
     "output_type": "display_data"
    },
    {
     "data": {
      "text/plain": [
       "'p-value = 0.00010071258653693135'"
      ]
     },
     "metadata": {},
     "output_type": "display_data"
    },
    {
     "data": {
      "text/plain": [
       "'Отвергаем нулевую гипотезу.'"
      ]
     },
     "metadata": {},
     "output_type": "display_data"
    },
    {
     "data": {
      "text/plain": [
       "'=============================================================================='"
      ]
     },
     "metadata": {},
     "output_type": "display_data"
    },
    {
     "data": {
      "text/plain": [
       "''"
      ]
     },
     "metadata": {},
     "output_type": "display_data"
    },
    {
     "data": {
      "text/plain": [
       "'=============================================================================='"
      ]
     },
     "metadata": {},
     "output_type": "display_data"
    },
    {
     "data": {
      "text/plain": [
       "'Сравнение средней стоимости привлечения facebook_ads и instagram_new_adverts'"
      ]
     },
     "metadata": {},
     "output_type": "display_data"
    },
    {
     "data": {
      "text/plain": [
       "'p-value = 0.011153513393843498'"
      ]
     },
     "metadata": {},
     "output_type": "display_data"
    },
    {
     "data": {
      "text/plain": [
       "'Отвергаем нулевую гипотезу.'"
      ]
     },
     "metadata": {},
     "output_type": "display_data"
    },
    {
     "data": {
      "text/plain": [
       "'=============================================================================='"
      ]
     },
     "metadata": {},
     "output_type": "display_data"
    },
    {
     "data": {
      "text/plain": [
       "''"
      ]
     },
     "metadata": {},
     "output_type": "display_data"
    },
    {
     "data": {
      "text/plain": [
       "'=============================================================================='"
      ]
     },
     "metadata": {},
     "output_type": "display_data"
    },
    {
     "data": {
      "text/plain": [
       "'Сравнение средней стоимости привлечения instagram_new_adverts и youtube_channel_reklama'"
      ]
     },
     "metadata": {},
     "output_type": "display_data"
    },
    {
     "data": {
      "text/plain": [
       "'p-value = 4.294567609729548e-06'"
      ]
     },
     "metadata": {},
     "output_type": "display_data"
    },
    {
     "data": {
      "text/plain": [
       "'Отвергаем нулевую гипотезу.'"
      ]
     },
     "metadata": {},
     "output_type": "display_data"
    },
    {
     "data": {
      "text/plain": [
       "'=============================================================================='"
      ]
     },
     "metadata": {},
     "output_type": "display_data"
    },
    {
     "data": {
      "text/plain": [
       "''"
      ]
     },
     "metadata": {},
     "output_type": "display_data"
    },
    {
     "data": {
      "text/plain": [
       "'=============================================================================='"
      ]
     },
     "metadata": {},
     "output_type": "display_data"
    },
    {
     "data": {
      "text/plain": [
       "'Сравнение средней стоимости привлечения instagram_new_adverts и yandex_direct'"
      ]
     },
     "metadata": {},
     "output_type": "display_data"
    },
    {
     "data": {
      "text/plain": [
       "'p-value = 2.1201256723769395e-05'"
      ]
     },
     "metadata": {},
     "output_type": "display_data"
    },
    {
     "data": {
      "text/plain": [
       "'Отвергаем нулевую гипотезу.'"
      ]
     },
     "metadata": {},
     "output_type": "display_data"
    },
    {
     "data": {
      "text/plain": [
       "'=============================================================================='"
      ]
     },
     "metadata": {},
     "output_type": "display_data"
    },
    {
     "data": {
      "text/plain": [
       "''"
      ]
     },
     "metadata": {},
     "output_type": "display_data"
    },
    {
     "data": {
      "text/plain": [
       "'=============================================================================='"
      ]
     },
     "metadata": {},
     "output_type": "display_data"
    },
    {
     "data": {
      "text/plain": [
       "'Сравнение средней стоимости привлечения yandex_direct и youtube_channel_reklama'"
      ]
     },
     "metadata": {},
     "output_type": "display_data"
    },
    {
     "data": {
      "text/plain": [
       "'p-value = 0.06306160545354701'"
      ]
     },
     "metadata": {},
     "output_type": "display_data"
    },
    {
     "data": {
      "text/plain": [
       "'Не получилось отвергнуть нулевую гипотезу, с вероятностью 6.31% такое различие можно получить случайно.'"
      ]
     },
     "metadata": {},
     "output_type": "display_data"
    },
    {
     "data": {
      "text/plain": [
       "'=============================================================================='"
      ]
     },
     "metadata": {},
     "output_type": "display_data"
    },
    {
     "data": {
      "text/plain": [
       "''"
      ]
     },
     "metadata": {},
     "output_type": "display_data"
    }
   ],
   "source": [
    "for i in source:\n",
    "    for j in reversed(source):\n",
    "        if i != j:\n",
    "            display('==============================================================================')\n",
    "            display('Сравнение средней стоимости привлечения {} и {}'.format(i, j))\n",
    "            t_test_func(all_cost_pivot[i], all_cost_pivot[j], 0.05, False)\n",
    "            display('==============================================================================')\n",
    "            display('')\n",
    "        else: \n",
    "            break"
   ]
  },
  {
   "cell_type": "markdown",
   "metadata": {},
   "source": [
    "Получаем, что у всех источников разная стоимость привлечения одного пользователя. Выделяются только источники yandex_direct и youtube_channel_reklama. Различия в средних стоимостях привлечения пользователя из этих источников с вероятностью 6.31% можно получить случайно."
   ]
  },
  {
   "cell_type": "markdown",
   "metadata": {},
   "source": [
    "### Вывод."
   ]
  },
  {
   "cell_type": "markdown",
   "metadata": {},
   "source": [
    "1. Пользователи, которые выбирают тип прохождения через выполнение проекта, затрачивают больше времени на прохождение первого уровня, чем те, которые выбирают победу над первым врагом. Различия значимые. Соответственно, пользователь, проходящий уровень через выполнение проекта дольше задерживается в игре на уровне. Однако, таких пользователей в 2 раза меньше, чем тех, кто проходит через победу над врагом. Однако, все пользователи, даже те, которые не проходят первый уровень, строят здания. Как минимум, первое, а у большинства ещё и второе бывает построеным.\n",
    "2. Пользователи, прошедшие первый уровень через выполнение проекта, в среднем, значительно больше строят зданий. В абсолютных показателях больше всего строят здания те, кто не проходит первый уровень. Значит, даже те, кто не проходит первый уровень, будет обеспечивать нам просмотры рекламы, как следствие, монетизацию. Но LTV таких пользователей будет ниже, так как, они меньше строят здания. Самый выгодный для нас игрок будет тот, кто проходит уровень через выполнение проекта.\n",
    "3. По количеству построек у пользователя любого типа прохождения/не прохождения, в лидерах spaceport, ненамного меньшие показатели у assembly_shop, совсем небольшие у research_center: чуть более 10% всех построек - доля research_center.\n",
    "4. Больше всего пользователей пришло с Яндекс.Директ. Однако, пользователи, пришедшие с этого ресурса, реже на 1.2% выбирают выполнение проекта. Но данное различие не очень значительно, особенно учитывая значительные различия в количестве привлечённых пользователей.\n",
    "5. Наименьшая стоимость привлечения одного пользователя через Яндекс.Директ и Ютуб. Различия в средней стоимости привлечения по сравнению с другими источниками являются значительными.\n",
    "\n",
    "Рекомендации:\n",
    "- Выбрать два основных источника привлечения пользователей: Яндекс.Директ и Ютуб.\n",
    "- Пересмотреть рекламные кампании на площадках Инстраграмм и Фейсбук. Узнать, почему такая высокая стоимость привлечения одного пользователя, возможно, необходимо лучше узнать целевую аудиторию и её боли.\n",
    "- Добавить сбор данных о количестве показов рекламных объявлений и кликов пользователей, вид рекламы: контекст или таргетинг. Это позволит лучше изучить, что влияет на стоимость привлечения пользователя.\n",
    "- При внедрении монетизации за счёт рекламы на экране постройки здания необходимо учесть частоту построек: самая дорогая реклама на экране постройки spaceport (так как чаще всего пользователи строят это здание) и на постройке assembly_shop (так как это здание является первой постройкой и его строят все пользователи). На экране research_center будет дешёвая реклама."
   ]
  }
 ],
 "metadata": {
  "ExecuteTimeLog": [
   {
    "duration": 1169,
    "start_time": "2021-11-01T22:08:59.561Z"
   },
   {
    "duration": 5,
    "start_time": "2021-11-01T22:09:04.311Z"
   },
   {
    "duration": 2468,
    "start_time": "2021-11-01T22:14:00.386Z"
   },
   {
    "duration": 1893,
    "start_time": "2021-11-01T22:15:37.491Z"
   },
   {
    "duration": 291,
    "start_time": "2021-11-01T22:30:33.276Z"
   },
   {
    "duration": 28,
    "start_time": "2021-11-01T22:31:13.811Z"
   },
   {
    "duration": 240,
    "start_time": "2021-11-01T22:34:03.458Z"
   },
   {
    "duration": 60,
    "start_time": "2021-11-01T22:34:41.648Z"
   },
   {
    "duration": 18,
    "start_time": "2021-11-01T22:35:06.474Z"
   },
   {
    "duration": 247,
    "start_time": "2021-11-01T22:35:35.101Z"
   },
   {
    "duration": 243,
    "start_time": "2021-11-01T22:41:36.336Z"
   },
   {
    "duration": 69,
    "start_time": "2021-11-01T22:41:45.364Z"
   },
   {
    "duration": 28,
    "start_time": "2021-11-01T22:41:50.401Z"
   },
   {
    "duration": 10,
    "start_time": "2021-11-01T22:42:14.857Z"
   },
   {
    "duration": 242,
    "start_time": "2021-11-01T22:43:19.187Z"
   },
   {
    "duration": 253,
    "start_time": "2021-11-01T22:43:22.457Z"
   },
   {
    "duration": 7,
    "start_time": "2021-11-01T22:43:28.046Z"
   },
   {
    "duration": 248,
    "start_time": "2021-11-01T22:43:33.646Z"
   },
   {
    "duration": 268,
    "start_time": "2021-11-01T22:43:43.574Z"
   },
   {
    "duration": 61,
    "start_time": "2021-11-01T22:43:49.819Z"
   },
   {
    "duration": 60,
    "start_time": "2021-11-01T22:43:56.573Z"
   },
   {
    "duration": 63,
    "start_time": "2021-11-01T22:44:22.468Z"
   },
   {
    "duration": 63,
    "start_time": "2021-11-01T22:44:53.229Z"
   },
   {
    "duration": 21,
    "start_time": "2021-11-01T22:45:23.456Z"
   },
   {
    "duration": 60,
    "start_time": "2021-11-01T22:45:45.616Z"
   },
   {
    "duration": 79,
    "start_time": "2021-11-01T22:46:22.754Z"
   },
   {
    "duration": 71,
    "start_time": "2021-11-01T22:46:39.552Z"
   },
   {
    "duration": 29,
    "start_time": "2021-11-01T22:46:45.883Z"
   },
   {
    "duration": 38,
    "start_time": "2021-11-01T22:46:50.232Z"
   },
   {
    "duration": 32,
    "start_time": "2021-11-01T22:52:45.531Z"
   },
   {
    "duration": 1116,
    "start_time": "2021-11-01T22:53:02.106Z"
   },
   {
    "duration": 245,
    "start_time": "2021-11-01T22:53:03.224Z"
   },
   {
    "duration": 12,
    "start_time": "2021-11-01T22:53:03.471Z"
   },
   {
    "duration": 31,
    "start_time": "2021-11-01T22:53:03.484Z"
   },
   {
    "duration": 65,
    "start_time": "2021-11-01T22:53:03.516Z"
   },
   {
    "duration": 81,
    "start_time": "2021-11-01T22:53:03.582Z"
   },
   {
    "duration": 66,
    "start_time": "2021-11-01T22:53:03.665Z"
   },
   {
    "duration": 92,
    "start_time": "2021-11-01T22:53:03.732Z"
   },
   {
    "duration": 39,
    "start_time": "2021-11-01T22:53:03.825Z"
   },
   {
    "duration": 375,
    "start_time": "2021-11-01T22:53:21.123Z"
   },
   {
    "duration": 40,
    "start_time": "2021-11-01T22:53:37.456Z"
   },
   {
    "duration": 10,
    "start_time": "2021-11-01T22:53:44.164Z"
   },
   {
    "duration": 25,
    "start_time": "2021-11-01T22:54:52.878Z"
   },
   {
    "duration": 10,
    "start_time": "2021-11-01T22:54:58.044Z"
   },
   {
    "duration": 234,
    "start_time": "2021-11-01T22:55:01.857Z"
   },
   {
    "duration": 1119,
    "start_time": "2021-11-01T22:55:09.105Z"
   },
   {
    "duration": 236,
    "start_time": "2021-11-01T22:55:10.227Z"
   },
   {
    "duration": 13,
    "start_time": "2021-11-01T22:55:10.468Z"
   },
   {
    "duration": 29,
    "start_time": "2021-11-01T22:55:10.483Z"
   },
   {
    "duration": 77,
    "start_time": "2021-11-01T22:55:10.515Z"
   },
   {
    "duration": 85,
    "start_time": "2021-11-01T22:55:10.594Z"
   },
   {
    "duration": 68,
    "start_time": "2021-11-01T22:55:10.681Z"
   },
   {
    "duration": 86,
    "start_time": "2021-11-01T22:55:10.751Z"
   },
   {
    "duration": 54,
    "start_time": "2021-11-01T22:55:10.839Z"
   },
   {
    "duration": 29,
    "start_time": "2021-11-01T22:55:10.895Z"
   },
   {
    "duration": 11,
    "start_time": "2021-11-01T22:55:16.654Z"
   },
   {
    "duration": 23,
    "start_time": "2021-11-01T22:55:47.279Z"
   },
   {
    "duration": 1489,
    "start_time": "2021-11-04T17:15:13.968Z"
   },
   {
    "duration": 1455,
    "start_time": "2021-11-06T20:59:04.846Z"
   },
   {
    "duration": 397,
    "start_time": "2021-11-06T20:59:06.304Z"
   },
   {
    "duration": 22,
    "start_time": "2021-11-06T20:59:06.705Z"
   },
   {
    "duration": 60,
    "start_time": "2021-11-06T20:59:06.730Z"
   },
   {
    "duration": 98,
    "start_time": "2021-11-06T20:59:06.793Z"
   },
   {
    "duration": 113,
    "start_time": "2021-11-06T20:59:06.894Z"
   },
   {
    "duration": 98,
    "start_time": "2021-11-06T20:59:07.009Z"
   },
   {
    "duration": 137,
    "start_time": "2021-11-06T20:59:07.112Z"
   },
   {
    "duration": 54,
    "start_time": "2021-11-06T20:59:07.251Z"
   },
   {
    "duration": 51,
    "start_time": "2021-11-06T20:59:07.308Z"
   },
   {
    "duration": 15,
    "start_time": "2021-11-06T20:59:34.449Z"
   },
   {
    "duration": 11,
    "start_time": "2021-11-06T21:00:08.678Z"
   },
   {
    "duration": 391,
    "start_time": "2021-11-06T21:03:14.472Z"
   },
   {
    "duration": 93,
    "start_time": "2021-11-06T21:06:42.289Z"
   },
   {
    "duration": 92,
    "start_time": "2021-11-06T21:07:22.439Z"
   },
   {
    "duration": 47,
    "start_time": "2021-11-06T21:08:01.971Z"
   },
   {
    "duration": 11,
    "start_time": "2021-11-06T21:08:07.007Z"
   },
   {
    "duration": 1495,
    "start_time": "2021-11-06T21:08:19.095Z"
   },
   {
    "duration": 300,
    "start_time": "2021-11-06T21:08:20.593Z"
   },
   {
    "duration": 17,
    "start_time": "2021-11-06T21:08:20.896Z"
   },
   {
    "duration": 49,
    "start_time": "2021-11-06T21:08:20.915Z"
   },
   {
    "duration": 87,
    "start_time": "2021-11-06T21:08:20.967Z"
   },
   {
    "duration": 107,
    "start_time": "2021-11-06T21:08:21.057Z"
   },
   {
    "duration": 96,
    "start_time": "2021-11-06T21:08:21.167Z"
   },
   {
    "duration": 121,
    "start_time": "2021-11-06T21:08:21.266Z"
   },
   {
    "duration": 79,
    "start_time": "2021-11-06T21:08:21.390Z"
   },
   {
    "duration": 58,
    "start_time": "2021-11-06T21:08:21.471Z"
   },
   {
    "duration": 37,
    "start_time": "2021-11-06T21:08:21.532Z"
   },
   {
    "duration": 14,
    "start_time": "2021-11-06T21:08:21.572Z"
   },
   {
    "duration": 11,
    "start_time": "2021-11-06T21:08:21.589Z"
   },
   {
    "duration": 20,
    "start_time": "2021-11-06T21:08:51.019Z"
   },
   {
    "duration": 36,
    "start_time": "2021-11-06T21:08:58.739Z"
   },
   {
    "duration": 11,
    "start_time": "2021-11-06T21:19:33.724Z"
   },
   {
    "duration": 437,
    "start_time": "2021-11-06T21:26:11.401Z"
   },
   {
    "duration": 302,
    "start_time": "2021-11-06T21:26:30.012Z"
   },
   {
    "duration": 322,
    "start_time": "2021-11-06T21:26:41.775Z"
   },
   {
    "duration": 17,
    "start_time": "2021-11-06T21:27:39.743Z"
   },
   {
    "duration": 6,
    "start_time": "2021-11-06T21:28:25.260Z"
   },
   {
    "duration": 28,
    "start_time": "2021-11-06T21:29:06.729Z"
   },
   {
    "duration": 95,
    "start_time": "2021-11-06T21:29:43.481Z"
   },
   {
    "duration": 403,
    "start_time": "2021-11-06T21:31:27.219Z"
   },
   {
    "duration": 286,
    "start_time": "2021-11-06T21:31:39.793Z"
   },
   {
    "duration": 255,
    "start_time": "2021-11-06T21:31:48.794Z"
   },
   {
    "duration": 94,
    "start_time": "2021-11-06T21:31:56.350Z"
   },
   {
    "duration": 259,
    "start_time": "2021-11-06T21:32:44.549Z"
   },
   {
    "duration": 13,
    "start_time": "2021-11-06T21:34:47.671Z"
   },
   {
    "duration": 330,
    "start_time": "2021-11-06T21:35:17.509Z"
   },
   {
    "duration": 288,
    "start_time": "2021-11-06T21:35:34.994Z"
   },
   {
    "duration": 15,
    "start_time": "2021-11-06T21:37:42.729Z"
   },
   {
    "duration": 53,
    "start_time": "2021-11-06T21:37:51.997Z"
   },
   {
    "duration": 41,
    "start_time": "2021-11-06T21:39:23.212Z"
   },
   {
    "duration": 26,
    "start_time": "2021-11-06T21:48:13.277Z"
   },
   {
    "duration": 275,
    "start_time": "2021-11-06T21:48:17.974Z"
   },
   {
    "duration": 23,
    "start_time": "2021-11-06T21:48:21.261Z"
   },
   {
    "duration": 281,
    "start_time": "2021-11-06T21:51:25.392Z"
   },
   {
    "duration": 279,
    "start_time": "2021-11-06T21:53:11.696Z"
   },
   {
    "duration": 282,
    "start_time": "2021-11-06T21:53:34.195Z"
   },
   {
    "duration": 40,
    "start_time": "2021-11-06T21:54:33.375Z"
   },
   {
    "duration": 5,
    "start_time": "2021-11-06T21:54:47.652Z"
   },
   {
    "duration": 5,
    "start_time": "2021-11-06T21:54:52.381Z"
   },
   {
    "duration": 286,
    "start_time": "2021-11-06T21:55:59.043Z"
   },
   {
    "duration": 285,
    "start_time": "2021-11-06T21:56:14.966Z"
   },
   {
    "duration": 307,
    "start_time": "2021-11-06T21:56:21.085Z"
   },
   {
    "duration": 95,
    "start_time": "2021-11-06T21:56:28.992Z"
   },
   {
    "duration": 25,
    "start_time": "2021-11-06T21:56:37.409Z"
   },
   {
    "duration": 26,
    "start_time": "2021-11-06T21:56:51.036Z"
   },
   {
    "duration": 43,
    "start_time": "2021-11-06T21:57:01.496Z"
   },
   {
    "duration": 5,
    "start_time": "2021-11-06T21:57:03.321Z"
   },
   {
    "duration": 24,
    "start_time": "2021-11-06T21:57:05.222Z"
   },
   {
    "duration": 87,
    "start_time": "2021-11-06T21:57:38.827Z"
   },
   {
    "duration": 59,
    "start_time": "2021-11-06T21:57:44.398Z"
   },
   {
    "duration": 92,
    "start_time": "2021-11-06T21:59:40.751Z"
   },
   {
    "duration": 38,
    "start_time": "2021-11-06T22:04:34.160Z"
   },
   {
    "duration": 257,
    "start_time": "2021-11-06T22:06:27.861Z"
   },
   {
    "duration": 288,
    "start_time": "2021-11-06T22:07:09.377Z"
   },
   {
    "duration": 263,
    "start_time": "2021-11-06T22:07:17.758Z"
   },
   {
    "duration": 6,
    "start_time": "2021-11-06T22:07:22.495Z"
   },
   {
    "duration": 5,
    "start_time": "2021-11-06T22:08:33.034Z"
   },
   {
    "duration": 5,
    "start_time": "2021-11-06T22:15:11.179Z"
   },
   {
    "duration": 5,
    "start_time": "2021-11-06T22:15:24.961Z"
   },
   {
    "duration": 247,
    "start_time": "2021-11-06T22:16:07.617Z"
   },
   {
    "duration": 269,
    "start_time": "2021-11-06T22:17:28.669Z"
   },
   {
    "duration": 82,
    "start_time": "2021-11-06T22:17:34.947Z"
   },
   {
    "duration": 83,
    "start_time": "2021-11-06T22:17:43.180Z"
   },
   {
    "duration": 85,
    "start_time": "2021-11-06T22:18:09.282Z"
   },
   {
    "duration": 851,
    "start_time": "2021-11-06T22:19:33.351Z"
   },
   {
    "duration": 857,
    "start_time": "2021-11-06T22:19:44.326Z"
   },
   {
    "duration": 1014,
    "start_time": "2021-11-06T22:20:24.927Z"
   },
   {
    "duration": 815,
    "start_time": "2021-11-06T22:20:35.313Z"
   },
   {
    "duration": 856,
    "start_time": "2021-11-06T22:21:41.651Z"
   },
   {
    "duration": 799,
    "start_time": "2021-11-06T22:23:16.632Z"
   },
   {
    "duration": 756,
    "start_time": "2021-11-06T22:23:25.293Z"
   },
   {
    "duration": 370,
    "start_time": "2021-11-06T22:24:57.781Z"
   },
   {
    "duration": 404,
    "start_time": "2021-11-06T22:25:23.408Z"
   },
   {
    "duration": 388,
    "start_time": "2021-11-06T22:25:36.344Z"
   },
   {
    "duration": 566,
    "start_time": "2021-11-06T22:27:08.366Z"
   },
   {
    "duration": 310,
    "start_time": "2021-11-06T22:27:24.448Z"
   },
   {
    "duration": 321,
    "start_time": "2021-11-06T22:27:34.027Z"
   },
   {
    "duration": 245,
    "start_time": "2021-11-06T22:27:41.250Z"
   },
   {
    "duration": 84,
    "start_time": "2021-11-06T22:27:51.277Z"
   },
   {
    "duration": 428,
    "start_time": "2021-11-06T22:27:55.668Z"
   },
   {
    "duration": 281,
    "start_time": "2021-11-06T22:28:04.994Z"
   },
   {
    "duration": 306,
    "start_time": "2021-11-06T22:28:15.183Z"
   },
   {
    "duration": 412,
    "start_time": "2021-11-06T22:28:38.380Z"
   },
   {
    "duration": 309,
    "start_time": "2021-11-06T22:28:48.483Z"
   },
   {
    "duration": 284,
    "start_time": "2021-11-06T22:28:56.474Z"
   },
   {
    "duration": 279,
    "start_time": "2021-11-06T22:29:12.472Z"
   },
   {
    "duration": 258,
    "start_time": "2021-11-06T22:29:22.681Z"
   },
   {
    "duration": 163,
    "start_time": "2021-11-06T22:29:32.383Z"
   },
   {
    "duration": 161,
    "start_time": "2021-11-06T22:30:11.804Z"
   },
   {
    "duration": 757,
    "start_time": "2021-11-06T22:30:19.557Z"
   },
   {
    "duration": 344,
    "start_time": "2021-11-06T22:30:27.034Z"
   },
   {
    "duration": 165,
    "start_time": "2021-11-06T22:30:31.957Z"
   },
   {
    "duration": 344,
    "start_time": "2021-11-06T22:30:43.745Z"
   },
   {
    "duration": 154,
    "start_time": "2021-11-06T22:31:24.358Z"
   },
   {
    "duration": 163,
    "start_time": "2021-11-06T22:31:29.230Z"
   },
   {
    "duration": 180,
    "start_time": "2021-11-06T22:31:37.536Z"
   },
   {
    "duration": 173,
    "start_time": "2021-11-06T22:31:42.319Z"
   },
   {
    "duration": 347,
    "start_time": "2021-11-06T22:31:46.941Z"
   },
   {
    "duration": 261,
    "start_time": "2021-11-06T22:31:51.715Z"
   },
   {
    "duration": 768,
    "start_time": "2021-11-06T22:32:41.292Z"
   },
   {
    "duration": 762,
    "start_time": "2021-11-06T22:33:04.912Z"
   },
   {
    "duration": 799,
    "start_time": "2021-11-06T22:33:40.698Z"
   },
   {
    "duration": 749,
    "start_time": "2021-11-06T22:34:30.599Z"
   },
   {
    "duration": 5,
    "start_time": "2021-11-06T22:34:48.400Z"
   },
   {
    "duration": 7,
    "start_time": "2021-11-06T22:34:59.541Z"
   },
   {
    "duration": 5,
    "start_time": "2021-11-06T22:39:29.599Z"
   },
   {
    "duration": 732,
    "start_time": "2021-11-06T22:39:39.620Z"
   },
   {
    "duration": 8,
    "start_time": "2021-11-06T22:39:51.613Z"
   },
   {
    "duration": 271,
    "start_time": "2021-11-06T22:40:06.366Z"
   },
   {
    "duration": 260,
    "start_time": "2021-11-06T22:40:32.442Z"
   },
   {
    "duration": 344,
    "start_time": "2021-11-06T22:40:40.385Z"
   },
   {
    "duration": 5,
    "start_time": "2021-11-06T22:44:24.351Z"
   },
   {
    "duration": 267,
    "start_time": "2021-11-06T22:45:10.606Z"
   },
   {
    "duration": 295,
    "start_time": "2021-11-06T22:45:21.043Z"
   },
   {
    "duration": 274,
    "start_time": "2021-11-06T22:46:57.771Z"
   },
   {
    "duration": 275,
    "start_time": "2021-11-06T22:47:53.079Z"
   },
   {
    "duration": 5,
    "start_time": "2021-11-06T22:48:51.393Z"
   },
   {
    "duration": 7,
    "start_time": "2021-11-06T22:48:56.148Z"
   },
   {
    "duration": 8,
    "start_time": "2021-11-06T22:49:11.211Z"
   },
   {
    "duration": 8,
    "start_time": "2021-11-06T22:49:12.917Z"
   },
   {
    "duration": 7,
    "start_time": "2021-11-06T22:49:36.789Z"
   },
   {
    "duration": 9,
    "start_time": "2021-11-06T22:49:39.926Z"
   },
   {
    "duration": 5,
    "start_time": "2021-11-06T22:49:45.622Z"
   },
   {
    "duration": 8,
    "start_time": "2021-11-06T22:49:47.094Z"
   },
   {
    "duration": 7,
    "start_time": "2021-11-06T22:49:52.572Z"
   },
   {
    "duration": 8,
    "start_time": "2021-11-06T22:49:54.972Z"
   },
   {
    "duration": 5,
    "start_time": "2021-11-06T22:50:01.365Z"
   },
   {
    "duration": 8,
    "start_time": "2021-11-06T22:50:03.807Z"
   },
   {
    "duration": 267,
    "start_time": "2021-11-06T22:50:28.922Z"
   },
   {
    "duration": 5,
    "start_time": "2021-11-06T22:50:48.940Z"
   },
   {
    "duration": 8,
    "start_time": "2021-11-06T22:50:50.945Z"
   },
   {
    "duration": 254,
    "start_time": "2021-11-06T22:51:12.189Z"
   },
   {
    "duration": 257,
    "start_time": "2021-11-06T22:51:29.279Z"
   },
   {
    "duration": 276,
    "start_time": "2021-11-06T22:51:34.763Z"
   },
   {
    "duration": 4,
    "start_time": "2021-11-06T22:51:40.090Z"
   },
   {
    "duration": 7,
    "start_time": "2021-11-06T22:51:42.484Z"
   },
   {
    "duration": 5,
    "start_time": "2021-11-06T22:52:10.075Z"
   },
   {
    "duration": 8,
    "start_time": "2021-11-06T22:52:12.300Z"
   },
   {
    "duration": 762,
    "start_time": "2021-11-06T22:52:19.602Z"
   },
   {
    "duration": 117,
    "start_time": "2021-11-06T22:55:16.188Z"
   },
   {
    "duration": 296,
    "start_time": "2021-11-06T22:55:43.904Z"
   },
   {
    "duration": 206,
    "start_time": "2021-11-06T22:56:07.640Z"
   },
   {
    "duration": 268,
    "start_time": "2021-11-06T22:56:12.533Z"
   },
   {
    "duration": 252,
    "start_time": "2021-11-06T22:56:21.199Z"
   },
   {
    "duration": 253,
    "start_time": "2021-11-06T22:57:39.791Z"
   },
   {
    "duration": 421,
    "start_time": "2021-11-06T22:58:28.918Z"
   },
   {
    "duration": 310,
    "start_time": "2021-11-06T22:59:11.129Z"
   },
   {
    "duration": 323,
    "start_time": "2021-11-06T23:00:02.628Z"
   },
   {
    "duration": 437,
    "start_time": "2021-11-06T23:00:09.943Z"
   },
   {
    "duration": 321,
    "start_time": "2021-11-06T23:00:53.403Z"
   },
   {
    "duration": 312,
    "start_time": "2021-11-06T23:01:23.536Z"
   },
   {
    "duration": 299,
    "start_time": "2021-11-06T23:01:38.796Z"
   },
   {
    "duration": 619,
    "start_time": "2021-11-06T23:01:51.516Z"
   },
   {
    "duration": 300,
    "start_time": "2021-11-06T23:02:28.695Z"
   },
   {
    "duration": 309,
    "start_time": "2021-11-06T23:02:43.467Z"
   },
   {
    "duration": 306,
    "start_time": "2021-11-06T23:02:49.217Z"
   },
   {
    "duration": 305,
    "start_time": "2021-11-06T23:03:50.138Z"
   },
   {
    "duration": 318,
    "start_time": "2021-11-06T23:04:24.817Z"
   },
   {
    "duration": 864,
    "start_time": "2021-11-06T23:04:38.960Z"
   },
   {
    "duration": 450,
    "start_time": "2021-11-06T23:04:43.698Z"
   },
   {
    "duration": 1048,
    "start_time": "2021-11-06T23:05:38.196Z"
   },
   {
    "duration": 453,
    "start_time": "2021-11-06T23:05:53.411Z"
   },
   {
    "duration": 308,
    "start_time": "2021-11-06T23:06:06.942Z"
   },
   {
    "duration": 312,
    "start_time": "2021-11-06T23:06:30.839Z"
   },
   {
    "duration": 672,
    "start_time": "2021-11-06T23:07:00.209Z"
   },
   {
    "duration": 308,
    "start_time": "2021-11-06T23:07:04.244Z"
   },
   {
    "duration": 311,
    "start_time": "2021-11-06T23:07:26.353Z"
   },
   {
    "duration": 319,
    "start_time": "2021-11-06T23:07:37.267Z"
   },
   {
    "duration": 1511,
    "start_time": "2021-11-06T23:08:28.900Z"
   },
   {
    "duration": 330,
    "start_time": "2021-11-06T23:08:30.415Z"
   },
   {
    "duration": 21,
    "start_time": "2021-11-06T23:08:30.749Z"
   },
   {
    "duration": 63,
    "start_time": "2021-11-06T23:08:30.773Z"
   },
   {
    "duration": 93,
    "start_time": "2021-11-06T23:08:30.839Z"
   },
   {
    "duration": 111,
    "start_time": "2021-11-06T23:08:30.934Z"
   },
   {
    "duration": 112,
    "start_time": "2021-11-06T23:08:31.048Z"
   },
   {
    "duration": 134,
    "start_time": "2021-11-06T23:08:31.164Z"
   },
   {
    "duration": 82,
    "start_time": "2021-11-06T23:08:31.300Z"
   },
   {
    "duration": 66,
    "start_time": "2021-11-06T23:08:31.385Z"
   },
   {
    "duration": 50,
    "start_time": "2021-11-06T23:08:31.454Z"
   },
   {
    "duration": 25,
    "start_time": "2021-11-06T23:08:31.506Z"
   },
   {
    "duration": 60,
    "start_time": "2021-11-06T23:08:31.534Z"
   },
   {
    "duration": 70,
    "start_time": "2021-11-06T23:08:31.597Z"
   },
   {
    "duration": 364,
    "start_time": "2021-11-06T23:08:31.669Z"
   },
   {
    "duration": 14,
    "start_time": "2021-11-06T23:12:49.080Z"
   },
   {
    "duration": 9,
    "start_time": "2021-11-06T23:13:19.004Z"
   },
   {
    "duration": 96,
    "start_time": "2021-11-06T23:15:01.332Z"
   },
   {
    "duration": 83,
    "start_time": "2021-11-06T23:15:26.385Z"
   },
   {
    "duration": 75,
    "start_time": "2021-11-06T23:16:21.396Z"
   },
   {
    "duration": 176,
    "start_time": "2021-11-06T23:17:08.364Z"
   },
   {
    "duration": 125,
    "start_time": "2021-11-06T23:17:41.554Z"
   },
   {
    "duration": 12,
    "start_time": "2021-11-06T23:17:47.578Z"
   },
   {
    "duration": 129,
    "start_time": "2021-11-06T23:17:57.272Z"
   },
   {
    "duration": 13,
    "start_time": "2021-11-06T23:17:59.159Z"
   },
   {
    "duration": 12,
    "start_time": "2021-11-06T23:18:36.208Z"
   },
   {
    "duration": 18,
    "start_time": "2021-11-06T23:18:56.285Z"
   },
   {
    "duration": 396,
    "start_time": "2021-11-06T23:19:35.055Z"
   },
   {
    "duration": 13,
    "start_time": "2021-11-06T23:19:40.446Z"
   },
   {
    "duration": 6,
    "start_time": "2021-11-06T23:23:08.499Z"
   },
   {
    "duration": 1739,
    "start_time": "2021-11-06T23:23:19.794Z"
   },
   {
    "duration": 299,
    "start_time": "2021-11-06T23:23:21.536Z"
   },
   {
    "duration": 17,
    "start_time": "2021-11-06T23:23:21.838Z"
   },
   {
    "duration": 55,
    "start_time": "2021-11-06T23:23:21.857Z"
   },
   {
    "duration": 84,
    "start_time": "2021-11-06T23:23:21.914Z"
   },
   {
    "duration": 108,
    "start_time": "2021-11-06T23:23:22.000Z"
   },
   {
    "duration": 98,
    "start_time": "2021-11-06T23:23:22.110Z"
   },
   {
    "duration": 123,
    "start_time": "2021-11-06T23:23:22.211Z"
   },
   {
    "duration": 9,
    "start_time": "2021-11-06T23:23:22.337Z"
   },
   {
    "duration": 92,
    "start_time": "2021-11-06T23:23:22.349Z"
   },
   {
    "duration": 48,
    "start_time": "2021-11-06T23:23:22.443Z"
   },
   {
    "duration": 55,
    "start_time": "2021-11-06T23:23:22.493Z"
   },
   {
    "duration": 11,
    "start_time": "2021-11-06T23:23:22.551Z"
   },
   {
    "duration": 69,
    "start_time": "2021-11-06T23:23:22.564Z"
   },
   {
    "duration": 38,
    "start_time": "2021-11-06T23:23:22.636Z"
   },
   {
    "duration": 337,
    "start_time": "2021-11-06T23:23:22.676Z"
   },
   {
    "duration": 19,
    "start_time": "2021-11-06T23:23:23.016Z"
   },
   {
    "duration": 141,
    "start_time": "2021-11-06T23:23:23.037Z"
   },
   {
    "duration": 12,
    "start_time": "2021-11-06T23:23:23.181Z"
   },
   {
    "duration": 37,
    "start_time": "2021-11-06T23:23:39.818Z"
   },
   {
    "duration": 48,
    "start_time": "2021-11-06T23:23:55.774Z"
   },
   {
    "duration": 11,
    "start_time": "2021-11-06T23:26:09.255Z"
   },
   {
    "duration": 17,
    "start_time": "2021-11-06T23:30:07.045Z"
   },
   {
    "duration": 6,
    "start_time": "2021-11-06T23:30:22.182Z"
   },
   {
    "duration": 1484,
    "start_time": "2021-11-07T09:46:32.903Z"
   },
   {
    "duration": 290,
    "start_time": "2021-11-07T09:46:34.391Z"
   },
   {
    "duration": 16,
    "start_time": "2021-11-07T09:46:34.688Z"
   },
   {
    "duration": 53,
    "start_time": "2021-11-07T09:46:34.706Z"
   },
   {
    "duration": 88,
    "start_time": "2021-11-07T09:46:34.761Z"
   },
   {
    "duration": 110,
    "start_time": "2021-11-07T09:46:34.851Z"
   },
   {
    "duration": 94,
    "start_time": "2021-11-07T09:46:34.964Z"
   },
   {
    "duration": 121,
    "start_time": "2021-11-07T09:46:35.064Z"
   },
   {
    "duration": 10,
    "start_time": "2021-11-07T09:46:35.187Z"
   },
   {
    "duration": 80,
    "start_time": "2021-11-07T09:46:35.199Z"
   },
   {
    "duration": 55,
    "start_time": "2021-11-07T09:46:35.281Z"
   },
   {
    "duration": 39,
    "start_time": "2021-11-07T09:46:35.338Z"
   },
   {
    "duration": 12,
    "start_time": "2021-11-07T09:46:35.380Z"
   },
   {
    "duration": 77,
    "start_time": "2021-11-07T09:46:35.395Z"
   },
   {
    "duration": 55,
    "start_time": "2021-11-07T09:46:35.474Z"
   },
   {
    "duration": 331,
    "start_time": "2021-11-07T09:46:35.532Z"
   },
   {
    "duration": 8,
    "start_time": "2021-11-07T09:46:35.866Z"
   },
   {
    "duration": 67,
    "start_time": "2021-11-07T09:46:35.876Z"
   },
   {
    "duration": 132,
    "start_time": "2021-11-07T09:46:35.945Z"
   },
   {
    "duration": 24,
    "start_time": "2021-11-07T09:46:36.079Z"
   },
   {
    "duration": 28,
    "start_time": "2021-11-07T09:46:36.105Z"
   },
   {
    "duration": 10,
    "start_time": "2021-11-07T09:46:36.136Z"
   },
   {
    "duration": 6,
    "start_time": "2021-11-07T09:46:36.148Z"
   },
   {
    "duration": 279,
    "start_time": "2021-11-07T09:47:31.462Z"
   },
   {
    "duration": 406,
    "start_time": "2021-11-07T09:47:35.919Z"
   },
   {
    "duration": 9,
    "start_time": "2021-11-07T09:47:44.278Z"
   },
   {
    "duration": 5,
    "start_time": "2021-11-07T09:47:57.223Z"
   },
   {
    "duration": 58,
    "start_time": "2021-11-07T09:48:22.627Z"
   },
   {
    "duration": 49,
    "start_time": "2021-11-07T09:48:44.130Z"
   },
   {
    "duration": 13,
    "start_time": "2021-11-07T09:48:49.550Z"
   },
   {
    "duration": 6,
    "start_time": "2021-11-07T09:49:06.341Z"
   },
   {
    "duration": 324,
    "start_time": "2021-11-07T09:51:16.935Z"
   },
   {
    "duration": 10,
    "start_time": "2021-11-07T09:51:26.983Z"
   },
   {
    "duration": 50,
    "start_time": "2021-11-07T09:51:28.792Z"
   },
   {
    "duration": 48,
    "start_time": "2021-11-07T09:51:56.547Z"
   },
   {
    "duration": 5,
    "start_time": "2021-11-07T09:51:58.652Z"
   },
   {
    "duration": 13,
    "start_time": "2021-11-07T09:54:20.629Z"
   },
   {
    "duration": 462,
    "start_time": "2021-11-07T10:06:22.094Z"
   },
   {
    "duration": 6,
    "start_time": "2021-11-07T10:06:45.313Z"
   },
   {
    "duration": 425,
    "start_time": "2021-11-07T10:07:53.238Z"
   },
   {
    "duration": 42,
    "start_time": "2021-11-07T10:09:19.044Z"
   },
   {
    "duration": 99,
    "start_time": "2021-11-07T10:10:27.516Z"
   },
   {
    "duration": 121,
    "start_time": "2021-11-07T10:10:33.152Z"
   },
   {
    "duration": 477,
    "start_time": "2021-11-07T10:11:08.372Z"
   },
   {
    "duration": 134,
    "start_time": "2021-11-07T10:11:31.397Z"
   },
   {
    "duration": 93,
    "start_time": "2021-11-07T10:14:01.458Z"
   },
   {
    "duration": 189,
    "start_time": "2021-11-07T10:14:05.767Z"
   },
   {
    "duration": 5,
    "start_time": "2021-11-07T10:14:53.593Z"
   },
   {
    "duration": 142,
    "start_time": "2021-11-07T10:20:29.647Z"
   },
   {
    "duration": 117,
    "start_time": "2021-11-07T10:23:20.267Z"
   },
   {
    "duration": 391,
    "start_time": "2021-11-07T10:23:29.704Z"
   },
   {
    "duration": 105,
    "start_time": "2021-11-07T10:24:54.794Z"
   },
   {
    "duration": 10,
    "start_time": "2021-11-07T10:25:01.301Z"
   },
   {
    "duration": 133,
    "start_time": "2021-11-07T10:26:40.492Z"
   },
   {
    "duration": 10,
    "start_time": "2021-11-07T10:26:42.151Z"
   },
   {
    "duration": 106,
    "start_time": "2021-11-07T10:26:58.851Z"
   },
   {
    "duration": 10,
    "start_time": "2021-11-07T10:27:00.457Z"
   },
   {
    "duration": 106,
    "start_time": "2021-11-07T10:27:19.611Z"
   },
   {
    "duration": 11,
    "start_time": "2021-11-07T10:27:21.473Z"
   },
   {
    "duration": 11,
    "start_time": "2021-11-07T10:28:39.826Z"
   },
   {
    "duration": 399,
    "start_time": "2021-11-07T10:30:06.361Z"
   },
   {
    "duration": 110,
    "start_time": "2021-11-07T10:30:19.061Z"
   },
   {
    "duration": 18,
    "start_time": "2021-11-07T10:30:36.834Z"
   },
   {
    "duration": 107,
    "start_time": "2021-11-07T10:31:13.769Z"
   },
   {
    "duration": 11,
    "start_time": "2021-11-07T10:31:16.056Z"
   },
   {
    "duration": 1411,
    "start_time": "2021-11-07T10:33:31.891Z"
   },
   {
    "duration": 304,
    "start_time": "2021-11-07T10:33:33.305Z"
   },
   {
    "duration": 23,
    "start_time": "2021-11-07T10:33:33.612Z"
   },
   {
    "duration": 42,
    "start_time": "2021-11-07T10:33:33.638Z"
   },
   {
    "duration": 101,
    "start_time": "2021-11-07T10:33:33.682Z"
   },
   {
    "duration": 106,
    "start_time": "2021-11-07T10:33:33.785Z"
   },
   {
    "duration": 103,
    "start_time": "2021-11-07T10:33:33.893Z"
   },
   {
    "duration": 119,
    "start_time": "2021-11-07T10:33:33.999Z"
   },
   {
    "duration": 19,
    "start_time": "2021-11-07T10:33:34.121Z"
   },
   {
    "duration": 69,
    "start_time": "2021-11-07T10:33:34.145Z"
   },
   {
    "duration": 50,
    "start_time": "2021-11-07T10:33:34.232Z"
   },
   {
    "duration": 53,
    "start_time": "2021-11-07T10:33:34.284Z"
   },
   {
    "duration": 13,
    "start_time": "2021-11-07T10:33:34.339Z"
   },
   {
    "duration": 58,
    "start_time": "2021-11-07T10:33:34.354Z"
   },
   {
    "duration": 46,
    "start_time": "2021-11-07T10:33:34.429Z"
   },
   {
    "duration": 343,
    "start_time": "2021-11-07T10:33:34.477Z"
   },
   {
    "duration": 10,
    "start_time": "2021-11-07T10:33:34.829Z"
   },
   {
    "duration": 53,
    "start_time": "2021-11-07T10:33:34.842Z"
   },
   {
    "duration": 7,
    "start_time": "2021-11-07T10:33:34.897Z"
   },
   {
    "duration": 39,
    "start_time": "2021-11-07T10:33:34.906Z"
   },
   {
    "duration": 129,
    "start_time": "2021-11-07T10:33:34.947Z"
   },
   {
    "duration": 12,
    "start_time": "2021-11-07T10:33:35.078Z"
   },
   {
    "duration": 125,
    "start_time": "2021-11-07T10:33:35.093Z"
   },
   {
    "duration": 16,
    "start_time": "2021-11-07T10:33:35.220Z"
   },
   {
    "duration": 313,
    "start_time": "2021-11-07T10:45:06.397Z"
   },
   {
    "duration": 905,
    "start_time": "2021-11-07T10:45:14.828Z"
   },
   {
    "duration": 316,
    "start_time": "2021-11-07T10:45:26.013Z"
   },
   {
    "duration": 307,
    "start_time": "2021-11-07T10:45:41.139Z"
   },
   {
    "duration": 22,
    "start_time": "2021-11-07T10:48:41.821Z"
   },
   {
    "duration": 43,
    "start_time": "2021-11-07T10:49:58.780Z"
   },
   {
    "duration": 291,
    "start_time": "2021-11-07T10:53:52.122Z"
   },
   {
    "duration": 307,
    "start_time": "2021-11-07T10:54:08.072Z"
   },
   {
    "duration": 34,
    "start_time": "2021-11-07T10:54:13.373Z"
   },
   {
    "duration": 276,
    "start_time": "2021-11-07T10:54:26.470Z"
   },
   {
    "duration": 269,
    "start_time": "2021-11-07T10:54:31.977Z"
   },
   {
    "duration": 34,
    "start_time": "2021-11-07T10:54:49.732Z"
   },
   {
    "duration": 284,
    "start_time": "2021-11-07T10:56:52.693Z"
   },
   {
    "duration": 61,
    "start_time": "2021-11-07T10:57:00.420Z"
   },
   {
    "duration": 50,
    "start_time": "2021-11-07T10:57:54.037Z"
   },
   {
    "duration": 305,
    "start_time": "2021-11-07T10:58:47.234Z"
   },
   {
    "duration": 66,
    "start_time": "2021-11-07T10:58:57.640Z"
   },
   {
    "duration": 56,
    "start_time": "2021-11-07T11:00:25.491Z"
   },
   {
    "duration": 18,
    "start_time": "2021-11-07T11:00:31.195Z"
   },
   {
    "duration": 54,
    "start_time": "2021-11-07T11:02:41.399Z"
   },
   {
    "duration": 16,
    "start_time": "2021-11-07T11:02:43.643Z"
   },
   {
    "duration": 299,
    "start_time": "2021-11-07T11:03:15.680Z"
   },
   {
    "duration": 57,
    "start_time": "2021-11-07T11:03:19.892Z"
   },
   {
    "duration": 16,
    "start_time": "2021-11-07T11:03:21.874Z"
   },
   {
    "duration": 58,
    "start_time": "2021-11-07T11:04:00.833Z"
   },
   {
    "duration": 277,
    "start_time": "2021-11-07T11:04:22.423Z"
   },
   {
    "duration": 290,
    "start_time": "2021-11-07T11:06:01.738Z"
   },
   {
    "duration": 275,
    "start_time": "2021-11-07T11:06:56.855Z"
   },
   {
    "duration": 256,
    "start_time": "2021-11-07T11:07:56.021Z"
   },
   {
    "duration": 403,
    "start_time": "2021-11-07T11:08:00.293Z"
   },
   {
    "duration": 98,
    "start_time": "2021-11-07T11:09:05.034Z"
   },
   {
    "duration": 262,
    "start_time": "2021-11-07T11:09:11.743Z"
   },
   {
    "duration": 277,
    "start_time": "2021-11-07T11:10:04.624Z"
   },
   {
    "duration": 361,
    "start_time": "2021-11-07T11:10:10.954Z"
   },
   {
    "duration": 510,
    "start_time": "2021-11-07T11:11:06.347Z"
   },
   {
    "duration": 501,
    "start_time": "2021-11-07T11:11:15.536Z"
   },
   {
    "duration": 471,
    "start_time": "2021-11-07T11:12:01.939Z"
   },
   {
    "duration": 505,
    "start_time": "2021-11-07T11:14:54.279Z"
   },
   {
    "duration": 25,
    "start_time": "2021-11-07T11:17:12.157Z"
   },
   {
    "duration": 403,
    "start_time": "2021-11-07T11:17:22.377Z"
   },
   {
    "duration": 294,
    "start_time": "2021-11-07T11:17:28.765Z"
   },
   {
    "duration": 5,
    "start_time": "2021-11-07T11:17:35.336Z"
   },
   {
    "duration": 5,
    "start_time": "2021-11-07T11:17:42.405Z"
   },
   {
    "duration": 5,
    "start_time": "2021-11-07T11:17:59.230Z"
   },
   {
    "duration": 1079,
    "start_time": "2021-11-07T11:18:56.938Z"
   },
   {
    "duration": 23,
    "start_time": "2021-11-07T11:19:20.635Z"
   },
   {
    "duration": 20,
    "start_time": "2021-11-07T11:19:36.711Z"
   },
   {
    "duration": 17,
    "start_time": "2021-11-07T11:20:20.264Z"
   },
   {
    "duration": 1111,
    "start_time": "2021-11-07T11:20:44.404Z"
   },
   {
    "duration": 20,
    "start_time": "2021-11-07T11:20:48.814Z"
   },
   {
    "duration": 67,
    "start_time": "2021-11-07T11:21:02.876Z"
   },
   {
    "duration": 20,
    "start_time": "2021-11-07T11:21:05.134Z"
   },
   {
    "duration": 1091,
    "start_time": "2021-11-07T11:21:18.188Z"
   },
   {
    "duration": 17,
    "start_time": "2021-11-07T11:21:41.591Z"
   },
   {
    "duration": 22,
    "start_time": "2021-11-07T11:21:52.979Z"
   },
   {
    "duration": 1102,
    "start_time": "2021-11-07T11:22:05.413Z"
   },
   {
    "duration": 17,
    "start_time": "2021-11-07T11:22:12.136Z"
   },
   {
    "duration": 22,
    "start_time": "2021-11-07T11:22:15.346Z"
   },
   {
    "duration": 69,
    "start_time": "2021-11-07T11:22:29.106Z"
   },
   {
    "duration": 15,
    "start_time": "2021-11-07T11:22:32.531Z"
   },
   {
    "duration": 600,
    "start_time": "2021-11-07T11:22:48.220Z"
   },
   {
    "duration": 727,
    "start_time": "2021-11-07T11:23:10.749Z"
   },
   {
    "duration": 275,
    "start_time": "2021-11-07T11:23:32.160Z"
   },
   {
    "duration": 298,
    "start_time": "2021-11-07T11:23:42.643Z"
   },
   {
    "duration": 315,
    "start_time": "2021-11-07T11:23:49.883Z"
   },
   {
    "duration": 274,
    "start_time": "2021-11-07T11:24:02.027Z"
   },
   {
    "duration": 724,
    "start_time": "2021-11-07T11:24:13.631Z"
   },
   {
    "duration": 745,
    "start_time": "2021-11-07T11:24:50.088Z"
   },
   {
    "duration": 613,
    "start_time": "2021-11-07T11:25:14.383Z"
   },
   {
    "duration": 653,
    "start_time": "2021-11-07T11:25:28.078Z"
   },
   {
    "duration": 595,
    "start_time": "2021-11-07T11:26:58.728Z"
   },
   {
    "duration": 317,
    "start_time": "2021-11-07T11:28:53.757Z"
   },
   {
    "duration": 249,
    "start_time": "2021-11-07T11:29:20.457Z"
   },
   {
    "duration": 485,
    "start_time": "2021-11-07T11:30:42.281Z"
   },
   {
    "duration": 513,
    "start_time": "2021-11-07T11:31:07.626Z"
   },
   {
    "duration": 593,
    "start_time": "2021-11-07T11:31:24.384Z"
   },
   {
    "duration": 504,
    "start_time": "2021-11-07T11:31:28.977Z"
   },
   {
    "duration": 464,
    "start_time": "2021-11-07T11:31:43.851Z"
   },
   {
    "duration": 451,
    "start_time": "2021-11-07T11:32:10.392Z"
   },
   {
    "duration": 472,
    "start_time": "2021-11-07T11:33:08.925Z"
   },
   {
    "duration": 96,
    "start_time": "2021-11-07T11:33:19.375Z"
   },
   {
    "duration": 468,
    "start_time": "2021-11-07T11:33:25.427Z"
   },
   {
    "duration": 553,
    "start_time": "2021-11-07T11:34:15.227Z"
   },
   {
    "duration": 338,
    "start_time": "2021-11-07T11:38:10.239Z"
   },
   {
    "duration": 96,
    "start_time": "2021-11-07T11:39:05.043Z"
   },
   {
    "duration": 428,
    "start_time": "2021-11-07T11:39:14.034Z"
   },
   {
    "duration": 721,
    "start_time": "2021-11-07T11:39:33.634Z"
   },
   {
    "duration": 341,
    "start_time": "2021-11-07T11:40:01.077Z"
   },
   {
    "duration": 451,
    "start_time": "2021-11-07T11:40:14.654Z"
   },
   {
    "duration": 312,
    "start_time": "2021-11-07T11:41:02.404Z"
   },
   {
    "duration": 316,
    "start_time": "2021-11-07T11:41:19.078Z"
   },
   {
    "duration": 326,
    "start_time": "2021-11-07T11:41:24.415Z"
   },
   {
    "duration": 435,
    "start_time": "2021-11-07T11:41:36.618Z"
   },
   {
    "duration": 315,
    "start_time": "2021-11-07T11:41:56.882Z"
   },
   {
    "duration": 308,
    "start_time": "2021-11-07T11:42:25.578Z"
   },
   {
    "duration": 408,
    "start_time": "2021-11-07T11:42:33.365Z"
   },
   {
    "duration": 351,
    "start_time": "2021-11-07T11:42:56.947Z"
   },
   {
    "duration": 355,
    "start_time": "2021-11-07T11:43:09.532Z"
   },
   {
    "duration": 284,
    "start_time": "2021-11-07T11:46:28.490Z"
   },
   {
    "duration": 1465,
    "start_time": "2021-11-07T11:50:58.232Z"
   },
   {
    "duration": 301,
    "start_time": "2021-11-07T11:50:59.699Z"
   },
   {
    "duration": 19,
    "start_time": "2021-11-07T11:51:00.004Z"
   },
   {
    "duration": 58,
    "start_time": "2021-11-07T11:51:00.025Z"
   },
   {
    "duration": 81,
    "start_time": "2021-11-07T11:51:00.086Z"
   },
   {
    "duration": 103,
    "start_time": "2021-11-07T11:51:00.169Z"
   },
   {
    "duration": 311,
    "start_time": "2021-11-07T11:51:00.274Z"
   },
   {
    "duration": 130,
    "start_time": "2021-11-07T11:51:00.589Z"
   },
   {
    "duration": 14,
    "start_time": "2021-11-07T11:51:00.722Z"
   },
   {
    "duration": 93,
    "start_time": "2021-11-07T11:51:00.738Z"
   },
   {
    "duration": 47,
    "start_time": "2021-11-07T11:51:00.834Z"
   },
   {
    "duration": 67,
    "start_time": "2021-11-07T11:51:00.883Z"
   },
   {
    "duration": 12,
    "start_time": "2021-11-07T11:51:00.952Z"
   },
   {
    "duration": 81,
    "start_time": "2021-11-07T11:51:00.967Z"
   },
   {
    "duration": 41,
    "start_time": "2021-11-07T11:51:01.050Z"
   },
   {
    "duration": 353,
    "start_time": "2021-11-07T11:51:01.093Z"
   },
   {
    "duration": 9,
    "start_time": "2021-11-07T11:51:01.449Z"
   },
   {
    "duration": 74,
    "start_time": "2021-11-07T11:51:01.460Z"
   },
   {
    "duration": 6,
    "start_time": "2021-11-07T11:51:01.536Z"
   },
   {
    "duration": 20,
    "start_time": "2021-11-07T11:51:01.545Z"
   },
   {
    "duration": 133,
    "start_time": "2021-11-07T11:51:01.567Z"
   },
   {
    "duration": 11,
    "start_time": "2021-11-07T11:51:01.702Z"
   },
   {
    "duration": 558,
    "start_time": "2021-11-07T11:51:01.730Z"
   },
   {
    "duration": 1623,
    "start_time": "2021-11-07T11:51:00.668Z"
   },
   {
    "duration": 1622,
    "start_time": "2021-11-07T11:51:00.671Z"
   },
   {
    "duration": 1619,
    "start_time": "2021-11-07T11:51:00.675Z"
   },
   {
    "duration": 1616,
    "start_time": "2021-11-07T11:51:00.680Z"
   },
   {
    "duration": 1615,
    "start_time": "2021-11-07T11:51:00.682Z"
   },
   {
    "duration": 1491,
    "start_time": "2021-11-07T11:51:53.008Z"
   },
   {
    "duration": 302,
    "start_time": "2021-11-07T11:51:54.502Z"
   },
   {
    "duration": 17,
    "start_time": "2021-11-07T11:51:54.811Z"
   },
   {
    "duration": 40,
    "start_time": "2021-11-07T11:51:54.830Z"
   },
   {
    "duration": 103,
    "start_time": "2021-11-07T11:51:54.873Z"
   },
   {
    "duration": 104,
    "start_time": "2021-11-07T11:51:54.978Z"
   },
   {
    "duration": 119,
    "start_time": "2021-11-07T11:51:55.086Z"
   },
   {
    "duration": 122,
    "start_time": "2021-11-07T11:51:55.209Z"
   },
   {
    "duration": 12,
    "start_time": "2021-11-07T11:51:55.334Z"
   },
   {
    "duration": 93,
    "start_time": "2021-11-07T11:51:55.348Z"
   },
   {
    "duration": 48,
    "start_time": "2021-11-07T11:51:55.444Z"
   },
   {
    "duration": 63,
    "start_time": "2021-11-07T11:51:55.495Z"
   },
   {
    "duration": 14,
    "start_time": "2021-11-07T11:51:55.561Z"
   },
   {
    "duration": 77,
    "start_time": "2021-11-07T11:51:55.578Z"
   },
   {
    "duration": 41,
    "start_time": "2021-11-07T11:51:55.657Z"
   },
   {
    "duration": 361,
    "start_time": "2021-11-07T11:51:55.701Z"
   },
   {
    "duration": 10,
    "start_time": "2021-11-07T11:51:56.064Z"
   },
   {
    "duration": 71,
    "start_time": "2021-11-07T11:51:56.076Z"
   },
   {
    "duration": 6,
    "start_time": "2021-11-07T11:51:56.150Z"
   },
   {
    "duration": 25,
    "start_time": "2021-11-07T11:51:56.159Z"
   },
   {
    "duration": 128,
    "start_time": "2021-11-07T11:51:56.186Z"
   },
   {
    "duration": 15,
    "start_time": "2021-11-07T11:51:56.319Z"
   },
   {
    "duration": 337,
    "start_time": "2021-11-07T11:51:56.338Z"
   },
   {
    "duration": 17,
    "start_time": "2021-11-07T11:51:56.678Z"
   },
   {
    "duration": 79,
    "start_time": "2021-11-07T11:51:56.698Z"
   },
   {
    "duration": 27,
    "start_time": "2021-11-07T11:51:56.779Z"
   },
   {
    "duration": 90,
    "start_time": "2021-11-07T11:51:56.809Z"
   },
   {
    "duration": 504,
    "start_time": "2021-11-07T11:51:56.902Z"
   },
   {
    "duration": 1084,
    "start_time": "2021-11-07T11:52:52.497Z"
   },
   {
    "duration": 931,
    "start_time": "2021-11-07T11:53:04.935Z"
   },
   {
    "duration": 627,
    "start_time": "2021-11-07T11:56:24.058Z"
   },
   {
    "duration": 43843,
    "start_time": "2021-11-07T11:58:06.811Z"
   },
   {
    "duration": 44772,
    "start_time": "2021-11-07T12:00:04.088Z"
   },
   {
    "duration": 559,
    "start_time": "2021-11-07T12:01:07.918Z"
   },
   {
    "duration": 283,
    "start_time": "2021-11-07T13:05:13.463Z"
   },
   {
    "duration": 391,
    "start_time": "2021-11-07T13:05:33.576Z"
   },
   {
    "duration": 61,
    "start_time": "2021-11-07T13:05:43.448Z"
   },
   {
    "duration": 278,
    "start_time": "2021-11-07T13:07:55.839Z"
   },
   {
    "duration": 19,
    "start_time": "2021-11-07T13:08:40.653Z"
   },
   {
    "duration": 8671,
    "start_time": "2021-11-07T13:09:34.900Z"
   },
   {
    "duration": 7247,
    "start_time": "2021-11-07T13:09:45.475Z"
   },
   {
    "duration": 7,
    "start_time": "2021-11-07T13:10:05.497Z"
   },
   {
    "duration": 27,
    "start_time": "2021-11-07T13:10:14.260Z"
   },
   {
    "duration": 346,
    "start_time": "2021-11-07T13:10:48.182Z"
   },
   {
    "duration": 63,
    "start_time": "2021-11-07T13:12:02.280Z"
   },
   {
    "duration": 24,
    "start_time": "2021-11-07T13:12:05.000Z"
   },
   {
    "duration": 424,
    "start_time": "2021-11-07T13:12:52.556Z"
   },
   {
    "duration": 294,
    "start_time": "2021-11-07T13:14:00.866Z"
   },
   {
    "duration": 183,
    "start_time": "2021-11-07T13:14:18.114Z"
   },
   {
    "duration": 91,
    "start_time": "2021-11-07T13:15:08.121Z"
   },
   {
    "duration": 15393,
    "start_time": "2021-11-07T13:15:14.047Z"
   },
   {
    "duration": 82,
    "start_time": "2021-11-07T13:16:58.252Z"
   },
   {
    "duration": 66,
    "start_time": "2021-11-07T13:17:06.482Z"
   },
   {
    "duration": 1470,
    "start_time": "2021-11-07T13:29:02.939Z"
   },
   {
    "duration": 297,
    "start_time": "2021-11-07T13:29:04.412Z"
   },
   {
    "duration": 17,
    "start_time": "2021-11-07T13:29:04.712Z"
   },
   {
    "duration": 41,
    "start_time": "2021-11-07T13:29:04.732Z"
   },
   {
    "duration": 96,
    "start_time": "2021-11-07T13:29:04.775Z"
   },
   {
    "duration": 109,
    "start_time": "2021-11-07T13:29:04.874Z"
   },
   {
    "duration": 116,
    "start_time": "2021-11-07T13:29:04.986Z"
   },
   {
    "duration": 124,
    "start_time": "2021-11-07T13:29:05.106Z"
   },
   {
    "duration": 11,
    "start_time": "2021-11-07T13:29:05.233Z"
   },
   {
    "duration": 83,
    "start_time": "2021-11-07T13:29:05.247Z"
   },
   {
    "duration": 45,
    "start_time": "2021-11-07T13:29:05.333Z"
   },
   {
    "duration": 80,
    "start_time": "2021-11-07T13:29:05.381Z"
   },
   {
    "duration": 41,
    "start_time": "2021-11-07T13:29:05.464Z"
   },
   {
    "duration": 80,
    "start_time": "2021-11-07T13:29:05.507Z"
   },
   {
    "duration": 53,
    "start_time": "2021-11-07T13:29:05.590Z"
   },
   {
    "duration": 339,
    "start_time": "2021-11-07T13:29:05.646Z"
   },
   {
    "duration": 11,
    "start_time": "2021-11-07T13:29:05.988Z"
   },
   {
    "duration": 72,
    "start_time": "2021-11-07T13:29:06.002Z"
   },
   {
    "duration": 7,
    "start_time": "2021-11-07T13:29:06.077Z"
   },
   {
    "duration": 14,
    "start_time": "2021-11-07T13:29:06.086Z"
   },
   {
    "duration": 117,
    "start_time": "2021-11-07T13:29:06.128Z"
   },
   {
    "duration": 11,
    "start_time": "2021-11-07T13:29:06.248Z"
   },
   {
    "duration": 213,
    "start_time": "2021-11-07T13:29:06.263Z"
   },
   {
    "duration": 12,
    "start_time": "2021-11-07T13:29:06.478Z"
   },
   {
    "duration": 72,
    "start_time": "2021-11-07T13:29:06.492Z"
   },
   {
    "duration": 24,
    "start_time": "2021-11-07T13:29:06.567Z"
   },
   {
    "duration": 89,
    "start_time": "2021-11-07T13:29:06.593Z"
   },
   {
    "duration": 461,
    "start_time": "2021-11-07T13:29:06.685Z"
   },
   {
    "duration": 57,
    "start_time": "2021-11-07T13:29:07.149Z"
   },
   {
    "duration": 448,
    "start_time": "2021-11-07T13:29:07.209Z"
   },
   {
    "duration": 29,
    "start_time": "2021-11-07T13:29:07.630Z"
   },
   {
    "duration": 26,
    "start_time": "2021-11-07T13:29:07.634Z"
   },
   {
    "duration": 13,
    "start_time": "2021-11-07T13:29:28.659Z"
   },
   {
    "duration": 24,
    "start_time": "2021-11-07T13:29:33.065Z"
   },
   {
    "duration": 1481,
    "start_time": "2021-11-07T13:29:40.635Z"
   },
   {
    "duration": 305,
    "start_time": "2021-11-07T13:29:42.119Z"
   },
   {
    "duration": 18,
    "start_time": "2021-11-07T13:29:42.427Z"
   },
   {
    "duration": 39,
    "start_time": "2021-11-07T13:29:42.448Z"
   },
   {
    "duration": 107,
    "start_time": "2021-11-07T13:29:42.490Z"
   },
   {
    "duration": 102,
    "start_time": "2021-11-07T13:29:42.599Z"
   },
   {
    "duration": 106,
    "start_time": "2021-11-07T13:29:42.704Z"
   },
   {
    "duration": 135,
    "start_time": "2021-11-07T13:29:42.814Z"
   },
   {
    "duration": 11,
    "start_time": "2021-11-07T13:29:42.953Z"
   },
   {
    "duration": 88,
    "start_time": "2021-11-07T13:29:42.967Z"
   },
   {
    "duration": 47,
    "start_time": "2021-11-07T13:29:43.057Z"
   },
   {
    "duration": 29,
    "start_time": "2021-11-07T13:29:43.107Z"
   },
   {
    "duration": 52,
    "start_time": "2021-11-07T13:29:43.138Z"
   },
   {
    "duration": 63,
    "start_time": "2021-11-07T13:29:43.192Z"
   },
   {
    "duration": 495,
    "start_time": "2021-11-07T13:29:43.258Z"
   },
   {
    "duration": 12,
    "start_time": "2021-11-07T13:29:43.756Z"
   },
   {
    "duration": 101,
    "start_time": "2021-11-07T13:29:43.771Z"
   },
   {
    "duration": 8,
    "start_time": "2021-11-07T13:29:43.875Z"
   },
   {
    "duration": 26,
    "start_time": "2021-11-07T13:29:43.886Z"
   },
   {
    "duration": 132,
    "start_time": "2021-11-07T13:29:43.915Z"
   },
   {
    "duration": 15,
    "start_time": "2021-11-07T13:29:44.050Z"
   },
   {
    "duration": 351,
    "start_time": "2021-11-07T13:29:44.069Z"
   },
   {
    "duration": 16,
    "start_time": "2021-11-07T13:29:44.432Z"
   },
   {
    "duration": 59,
    "start_time": "2021-11-07T13:29:44.451Z"
   },
   {
    "duration": 24,
    "start_time": "2021-11-07T13:29:44.529Z"
   },
   {
    "duration": 89,
    "start_time": "2021-11-07T13:29:44.556Z"
   },
   {
    "duration": 466,
    "start_time": "2021-11-07T13:29:44.648Z"
   },
   {
    "duration": 65,
    "start_time": "2021-11-07T13:29:45.117Z"
   },
   {
    "duration": 14,
    "start_time": "2021-11-07T13:29:45.184Z"
   },
   {
    "duration": 44,
    "start_time": "2021-11-07T13:29:45.200Z"
   },
   {
    "duration": 423,
    "start_time": "2021-11-07T13:29:45.246Z"
   },
   {
    "duration": 57,
    "start_time": "2021-11-07T13:30:59.541Z"
   },
   {
    "duration": 14,
    "start_time": "2021-11-07T13:31:01.415Z"
   },
   {
    "duration": 50,
    "start_time": "2021-11-07T13:31:40.825Z"
   },
   {
    "duration": 24,
    "start_time": "2021-11-07T13:31:46.094Z"
   },
   {
    "duration": 13,
    "start_time": "2021-11-07T13:32:46.274Z"
   },
   {
    "duration": 13,
    "start_time": "2021-11-07T13:33:13.533Z"
   },
   {
    "duration": 287,
    "start_time": "2021-11-07T13:34:39.135Z"
   },
   {
    "duration": 51,
    "start_time": "2021-11-07T13:34:43.804Z"
   },
   {
    "duration": 18,
    "start_time": "2021-11-07T13:34:48.543Z"
   },
   {
    "duration": 33,
    "start_time": "2021-11-07T13:34:56.033Z"
   },
   {
    "duration": 9,
    "start_time": "2021-11-07T13:35:21.529Z"
   },
   {
    "duration": 11,
    "start_time": "2021-11-07T13:35:37.768Z"
   },
   {
    "duration": 6,
    "start_time": "2021-11-07T13:36:12.471Z"
   },
   {
    "duration": 8,
    "start_time": "2021-11-07T13:36:14.405Z"
   },
   {
    "duration": 14,
    "start_time": "2021-11-07T13:36:25.756Z"
   },
   {
    "duration": 9,
    "start_time": "2021-11-07T13:36:43.323Z"
   },
   {
    "duration": 65,
    "start_time": "2021-11-07T13:38:38.620Z"
   },
   {
    "duration": 17,
    "start_time": "2021-11-07T13:38:49.404Z"
   },
   {
    "duration": 58,
    "start_time": "2021-11-07T13:38:56.372Z"
   },
   {
    "duration": 25,
    "start_time": "2021-11-07T13:38:58.464Z"
   },
   {
    "duration": 148,
    "start_time": "2021-11-07T13:39:53.179Z"
   },
   {
    "duration": 34,
    "start_time": "2021-11-07T13:39:55.305Z"
   },
   {
    "duration": 1446,
    "start_time": "2021-11-07T13:40:10.355Z"
   },
   {
    "duration": 299,
    "start_time": "2021-11-07T13:40:11.803Z"
   },
   {
    "duration": 17,
    "start_time": "2021-11-07T13:40:12.105Z"
   },
   {
    "duration": 48,
    "start_time": "2021-11-07T13:40:12.125Z"
   },
   {
    "duration": 86,
    "start_time": "2021-11-07T13:40:12.175Z"
   },
   {
    "duration": 105,
    "start_time": "2021-11-07T13:40:12.263Z"
   },
   {
    "duration": 103,
    "start_time": "2021-11-07T13:40:12.370Z"
   },
   {
    "duration": 124,
    "start_time": "2021-11-07T13:40:12.478Z"
   },
   {
    "duration": 23,
    "start_time": "2021-11-07T13:40:12.606Z"
   },
   {
    "duration": 71,
    "start_time": "2021-11-07T13:40:12.632Z"
   },
   {
    "duration": 59,
    "start_time": "2021-11-07T13:40:12.705Z"
   },
   {
    "duration": 10,
    "start_time": "2021-11-07T13:40:12.767Z"
   },
   {
    "duration": 9,
    "start_time": "2021-11-07T13:40:12.779Z"
   },
   {
    "duration": 8,
    "start_time": "2021-11-07T13:40:12.791Z"
   },
   {
    "duration": 39,
    "start_time": "2021-11-07T13:40:12.801Z"
   },
   {
    "duration": 11,
    "start_time": "2021-11-07T13:40:12.842Z"
   },
   {
    "duration": 15,
    "start_time": "2021-11-07T13:40:12.856Z"
   },
   {
    "duration": 78,
    "start_time": "2021-11-07T13:40:12.874Z"
   },
   {
    "duration": 43,
    "start_time": "2021-11-07T13:40:12.955Z"
   },
   {
    "duration": 450,
    "start_time": "2021-11-07T13:40:13.001Z"
   },
   {
    "duration": 9,
    "start_time": "2021-11-07T13:40:13.454Z"
   },
   {
    "duration": 68,
    "start_time": "2021-11-07T13:40:13.465Z"
   },
   {
    "duration": 6,
    "start_time": "2021-11-07T13:40:13.538Z"
   },
   {
    "duration": 20,
    "start_time": "2021-11-07T13:40:13.547Z"
   },
   {
    "duration": 125,
    "start_time": "2021-11-07T13:40:13.569Z"
   },
   {
    "duration": 12,
    "start_time": "2021-11-07T13:40:13.696Z"
   },
   {
    "duration": 213,
    "start_time": "2021-11-07T13:40:13.710Z"
   },
   {
    "duration": 12,
    "start_time": "2021-11-07T13:40:13.925Z"
   },
   {
    "duration": 59,
    "start_time": "2021-11-07T13:40:13.939Z"
   },
   {
    "duration": 41,
    "start_time": "2021-11-07T13:40:14.000Z"
   },
   {
    "duration": 86,
    "start_time": "2021-11-07T13:40:14.044Z"
   },
   {
    "duration": 458,
    "start_time": "2021-11-07T13:40:14.133Z"
   },
   {
    "duration": 77,
    "start_time": "2021-11-07T13:40:14.593Z"
   },
   {
    "duration": 122,
    "start_time": "2021-11-07T13:40:14.673Z"
   },
   {
    "duration": 41,
    "start_time": "2021-11-07T13:40:14.797Z"
   },
   {
    "duration": 19,
    "start_time": "2021-11-07T13:41:15.029Z"
   },
   {
    "duration": 98,
    "start_time": "2021-11-07T13:47:05.965Z"
   },
   {
    "duration": 16,
    "start_time": "2021-11-07T13:47:14.047Z"
   },
   {
    "duration": 16,
    "start_time": "2021-11-07T13:47:20.679Z"
   },
   {
    "duration": 15,
    "start_time": "2021-11-07T13:47:25.831Z"
   },
   {
    "duration": 43,
    "start_time": "2021-11-07T13:47:37.454Z"
   },
   {
    "duration": 42,
    "start_time": "2021-11-07T13:47:44.808Z"
   },
   {
    "duration": 19,
    "start_time": "2021-11-07T13:48:04.081Z"
   },
   {
    "duration": 15,
    "start_time": "2021-11-07T13:48:08.739Z"
   },
   {
    "duration": 67,
    "start_time": "2021-11-07T13:48:44.870Z"
   },
   {
    "duration": 27,
    "start_time": "2021-11-07T13:48:50.168Z"
   },
   {
    "duration": 16,
    "start_time": "2021-11-07T13:49:07.797Z"
   },
   {
    "duration": 11,
    "start_time": "2021-11-07T13:49:13.562Z"
   },
   {
    "duration": 9,
    "start_time": "2021-11-07T13:49:16.844Z"
   },
   {
    "duration": 1443,
    "start_time": "2021-11-07T13:50:48.556Z"
   },
   {
    "duration": 293,
    "start_time": "2021-11-07T13:50:50.002Z"
   },
   {
    "duration": 18,
    "start_time": "2021-11-07T13:50:50.298Z"
   },
   {
    "duration": 53,
    "start_time": "2021-11-07T13:50:50.318Z"
   },
   {
    "duration": 80,
    "start_time": "2021-11-07T13:50:50.374Z"
   },
   {
    "duration": 133,
    "start_time": "2021-11-07T13:50:50.457Z"
   },
   {
    "duration": 111,
    "start_time": "2021-11-07T13:50:50.595Z"
   },
   {
    "duration": 129,
    "start_time": "2021-11-07T13:50:50.710Z"
   },
   {
    "duration": 13,
    "start_time": "2021-11-07T13:50:50.841Z"
   },
   {
    "duration": 94,
    "start_time": "2021-11-07T13:50:50.857Z"
   },
   {
    "duration": 47,
    "start_time": "2021-11-07T13:50:50.954Z"
   },
   {
    "duration": 27,
    "start_time": "2021-11-07T13:50:51.004Z"
   },
   {
    "duration": 18,
    "start_time": "2021-11-07T13:50:51.034Z"
   },
   {
    "duration": 10,
    "start_time": "2021-11-07T13:50:51.054Z"
   },
   {
    "duration": 19,
    "start_time": "2021-11-07T13:50:51.066Z"
   },
   {
    "duration": 13,
    "start_time": "2021-11-07T13:50:51.088Z"
   },
   {
    "duration": 34,
    "start_time": "2021-11-07T13:50:51.104Z"
   },
   {
    "duration": 50,
    "start_time": "2021-11-07T13:50:51.141Z"
   },
   {
    "duration": 64,
    "start_time": "2021-11-07T13:50:51.194Z"
   },
   {
    "duration": 328,
    "start_time": "2021-11-07T13:50:51.260Z"
   },
   {
    "duration": 9,
    "start_time": "2021-11-07T13:50:51.590Z"
   },
   {
    "duration": 64,
    "start_time": "2021-11-07T13:50:51.604Z"
   },
   {
    "duration": 5,
    "start_time": "2021-11-07T13:50:51.671Z"
   },
   {
    "duration": 14,
    "start_time": "2021-11-07T13:50:51.679Z"
   },
   {
    "duration": 137,
    "start_time": "2021-11-07T13:50:51.695Z"
   },
   {
    "duration": 11,
    "start_time": "2021-11-07T13:50:51.835Z"
   },
   {
    "duration": 220,
    "start_time": "2021-11-07T13:50:51.849Z"
   },
   {
    "duration": 11,
    "start_time": "2021-11-07T13:50:52.071Z"
   },
   {
    "duration": 76,
    "start_time": "2021-11-07T13:50:52.085Z"
   },
   {
    "duration": 22,
    "start_time": "2021-11-07T13:50:52.164Z"
   },
   {
    "duration": 85,
    "start_time": "2021-11-07T13:50:52.189Z"
   },
   {
    "duration": 670,
    "start_time": "2021-11-07T13:50:52.276Z"
   },
   {
    "duration": 81,
    "start_time": "2021-11-07T13:50:52.948Z"
   },
   {
    "duration": 132,
    "start_time": "2021-11-07T13:50:53.031Z"
   },
   {
    "duration": 17,
    "start_time": "2021-11-07T13:50:53.166Z"
   },
   {
    "duration": 118,
    "start_time": "2021-11-07T13:50:53.186Z"
   },
   {
    "duration": 90,
    "start_time": "2021-11-07T13:52:09.900Z"
   },
   {
    "duration": 184,
    "start_time": "2021-11-07T13:52:40.541Z"
   },
   {
    "duration": 386,
    "start_time": "2021-11-07T14:03:52.101Z"
   },
   {
    "duration": 13,
    "start_time": "2021-11-07T14:39:24.996Z"
   },
   {
    "duration": 18,
    "start_time": "2021-11-07T14:39:32.006Z"
   },
   {
    "duration": 7,
    "start_time": "2021-11-07T14:40:45.411Z"
   },
   {
    "duration": 75,
    "start_time": "2021-11-07T14:41:46.714Z"
   },
   {
    "duration": 263755,
    "start_time": "2021-11-07T15:22:14.729Z"
   },
   {
    "duration": 31,
    "start_time": "2021-11-07T15:28:02.610Z"
   },
   {
    "duration": 12,
    "start_time": "2021-11-07T15:29:40.253Z"
   },
   {
    "duration": 6,
    "start_time": "2021-11-07T15:34:52.028Z"
   },
   {
    "duration": 6,
    "start_time": "2021-11-07T15:35:00.327Z"
   },
   {
    "duration": 5,
    "start_time": "2021-11-07T15:36:00.721Z"
   },
   {
    "duration": 1449,
    "start_time": "2021-11-07T15:36:42.456Z"
   },
   {
    "duration": 345,
    "start_time": "2021-11-07T15:36:43.907Z"
   },
   {
    "duration": 25,
    "start_time": "2021-11-07T15:36:44.261Z"
   },
   {
    "duration": 84,
    "start_time": "2021-11-07T15:36:44.290Z"
   },
   {
    "duration": 97,
    "start_time": "2021-11-07T15:36:44.376Z"
   },
   {
    "duration": 103,
    "start_time": "2021-11-07T15:36:44.476Z"
   },
   {
    "duration": 104,
    "start_time": "2021-11-07T15:36:44.584Z"
   },
   {
    "duration": 122,
    "start_time": "2021-11-07T15:36:44.691Z"
   },
   {
    "duration": 16,
    "start_time": "2021-11-07T15:36:44.815Z"
   },
   {
    "duration": 92,
    "start_time": "2021-11-07T15:36:44.834Z"
   },
   {
    "duration": 48,
    "start_time": "2021-11-07T15:36:44.929Z"
   },
   {
    "duration": 17,
    "start_time": "2021-11-07T15:36:44.980Z"
   },
   {
    "duration": 45,
    "start_time": "2021-11-07T15:36:44.999Z"
   },
   {
    "duration": 26,
    "start_time": "2021-11-07T15:36:45.047Z"
   },
   {
    "duration": 31,
    "start_time": "2021-11-07T15:36:45.075Z"
   },
   {
    "duration": 36,
    "start_time": "2021-11-07T15:36:45.108Z"
   },
   {
    "duration": 17,
    "start_time": "2021-11-07T15:36:45.147Z"
   },
   {
    "duration": 59,
    "start_time": "2021-11-07T15:36:45.166Z"
   },
   {
    "duration": 40,
    "start_time": "2021-11-07T15:36:45.228Z"
   },
   {
    "duration": 346,
    "start_time": "2021-11-07T15:36:45.271Z"
   },
   {
    "duration": 13,
    "start_time": "2021-11-07T15:36:45.619Z"
   },
   {
    "duration": 53,
    "start_time": "2021-11-07T15:36:45.637Z"
   },
   {
    "duration": 6,
    "start_time": "2021-11-07T15:36:45.693Z"
   },
   {
    "duration": 39,
    "start_time": "2021-11-07T15:36:45.702Z"
   },
   {
    "duration": 127,
    "start_time": "2021-11-07T15:36:45.744Z"
   },
   {
    "duration": 12,
    "start_time": "2021-11-07T15:36:45.873Z"
   },
   {
    "duration": 211,
    "start_time": "2021-11-07T15:36:45.887Z"
   },
   {
    "duration": 11,
    "start_time": "2021-11-07T15:36:46.101Z"
   },
   {
    "duration": 67,
    "start_time": "2021-11-07T15:36:46.114Z"
   },
   {
    "duration": 45,
    "start_time": "2021-11-07T15:36:46.183Z"
   },
   {
    "duration": 68,
    "start_time": "2021-11-07T15:36:46.231Z"
   },
   {
    "duration": 479,
    "start_time": "2021-11-07T15:36:46.302Z"
   },
   {
    "duration": 87,
    "start_time": "2021-11-07T15:36:46.784Z"
   },
   {
    "duration": 140,
    "start_time": "2021-11-07T15:36:46.874Z"
   },
   {
    "duration": 21,
    "start_time": "2021-11-07T15:36:47.016Z"
   },
   {
    "duration": 19,
    "start_time": "2021-11-07T15:36:47.040Z"
   },
   {
    "duration": 5,
    "start_time": "2021-11-07T15:36:47.061Z"
   },
   {
    "duration": 12,
    "start_time": "2021-11-07T15:36:47.068Z"
   },
   {
    "duration": 30951,
    "start_time": "2021-11-07T15:38:38.428Z"
   },
   {
    "duration": 13,
    "start_time": "2021-11-07T15:39:31.242Z"
   },
   {
    "duration": 7,
    "start_time": "2021-11-07T15:39:36.355Z"
   },
   {
    "duration": 46,
    "start_time": "2021-11-07T15:39:40.062Z"
   },
   {
    "duration": 401,
    "start_time": "2021-11-07T15:41:46.568Z"
   },
   {
    "duration": 19,
    "start_time": "2021-11-07T15:41:57.653Z"
   },
   {
    "duration": 301,
    "start_time": "2021-11-07T15:44:52.365Z"
   },
   {
    "duration": 16,
    "start_time": "2021-11-07T15:44:59.024Z"
   },
   {
    "duration": 184,
    "start_time": "2021-11-07T15:48:35.189Z"
   },
   {
    "duration": 183,
    "start_time": "2021-11-07T15:49:52.996Z"
   },
   {
    "duration": 183,
    "start_time": "2021-11-07T15:52:06.238Z"
   },
   {
    "duration": 10,
    "start_time": "2021-11-07T15:52:08.790Z"
   },
   {
    "duration": 183,
    "start_time": "2021-11-07T15:55:13.977Z"
   },
   {
    "duration": 12,
    "start_time": "2021-11-07T15:55:20.502Z"
   },
   {
    "duration": 24,
    "start_time": "2021-11-07T15:56:34.127Z"
   },
   {
    "duration": 14,
    "start_time": "2021-11-07T15:56:36.945Z"
   },
   {
    "duration": 1188,
    "start_time": "2021-11-07T15:58:20.740Z"
   },
   {
    "duration": 1476,
    "start_time": "2021-11-07T15:58:41.511Z"
   },
   {
    "duration": 293,
    "start_time": "2021-11-07T15:58:42.990Z"
   },
   {
    "duration": 19,
    "start_time": "2021-11-07T15:58:43.286Z"
   },
   {
    "duration": 41,
    "start_time": "2021-11-07T15:58:43.309Z"
   },
   {
    "duration": 92,
    "start_time": "2021-11-07T15:58:43.352Z"
   },
   {
    "duration": 108,
    "start_time": "2021-11-07T15:58:43.446Z"
   },
   {
    "duration": 97,
    "start_time": "2021-11-07T15:58:43.556Z"
   },
   {
    "duration": 114,
    "start_time": "2021-11-07T15:58:43.657Z"
   },
   {
    "duration": 10,
    "start_time": "2021-11-07T15:58:43.774Z"
   },
   {
    "duration": 97,
    "start_time": "2021-11-07T15:58:43.787Z"
   },
   {
    "duration": 50,
    "start_time": "2021-11-07T15:58:43.887Z"
   },
   {
    "duration": 11,
    "start_time": "2021-11-07T15:58:43.940Z"
   },
   {
    "duration": 15,
    "start_time": "2021-11-07T15:58:43.953Z"
   },
   {
    "duration": 10,
    "start_time": "2021-11-07T15:58:43.970Z"
   },
   {
    "duration": 49,
    "start_time": "2021-11-07T15:58:43.983Z"
   },
   {
    "duration": 10,
    "start_time": "2021-11-07T15:58:44.035Z"
   },
   {
    "duration": 13,
    "start_time": "2021-11-07T15:58:44.048Z"
   },
   {
    "duration": 74,
    "start_time": "2021-11-07T15:58:44.064Z"
   },
   {
    "duration": 37,
    "start_time": "2021-11-07T15:58:44.141Z"
   },
   {
    "duration": 441,
    "start_time": "2021-11-07T15:58:44.181Z"
   },
   {
    "duration": 11,
    "start_time": "2021-11-07T15:58:44.624Z"
   },
   {
    "duration": 48,
    "start_time": "2021-11-07T15:58:44.637Z"
   },
   {
    "duration": 6,
    "start_time": "2021-11-07T15:58:44.692Z"
   },
   {
    "duration": 13,
    "start_time": "2021-11-07T15:58:44.730Z"
   },
   {
    "duration": 129,
    "start_time": "2021-11-07T15:58:44.746Z"
   },
   {
    "duration": 12,
    "start_time": "2021-11-07T15:58:44.877Z"
   },
   {
    "duration": 222,
    "start_time": "2021-11-07T15:58:44.892Z"
   },
   {
    "duration": 18,
    "start_time": "2021-11-07T15:58:45.117Z"
   },
   {
    "duration": 66,
    "start_time": "2021-11-07T15:58:45.138Z"
   },
   {
    "duration": 36,
    "start_time": "2021-11-07T15:58:45.207Z"
   },
   {
    "duration": 91,
    "start_time": "2021-11-07T15:58:45.246Z"
   },
   {
    "duration": 467,
    "start_time": "2021-11-07T15:58:45.339Z"
   },
   {
    "duration": 73,
    "start_time": "2021-11-07T15:58:45.809Z"
   },
   {
    "duration": 133,
    "start_time": "2021-11-07T15:58:45.885Z"
   },
   {
    "duration": 17,
    "start_time": "2021-11-07T15:58:46.021Z"
   },
   {
    "duration": 17,
    "start_time": "2021-11-07T15:58:46.040Z"
   },
   {
    "duration": 5,
    "start_time": "2021-11-07T15:58:46.060Z"
   },
   {
    "duration": 37464,
    "start_time": "2021-11-07T15:58:46.068Z"
   },
   {
    "duration": 275,
    "start_time": "2021-11-07T15:59:23.535Z"
   },
   {
    "duration": 37,
    "start_time": "2021-11-07T15:59:23.814Z"
   },
   {
    "duration": 1832,
    "start_time": "2021-11-07T15:59:23.854Z"
   },
   {
    "duration": 1162,
    "start_time": "2021-11-07T15:59:54.030Z"
   },
   {
    "duration": 1220,
    "start_time": "2021-11-07T16:00:11.294Z"
   },
   {
    "duration": 1507,
    "start_time": "2021-11-07T16:00:26.148Z"
   },
   {
    "duration": 1462,
    "start_time": "2021-11-07T18:24:52.837Z"
   },
   {
    "duration": 291,
    "start_time": "2021-11-07T18:24:54.301Z"
   },
   {
    "duration": 16,
    "start_time": "2021-11-07T18:24:54.596Z"
   },
   {
    "duration": 39,
    "start_time": "2021-11-07T18:24:54.615Z"
   },
   {
    "duration": 87,
    "start_time": "2021-11-07T18:24:54.657Z"
   },
   {
    "duration": 107,
    "start_time": "2021-11-07T18:24:54.747Z"
   },
   {
    "duration": 97,
    "start_time": "2021-11-07T18:24:54.857Z"
   },
   {
    "duration": 122,
    "start_time": "2021-11-07T18:24:54.956Z"
   },
   {
    "duration": 11,
    "start_time": "2021-11-07T18:24:55.082Z"
   },
   {
    "duration": 88,
    "start_time": "2021-11-07T18:24:55.096Z"
   },
   {
    "duration": 52,
    "start_time": "2021-11-07T18:24:55.186Z"
   },
   {
    "duration": 10,
    "start_time": "2021-11-07T18:24:55.241Z"
   },
   {
    "duration": 8,
    "start_time": "2021-11-07T18:24:55.254Z"
   },
   {
    "duration": 5,
    "start_time": "2021-11-07T18:24:55.265Z"
   },
   {
    "duration": 15,
    "start_time": "2021-11-07T18:24:55.273Z"
   },
   {
    "duration": 44,
    "start_time": "2021-11-07T18:24:55.291Z"
   },
   {
    "duration": 16,
    "start_time": "2021-11-07T18:24:55.338Z"
   },
   {
    "duration": 49,
    "start_time": "2021-11-07T18:24:55.356Z"
   },
   {
    "duration": 59,
    "start_time": "2021-11-07T18:24:55.407Z"
   },
   {
    "duration": 350,
    "start_time": "2021-11-07T18:24:55.469Z"
   },
   {
    "duration": 9,
    "start_time": "2021-11-07T18:24:55.829Z"
   },
   {
    "duration": 47,
    "start_time": "2021-11-07T18:24:55.841Z"
   },
   {
    "duration": 6,
    "start_time": "2021-11-07T18:24:55.890Z"
   },
   {
    "duration": 38,
    "start_time": "2021-11-07T18:24:55.898Z"
   },
   {
    "duration": 118,
    "start_time": "2021-11-07T18:24:55.938Z"
   },
   {
    "duration": 11,
    "start_time": "2021-11-07T18:24:56.058Z"
   },
   {
    "duration": 208,
    "start_time": "2021-11-07T18:24:56.074Z"
   },
   {
    "duration": 11,
    "start_time": "2021-11-07T18:24:56.285Z"
   },
   {
    "duration": 77,
    "start_time": "2021-11-07T18:24:56.298Z"
   },
   {
    "duration": 23,
    "start_time": "2021-11-07T18:24:56.377Z"
   },
   {
    "duration": 84,
    "start_time": "2021-11-07T18:24:56.403Z"
   },
   {
    "duration": 465,
    "start_time": "2021-11-07T18:24:56.489Z"
   },
   {
    "duration": 78,
    "start_time": "2021-11-07T18:24:56.956Z"
   },
   {
    "duration": 129,
    "start_time": "2021-11-07T18:24:57.037Z"
   },
   {
    "duration": 12,
    "start_time": "2021-11-07T18:24:57.169Z"
   },
   {
    "duration": 20,
    "start_time": "2021-11-07T18:24:57.183Z"
   },
   {
    "duration": 6,
    "start_time": "2021-11-07T18:24:57.230Z"
   },
   {
    "duration": 28348,
    "start_time": "2021-11-07T18:24:57.239Z"
   },
   {
    "duration": 165,
    "start_time": "2021-11-07T18:25:25.590Z"
   },
   {
    "duration": 21,
    "start_time": "2021-11-07T18:25:25.757Z"
   },
   {
    "duration": 1190,
    "start_time": "2021-11-07T18:25:25.780Z"
   },
   {
    "duration": 19,
    "start_time": "2021-11-07T18:35:05.556Z"
   },
   {
    "duration": 760,
    "start_time": "2021-11-07T18:37:26.945Z"
   },
   {
    "duration": 145,
    "start_time": "2021-11-07T18:37:39.598Z"
   },
   {
    "duration": 24,
    "start_time": "2021-11-07T18:37:44.487Z"
   },
   {
    "duration": 1383,
    "start_time": "2021-11-07T18:37:46.976Z"
   },
   {
    "duration": 326,
    "start_time": "2021-11-07T18:41:35.722Z"
   },
   {
    "duration": 160,
    "start_time": "2021-11-07T18:42:15.021Z"
   },
   {
    "duration": 13,
    "start_time": "2021-11-07T18:42:16.785Z"
   },
   {
    "duration": 151,
    "start_time": "2021-11-07T18:44:24.469Z"
   },
   {
    "duration": 12,
    "start_time": "2021-11-07T18:44:27.367Z"
   },
   {
    "duration": 87,
    "start_time": "2021-11-07T18:45:24.974Z"
   },
   {
    "duration": 12,
    "start_time": "2021-11-07T18:45:27.163Z"
   },
   {
    "duration": 12,
    "start_time": "2021-11-07T18:45:32.985Z"
   },
   {
    "duration": 86,
    "start_time": "2021-11-07T18:45:35.200Z"
   },
   {
    "duration": 12,
    "start_time": "2021-11-07T18:45:37.498Z"
   },
   {
    "duration": 1588,
    "start_time": "2021-11-07T18:46:18.115Z"
   },
   {
    "duration": 293,
    "start_time": "2021-11-07T18:46:19.706Z"
   },
   {
    "duration": 17,
    "start_time": "2021-11-07T18:46:20.002Z"
   },
   {
    "duration": 43,
    "start_time": "2021-11-07T18:46:20.022Z"
   },
   {
    "duration": 86,
    "start_time": "2021-11-07T18:46:20.068Z"
   },
   {
    "duration": 110,
    "start_time": "2021-11-07T18:46:20.157Z"
   },
   {
    "duration": 99,
    "start_time": "2021-11-07T18:46:20.270Z"
   },
   {
    "duration": 124,
    "start_time": "2021-11-07T18:46:20.373Z"
   },
   {
    "duration": 10,
    "start_time": "2021-11-07T18:46:20.501Z"
   },
   {
    "duration": 89,
    "start_time": "2021-11-07T18:46:20.514Z"
   },
   {
    "duration": 56,
    "start_time": "2021-11-07T18:46:20.605Z"
   },
   {
    "duration": 17,
    "start_time": "2021-11-07T18:46:20.663Z"
   },
   {
    "duration": 22,
    "start_time": "2021-11-07T18:46:20.683Z"
   },
   {
    "duration": 12,
    "start_time": "2021-11-07T18:46:20.708Z"
   },
   {
    "duration": 26,
    "start_time": "2021-11-07T18:46:20.730Z"
   },
   {
    "duration": 16,
    "start_time": "2021-11-07T18:46:20.758Z"
   },
   {
    "duration": 29,
    "start_time": "2021-11-07T18:46:20.777Z"
   },
   {
    "duration": 56,
    "start_time": "2021-11-07T18:46:20.808Z"
   },
   {
    "duration": 41,
    "start_time": "2021-11-07T18:46:20.866Z"
   },
   {
    "duration": 352,
    "start_time": "2021-11-07T18:46:20.910Z"
   },
   {
    "duration": 8,
    "start_time": "2021-11-07T18:46:21.265Z"
   },
   {
    "duration": 68,
    "start_time": "2021-11-07T18:46:21.276Z"
   },
   {
    "duration": 6,
    "start_time": "2021-11-07T18:46:21.349Z"
   },
   {
    "duration": 12,
    "start_time": "2021-11-07T18:46:21.358Z"
   },
   {
    "duration": 146,
    "start_time": "2021-11-07T18:46:21.372Z"
   },
   {
    "duration": 15,
    "start_time": "2021-11-07T18:46:21.521Z"
   },
   {
    "duration": 120,
    "start_time": "2021-11-07T18:46:21.538Z"
   },
   {
    "duration": 11,
    "start_time": "2021-11-07T18:46:21.661Z"
   },
   {
    "duration": 75,
    "start_time": "2021-11-07T18:46:21.674Z"
   },
   {
    "duration": 23,
    "start_time": "2021-11-07T18:46:21.751Z"
   },
   {
    "duration": 85,
    "start_time": "2021-11-07T18:46:21.777Z"
   },
   {
    "duration": 464,
    "start_time": "2021-11-07T18:46:21.864Z"
   },
   {
    "duration": 68,
    "start_time": "2021-11-07T18:46:22.331Z"
   },
   {
    "duration": 135,
    "start_time": "2021-11-07T18:46:22.401Z"
   },
   {
    "duration": 12,
    "start_time": "2021-11-07T18:46:22.538Z"
   },
   {
    "duration": 18,
    "start_time": "2021-11-07T18:46:22.553Z"
   },
   {
    "duration": 8,
    "start_time": "2021-11-07T18:46:22.573Z"
   },
   {
    "duration": 31221,
    "start_time": "2021-11-07T18:46:22.583Z"
   },
   {
    "duration": 171,
    "start_time": "2021-11-07T18:46:53.806Z"
   },
   {
    "duration": 21,
    "start_time": "2021-11-07T18:46:53.979Z"
   },
   {
    "duration": 1202,
    "start_time": "2021-11-07T18:46:54.002Z"
   },
   {
    "duration": 154,
    "start_time": "2021-11-07T18:46:55.206Z"
   },
   {
    "duration": 20,
    "start_time": "2021-11-07T18:46:55.363Z"
   },
   {
    "duration": 1436,
    "start_time": "2021-11-07T18:46:55.386Z"
   },
   {
    "duration": 18,
    "start_time": "2021-11-07T18:50:45.452Z"
   },
   {
    "duration": 284,
    "start_time": "2021-11-07T18:52:07.783Z"
   },
   {
    "duration": 281,
    "start_time": "2021-11-07T18:52:46.996Z"
   },
   {
    "duration": 284,
    "start_time": "2021-11-07T18:52:59.033Z"
   },
   {
    "duration": 7443,
    "start_time": "2021-11-07T18:59:48.206Z"
   },
   {
    "duration": 283,
    "start_time": "2021-11-07T19:00:34.978Z"
   },
   {
    "duration": 9,
    "start_time": "2021-11-07T19:00:42.138Z"
   },
   {
    "duration": 317,
    "start_time": "2021-11-07T19:01:17.473Z"
   },
   {
    "duration": 299,
    "start_time": "2021-11-07T19:01:39.603Z"
   },
   {
    "duration": 14,
    "start_time": "2021-11-07T19:10:09.358Z"
   },
   {
    "duration": 9,
    "start_time": "2021-11-07T19:11:23.204Z"
   },
   {
    "duration": 10,
    "start_time": "2021-11-07T19:11:29.652Z"
   },
   {
    "duration": 23,
    "start_time": "2021-11-07T19:13:44.362Z"
   },
   {
    "duration": 6772,
    "start_time": "2021-11-07T19:16:15.301Z"
   },
   {
    "duration": 1565,
    "start_time": "2021-11-07T19:16:27.821Z"
   },
   {
    "duration": 308,
    "start_time": "2021-11-07T19:16:29.389Z"
   },
   {
    "duration": 17,
    "start_time": "2021-11-07T19:16:29.703Z"
   },
   {
    "duration": 60,
    "start_time": "2021-11-07T19:16:29.722Z"
   },
   {
    "duration": 77,
    "start_time": "2021-11-07T19:16:29.784Z"
   },
   {
    "duration": 108,
    "start_time": "2021-11-07T19:16:29.864Z"
   },
   {
    "duration": 96,
    "start_time": "2021-11-07T19:16:29.976Z"
   },
   {
    "duration": 125,
    "start_time": "2021-11-07T19:16:30.075Z"
   },
   {
    "duration": 12,
    "start_time": "2021-11-07T19:16:30.202Z"
   },
   {
    "duration": 80,
    "start_time": "2021-11-07T19:16:30.216Z"
   },
   {
    "duration": 54,
    "start_time": "2021-11-07T19:16:30.298Z"
   },
   {
    "duration": 10,
    "start_time": "2021-11-07T19:16:30.354Z"
   },
   {
    "duration": 26,
    "start_time": "2021-11-07T19:16:30.367Z"
   },
   {
    "duration": 21,
    "start_time": "2021-11-07T19:16:30.396Z"
   },
   {
    "duration": 32,
    "start_time": "2021-11-07T19:16:30.419Z"
   },
   {
    "duration": 41,
    "start_time": "2021-11-07T19:16:30.454Z"
   },
   {
    "duration": 55,
    "start_time": "2021-11-07T19:16:30.498Z"
   },
   {
    "duration": 75,
    "start_time": "2021-11-07T19:16:30.556Z"
   },
   {
    "duration": 41,
    "start_time": "2021-11-07T19:16:30.635Z"
   },
   {
    "duration": 355,
    "start_time": "2021-11-07T19:16:30.678Z"
   },
   {
    "duration": 9,
    "start_time": "2021-11-07T19:16:31.035Z"
   },
   {
    "duration": 75,
    "start_time": "2021-11-07T19:16:31.049Z"
   },
   {
    "duration": 6,
    "start_time": "2021-11-07T19:16:31.127Z"
   },
   {
    "duration": 43,
    "start_time": "2021-11-07T19:16:31.136Z"
   },
   {
    "duration": 120,
    "start_time": "2021-11-07T19:16:31.181Z"
   },
   {
    "duration": 12,
    "start_time": "2021-11-07T19:16:31.303Z"
   },
   {
    "duration": 128,
    "start_time": "2021-11-07T19:16:31.329Z"
   },
   {
    "duration": 11,
    "start_time": "2021-11-07T19:16:31.459Z"
   },
   {
    "duration": 82,
    "start_time": "2021-11-07T19:16:31.473Z"
   },
   {
    "duration": 23,
    "start_time": "2021-11-07T19:16:31.557Z"
   },
   {
    "duration": 90,
    "start_time": "2021-11-07T19:16:31.582Z"
   },
   {
    "duration": 458,
    "start_time": "2021-11-07T19:16:31.674Z"
   },
   {
    "duration": 73,
    "start_time": "2021-11-07T19:16:32.135Z"
   },
   {
    "duration": 142,
    "start_time": "2021-11-07T19:16:32.210Z"
   },
   {
    "duration": 13,
    "start_time": "2021-11-07T19:16:32.354Z"
   },
   {
    "duration": 50,
    "start_time": "2021-11-07T19:16:32.369Z"
   },
   {
    "duration": 17,
    "start_time": "2021-11-07T19:16:32.421Z"
   },
   {
    "duration": 28559,
    "start_time": "2021-11-07T19:16:32.440Z"
   },
   {
    "duration": 165,
    "start_time": "2021-11-07T19:17:01.001Z"
   },
   {
    "duration": 20,
    "start_time": "2021-11-07T19:17:01.169Z"
   },
   {
    "duration": 1202,
    "start_time": "2021-11-07T19:17:01.191Z"
   },
   {
    "duration": 160,
    "start_time": "2021-11-07T19:17:02.395Z"
   },
   {
    "duration": 22,
    "start_time": "2021-11-07T19:17:02.557Z"
   },
   {
    "duration": 1360,
    "start_time": "2021-11-07T19:17:02.581Z"
   },
   {
    "duration": 18,
    "start_time": "2021-11-07T19:17:03.944Z"
   },
   {
    "duration": 322,
    "start_time": "2021-11-07T19:17:03.965Z"
   },
   {
    "duration": 9,
    "start_time": "2021-11-07T19:17:04.289Z"
   },
   {
    "duration": 37,
    "start_time": "2021-11-07T19:17:04.300Z"
   },
   {
    "duration": 1477,
    "start_time": "2021-11-07T19:52:50.522Z"
   },
   {
    "duration": 315,
    "start_time": "2021-11-07T19:52:52.003Z"
   },
   {
    "duration": 19,
    "start_time": "2021-11-07T19:52:52.322Z"
   },
   {
    "duration": 41,
    "start_time": "2021-11-07T19:52:52.345Z"
   },
   {
    "duration": 106,
    "start_time": "2021-11-07T19:52:52.390Z"
   },
   {
    "duration": 114,
    "start_time": "2021-11-07T19:52:52.499Z"
   },
   {
    "duration": 98,
    "start_time": "2021-11-07T19:52:52.616Z"
   },
   {
    "duration": 127,
    "start_time": "2021-11-07T19:52:52.718Z"
   },
   {
    "duration": 10,
    "start_time": "2021-11-07T19:52:52.848Z"
   },
   {
    "duration": 92,
    "start_time": "2021-11-07T19:52:52.861Z"
   },
   {
    "duration": 49,
    "start_time": "2021-11-07T19:52:52.955Z"
   },
   {
    "duration": 24,
    "start_time": "2021-11-07T19:52:53.006Z"
   },
   {
    "duration": 13,
    "start_time": "2021-11-07T19:52:53.033Z"
   },
   {
    "duration": 7,
    "start_time": "2021-11-07T19:52:53.049Z"
   },
   {
    "duration": 11,
    "start_time": "2021-11-07T19:52:53.059Z"
   },
   {
    "duration": 10,
    "start_time": "2021-11-07T19:52:53.072Z"
   },
   {
    "duration": 45,
    "start_time": "2021-11-07T19:52:53.085Z"
   },
   {
    "duration": 51,
    "start_time": "2021-11-07T19:52:53.133Z"
   },
   {
    "duration": 57,
    "start_time": "2021-11-07T19:52:53.186Z"
   },
   {
    "duration": 360,
    "start_time": "2021-11-07T19:52:53.246Z"
   },
   {
    "duration": 9,
    "start_time": "2021-11-07T19:52:53.608Z"
   },
   {
    "duration": 49,
    "start_time": "2021-11-07T19:52:53.630Z"
   },
   {
    "duration": 6,
    "start_time": "2021-11-07T19:52:53.685Z"
   },
   {
    "duration": 35,
    "start_time": "2021-11-07T19:52:53.694Z"
   },
   {
    "duration": 122,
    "start_time": "2021-11-07T19:52:53.731Z"
   },
   {
    "duration": 12,
    "start_time": "2021-11-07T19:52:53.855Z"
   },
   {
    "duration": 129,
    "start_time": "2021-11-07T19:52:53.869Z"
   },
   {
    "duration": 12,
    "start_time": "2021-11-07T19:52:54.000Z"
   },
   {
    "duration": 56,
    "start_time": "2021-11-07T19:52:54.028Z"
   },
   {
    "duration": 24,
    "start_time": "2021-11-07T19:52:54.086Z"
   },
   {
    "duration": 80,
    "start_time": "2021-11-07T19:52:54.112Z"
   },
   {
    "duration": 492,
    "start_time": "2021-11-07T19:52:54.194Z"
   },
   {
    "duration": 82,
    "start_time": "2021-11-07T19:52:54.689Z"
   },
   {
    "duration": 123,
    "start_time": "2021-11-07T19:52:54.773Z"
   },
   {
    "duration": 13,
    "start_time": "2021-11-07T19:52:54.898Z"
   },
   {
    "duration": 30,
    "start_time": "2021-11-07T19:52:54.913Z"
   },
   {
    "duration": 6,
    "start_time": "2021-11-07T19:52:54.945Z"
   },
   {
    "duration": 30655,
    "start_time": "2021-11-07T19:52:54.954Z"
   },
   {
    "duration": 166,
    "start_time": "2021-11-07T19:53:25.612Z"
   },
   {
    "duration": 20,
    "start_time": "2021-11-07T19:53:25.781Z"
   },
   {
    "duration": 1195,
    "start_time": "2021-11-07T19:53:25.803Z"
   },
   {
    "duration": 153,
    "start_time": "2021-11-07T19:53:27.000Z"
   },
   {
    "duration": 20,
    "start_time": "2021-11-07T19:53:27.155Z"
   },
   {
    "duration": 1484,
    "start_time": "2021-11-07T19:53:27.177Z"
   },
   {
    "duration": 18,
    "start_time": "2021-11-07T19:53:28.663Z"
   },
   {
    "duration": 329,
    "start_time": "2021-11-07T19:53:28.683Z"
   },
   {
    "duration": 16,
    "start_time": "2021-11-07T19:53:29.014Z"
   },
   {
    "duration": 35,
    "start_time": "2021-11-07T19:53:29.032Z"
   },
   {
    "duration": 300,
    "start_time": "2021-11-07T19:54:34.697Z"
   },
   {
    "duration": 22,
    "start_time": "2021-11-07T19:54:38.948Z"
   },
   {
    "duration": 299,
    "start_time": "2021-11-07T19:54:47.256Z"
   },
   {
    "duration": 22,
    "start_time": "2021-11-07T19:54:49.361Z"
   },
   {
    "duration": 23,
    "start_time": "2021-11-07T20:04:03.732Z"
   },
   {
    "duration": 16,
    "start_time": "2021-11-07T20:04:08.164Z"
   },
   {
    "duration": 9,
    "start_time": "2021-11-07T20:08:18.491Z"
   },
   {
    "duration": 10,
    "start_time": "2021-11-07T20:13:59.413Z"
   },
   {
    "duration": 46,
    "start_time": "2021-11-07T20:14:32.925Z"
   },
   {
    "duration": 9,
    "start_time": "2021-11-07T20:17:21.991Z"
   },
   {
    "duration": 408,
    "start_time": "2021-11-07T20:23:50.058Z"
   },
   {
    "duration": 10,
    "start_time": "2021-11-07T20:23:58.222Z"
   },
   {
    "duration": 14,
    "start_time": "2021-11-07T20:27:10.331Z"
   },
   {
    "duration": 25,
    "start_time": "2021-11-07T20:28:14.578Z"
   },
   {
    "duration": 10,
    "start_time": "2021-11-07T20:28:35.698Z"
   },
   {
    "duration": 5,
    "start_time": "2021-11-07T20:29:04.907Z"
   },
   {
    "duration": 16,
    "start_time": "2021-11-07T20:29:11.490Z"
   },
   {
    "duration": 8,
    "start_time": "2021-11-07T20:29:49.527Z"
   },
   {
    "duration": 9,
    "start_time": "2021-11-07T20:29:53.993Z"
   },
   {
    "duration": 86,
    "start_time": "2021-11-07T20:30:29.457Z"
   },
   {
    "duration": 9,
    "start_time": "2021-11-07T20:30:42.720Z"
   },
   {
    "duration": 15,
    "start_time": "2021-11-07T20:31:46.750Z"
   },
   {
    "duration": 32,
    "start_time": "2021-11-07T20:33:08.648Z"
   },
   {
    "duration": 36,
    "start_time": "2021-11-07T20:33:22.867Z"
   },
   {
    "duration": 16,
    "start_time": "2021-11-07T20:33:42.428Z"
   },
   {
    "duration": 37,
    "start_time": "2021-11-07T20:33:51.913Z"
   },
   {
    "duration": 25,
    "start_time": "2021-11-07T20:34:13.584Z"
   },
   {
    "duration": 15,
    "start_time": "2021-11-07T20:34:20.713Z"
   },
   {
    "duration": 25,
    "start_time": "2021-11-07T20:34:35.035Z"
   },
   {
    "duration": 17,
    "start_time": "2021-11-07T20:34:36.879Z"
   },
   {
    "duration": 9,
    "start_time": "2021-11-07T20:34:45.571Z"
   },
   {
    "duration": 9,
    "start_time": "2021-11-07T20:34:55.854Z"
   },
   {
    "duration": 30,
    "start_time": "2021-11-07T20:35:55.120Z"
   },
   {
    "duration": 19,
    "start_time": "2021-11-07T20:36:03.093Z"
   },
   {
    "duration": 262,
    "start_time": "2021-11-07T20:42:10.980Z"
   },
   {
    "duration": 14,
    "start_time": "2021-11-07T20:42:15.948Z"
   },
   {
    "duration": 296,
    "start_time": "2021-11-07T20:44:11.095Z"
   },
   {
    "duration": 253,
    "start_time": "2021-11-07T20:44:17.009Z"
   },
   {
    "duration": 254,
    "start_time": "2021-11-07T20:44:23.779Z"
   },
   {
    "duration": 7350,
    "start_time": "2021-11-07T20:44:41.232Z"
   },
   {
    "duration": 246,
    "start_time": "2021-11-07T20:44:58.085Z"
   },
   {
    "duration": 143,
    "start_time": "2021-11-07T20:46:08.479Z"
   },
   {
    "duration": 133,
    "start_time": "2021-11-07T20:46:29.648Z"
   },
   {
    "duration": 269,
    "start_time": "2021-11-07T20:47:53.544Z"
   },
   {
    "duration": 9,
    "start_time": "2021-11-07T20:48:13.798Z"
   },
   {
    "duration": 9,
    "start_time": "2021-11-07T20:48:28.226Z"
   },
   {
    "duration": 284,
    "start_time": "2021-11-07T20:48:51.442Z"
   },
   {
    "duration": 139,
    "start_time": "2021-11-07T20:49:19.335Z"
   },
   {
    "duration": 10,
    "start_time": "2021-11-07T20:49:22.259Z"
   },
   {
    "duration": 15,
    "start_time": "2021-11-07T20:49:26.359Z"
   },
   {
    "duration": 21,
    "start_time": "2021-11-07T20:49:29.733Z"
   },
   {
    "duration": 139,
    "start_time": "2021-11-07T20:50:43.108Z"
   },
   {
    "duration": 141,
    "start_time": "2021-11-07T20:50:56.099Z"
   },
   {
    "duration": 261,
    "start_time": "2021-11-07T20:51:05.406Z"
   },
   {
    "duration": 14,
    "start_time": "2021-11-07T20:51:15.722Z"
   },
   {
    "duration": 135,
    "start_time": "2021-11-07T20:51:24.932Z"
   },
   {
    "duration": 20,
    "start_time": "2021-11-07T20:51:26.768Z"
   },
   {
    "duration": 9,
    "start_time": "2021-11-07T20:51:51.527Z"
   },
   {
    "duration": 14,
    "start_time": "2021-11-07T20:52:08.602Z"
   },
   {
    "duration": 11,
    "start_time": "2021-11-07T20:53:43.458Z"
   },
   {
    "duration": 16,
    "start_time": "2021-11-07T20:53:45.753Z"
   },
   {
    "duration": 34,
    "start_time": "2021-11-07T20:54:35.436Z"
   },
   {
    "duration": 33,
    "start_time": "2021-11-07T20:54:52.080Z"
   },
   {
    "duration": 12,
    "start_time": "2021-11-07T20:55:28.670Z"
   },
   {
    "duration": 9,
    "start_time": "2021-11-07T20:56:07.471Z"
   },
   {
    "duration": 8,
    "start_time": "2021-11-07T20:56:18.944Z"
   },
   {
    "duration": 9,
    "start_time": "2021-11-07T20:56:56.066Z"
   },
   {
    "duration": 8,
    "start_time": "2021-11-07T20:57:09.572Z"
   },
   {
    "duration": 10,
    "start_time": "2021-11-07T20:57:12.184Z"
   },
   {
    "duration": 9,
    "start_time": "2021-11-07T20:57:19.653Z"
   },
   {
    "duration": 7,
    "start_time": "2021-11-07T21:03:01.610Z"
   },
   {
    "duration": 6,
    "start_time": "2021-11-07T21:03:28.907Z"
   },
   {
    "duration": 5,
    "start_time": "2021-11-07T21:04:09.943Z"
   },
   {
    "duration": 11,
    "start_time": "2021-11-07T21:04:44.060Z"
   },
   {
    "duration": 5,
    "start_time": "2021-11-07T21:05:50.112Z"
   },
   {
    "duration": 7,
    "start_time": "2021-11-07T21:05:53.893Z"
   },
   {
    "duration": 4,
    "start_time": "2021-11-07T21:06:09.844Z"
   },
   {
    "duration": 539,
    "start_time": "2021-11-07T21:06:12.816Z"
   },
   {
    "duration": 4,
    "start_time": "2021-11-07T21:06:39.991Z"
   },
   {
    "duration": 558,
    "start_time": "2021-11-07T21:06:42.338Z"
   },
   {
    "duration": 5,
    "start_time": "2021-11-07T21:07:14.535Z"
   },
   {
    "duration": 4,
    "start_time": "2021-11-07T21:07:32.199Z"
   },
   {
    "duration": 524,
    "start_time": "2021-11-07T21:07:35.543Z"
   },
   {
    "duration": 4,
    "start_time": "2021-11-07T21:07:42.990Z"
   },
   {
    "duration": 10,
    "start_time": "2021-11-07T21:07:45.651Z"
   },
   {
    "duration": 5,
    "start_time": "2021-11-07T21:08:08.345Z"
   },
   {
    "duration": 5,
    "start_time": "2021-11-07T21:11:08.060Z"
   },
   {
    "duration": 5,
    "start_time": "2021-11-07T21:12:08.742Z"
   },
   {
    "duration": 8,
    "start_time": "2021-11-07T21:12:59.301Z"
   },
   {
    "duration": 13,
    "start_time": "2021-11-07T21:18:57.096Z"
   },
   {
    "duration": 6,
    "start_time": "2021-11-07T21:20:56.226Z"
   },
   {
    "duration": 4,
    "start_time": "2021-11-07T21:21:33.033Z"
   },
   {
    "duration": 5,
    "start_time": "2021-11-07T21:21:40.074Z"
   },
   {
    "duration": 5,
    "start_time": "2021-11-07T21:22:16.906Z"
   },
   {
    "duration": 19,
    "start_time": "2021-11-07T21:22:58.249Z"
   },
   {
    "duration": 250,
    "start_time": "2021-11-07T21:24:26.448Z"
   },
   {
    "duration": 4,
    "start_time": "2021-11-07T21:24:36.219Z"
   },
   {
    "duration": 5,
    "start_time": "2021-11-07T21:24:38.887Z"
   },
   {
    "duration": 73,
    "start_time": "2021-11-07T21:27:50.967Z"
   },
   {
    "duration": 290,
    "start_time": "2021-11-07T21:30:54.563Z"
   },
   {
    "duration": 84,
    "start_time": "2021-11-07T21:30:59.452Z"
   },
   {
    "duration": 272,
    "start_time": "2021-11-07T21:31:05.312Z"
   },
   {
    "duration": 271,
    "start_time": "2021-11-07T21:32:41.155Z"
   },
   {
    "duration": 267,
    "start_time": "2021-11-07T21:32:44.096Z"
   },
   {
    "duration": 283,
    "start_time": "2021-11-07T21:32:46.718Z"
   },
   {
    "duration": 303,
    "start_time": "2021-11-07T21:32:55.223Z"
   },
   {
    "duration": 272,
    "start_time": "2021-11-07T21:33:07.367Z"
   },
   {
    "duration": 59,
    "start_time": "2021-11-07T21:38:53.097Z"
   },
   {
    "duration": 96,
    "start_time": "2021-11-07T21:39:20.668Z"
   },
   {
    "duration": 32,
    "start_time": "2021-11-07T21:39:29.439Z"
   },
   {
    "duration": 33,
    "start_time": "2021-11-07T21:42:30.979Z"
   },
   {
    "duration": 44,
    "start_time": "2021-11-07T21:43:13.821Z"
   },
   {
    "duration": 39,
    "start_time": "2021-11-07T21:43:29.832Z"
   },
   {
    "duration": 98,
    "start_time": "2021-11-07T21:43:46.339Z"
   },
   {
    "duration": 41,
    "start_time": "2021-11-07T21:43:53.003Z"
   },
   {
    "duration": 91,
    "start_time": "2021-11-07T21:44:16.651Z"
   },
   {
    "duration": 118,
    "start_time": "2021-11-07T21:44:31.711Z"
   },
   {
    "duration": 5,
    "start_time": "2021-11-07T21:47:23.668Z"
   },
   {
    "duration": 37,
    "start_time": "2021-11-07T21:47:26.464Z"
   },
   {
    "duration": 136,
    "start_time": "2021-11-07T21:47:29.402Z"
   },
   {
    "duration": 12,
    "start_time": "2021-11-07T21:47:39.279Z"
   },
   {
    "duration": 8,
    "start_time": "2021-11-07T21:49:09.879Z"
   },
   {
    "duration": 9,
    "start_time": "2021-11-07T21:49:24.151Z"
   },
   {
    "duration": 8,
    "start_time": "2021-11-07T21:49:27.651Z"
   },
   {
    "duration": 8,
    "start_time": "2021-11-07T21:50:02.310Z"
   },
   {
    "duration": 8,
    "start_time": "2021-11-07T21:50:13.342Z"
   },
   {
    "duration": 9,
    "start_time": "2021-11-07T21:50:18.674Z"
   },
   {
    "duration": 8,
    "start_time": "2021-11-07T21:51:06.836Z"
   },
   {
    "duration": 9,
    "start_time": "2021-11-07T21:51:42.321Z"
   },
   {
    "duration": 5,
    "start_time": "2021-11-07T21:52:33.708Z"
   },
   {
    "duration": 9,
    "start_time": "2021-11-07T21:52:45.410Z"
   },
   {
    "duration": 9,
    "start_time": "2021-11-07T21:53:08.222Z"
   },
   {
    "duration": 111,
    "start_time": "2021-11-07T21:53:14.033Z"
   },
   {
    "duration": 1477,
    "start_time": "2021-11-07T21:53:58.308Z"
   },
   {
    "duration": 408,
    "start_time": "2021-11-07T21:53:59.788Z"
   },
   {
    "duration": 18,
    "start_time": "2021-11-07T21:54:00.199Z"
   },
   {
    "duration": 48,
    "start_time": "2021-11-07T21:54:00.220Z"
   },
   {
    "duration": 85,
    "start_time": "2021-11-07T21:54:00.271Z"
   },
   {
    "duration": 115,
    "start_time": "2021-11-07T21:54:00.359Z"
   },
   {
    "duration": 103,
    "start_time": "2021-11-07T21:54:00.477Z"
   },
   {
    "duration": 134,
    "start_time": "2021-11-07T21:54:00.585Z"
   },
   {
    "duration": 15,
    "start_time": "2021-11-07T21:54:00.723Z"
   },
   {
    "duration": 92,
    "start_time": "2021-11-07T21:54:00.741Z"
   },
   {
    "duration": 50,
    "start_time": "2021-11-07T21:54:00.836Z"
   },
   {
    "duration": 14,
    "start_time": "2021-11-07T21:54:00.889Z"
   },
   {
    "duration": 32,
    "start_time": "2021-11-07T21:54:00.906Z"
   },
   {
    "duration": 29,
    "start_time": "2021-11-07T21:54:00.941Z"
   },
   {
    "duration": 23,
    "start_time": "2021-11-07T21:54:00.973Z"
   },
   {
    "duration": 30,
    "start_time": "2021-11-07T21:54:00.999Z"
   },
   {
    "duration": 26,
    "start_time": "2021-11-07T21:54:01.032Z"
   },
   {
    "duration": 71,
    "start_time": "2021-11-07T21:54:01.061Z"
   },
   {
    "duration": 45,
    "start_time": "2021-11-07T21:54:01.135Z"
   },
   {
    "duration": 345,
    "start_time": "2021-11-07T21:54:01.183Z"
   },
   {
    "duration": 9,
    "start_time": "2021-11-07T21:54:01.531Z"
   },
   {
    "duration": 60,
    "start_time": "2021-11-07T21:54:01.543Z"
   },
   {
    "duration": 20,
    "start_time": "2021-11-07T21:54:01.608Z"
   },
   {
    "duration": 22,
    "start_time": "2021-11-07T21:54:01.632Z"
   },
   {
    "duration": 121,
    "start_time": "2021-11-07T21:54:01.657Z"
   },
   {
    "duration": 11,
    "start_time": "2021-11-07T21:54:01.781Z"
   },
   {
    "duration": 137,
    "start_time": "2021-11-07T21:54:01.794Z"
   },
   {
    "duration": 11,
    "start_time": "2021-11-07T21:54:01.934Z"
   },
   {
    "duration": 70,
    "start_time": "2021-11-07T21:54:01.948Z"
   },
   {
    "duration": 27,
    "start_time": "2021-11-07T21:54:02.029Z"
   },
   {
    "duration": 331,
    "start_time": "2021-11-07T21:54:02.059Z"
   },
   {
    "duration": 880,
    "start_time": "2021-11-07T21:54:02.392Z"
   },
   {
    "duration": 88,
    "start_time": "2021-11-07T21:54:03.274Z"
   },
   {
    "duration": 120,
    "start_time": "2021-11-07T21:54:03.364Z"
   },
   {
    "duration": 13,
    "start_time": "2021-11-07T21:54:03.486Z"
   },
   {
    "duration": 33,
    "start_time": "2021-11-07T21:54:03.501Z"
   },
   {
    "duration": 12,
    "start_time": "2021-11-07T21:54:03.537Z"
   },
   {
    "duration": 27906,
    "start_time": "2021-11-07T21:54:03.551Z"
   },
   {
    "duration": 164,
    "start_time": "2021-11-07T21:54:31.459Z"
   },
   {
    "duration": 24,
    "start_time": "2021-11-07T21:54:31.625Z"
   },
   {
    "duration": 1158,
    "start_time": "2021-11-07T21:54:31.652Z"
   },
   {
    "duration": 157,
    "start_time": "2021-11-07T21:54:32.812Z"
   },
   {
    "duration": 24,
    "start_time": "2021-11-07T21:54:32.971Z"
   },
   {
    "duration": 1355,
    "start_time": "2021-11-07T21:54:32.997Z"
   },
   {
    "duration": 18,
    "start_time": "2021-11-07T21:54:34.355Z"
   },
   {
    "duration": 327,
    "start_time": "2021-11-07T21:54:34.376Z"
   },
   {
    "duration": 8,
    "start_time": "2021-11-07T21:54:34.706Z"
   },
   {
    "duration": 22,
    "start_time": "2021-11-07T21:54:34.728Z"
   },
   {
    "duration": 4,
    "start_time": "2021-11-07T21:54:34.752Z"
   },
   {
    "duration": 14,
    "start_time": "2021-11-07T21:54:34.759Z"
   },
   {
    "duration": 6,
    "start_time": "2021-11-07T21:54:34.775Z"
   },
   {
    "duration": 16,
    "start_time": "2021-11-07T21:54:34.783Z"
   },
   {
    "duration": 154,
    "start_time": "2021-11-07T21:54:34.830Z"
   },
   {
    "duration": 31,
    "start_time": "2021-11-07T21:54:34.986Z"
   },
   {
    "duration": 4,
    "start_time": "2021-11-07T21:54:35.029Z"
   },
   {
    "duration": 94,
    "start_time": "2021-11-07T21:54:35.036Z"
   },
   {
    "duration": 123,
    "start_time": "2021-11-07T21:54:35.133Z"
   },
   {
    "duration": 1434,
    "start_time": "2021-11-07T22:16:31.857Z"
   },
   {
    "duration": 298,
    "start_time": "2021-11-07T22:16:33.294Z"
   },
   {
    "duration": 17,
    "start_time": "2021-11-07T22:16:33.595Z"
   },
   {
    "duration": 46,
    "start_time": "2021-11-07T22:16:33.615Z"
   },
   {
    "duration": 75,
    "start_time": "2021-11-07T22:16:33.664Z"
   },
   {
    "duration": 108,
    "start_time": "2021-11-07T22:16:33.742Z"
   },
   {
    "duration": 99,
    "start_time": "2021-11-07T22:16:33.852Z"
   },
   {
    "duration": 116,
    "start_time": "2021-11-07T22:16:33.954Z"
   },
   {
    "duration": 11,
    "start_time": "2021-11-07T22:16:34.074Z"
   },
   {
    "duration": 88,
    "start_time": "2021-11-07T22:16:34.088Z"
   },
   {
    "duration": 61,
    "start_time": "2021-11-07T22:16:34.178Z"
   },
   {
    "duration": 12,
    "start_time": "2021-11-07T22:16:34.242Z"
   },
   {
    "duration": 11,
    "start_time": "2021-11-07T22:16:34.257Z"
   },
   {
    "duration": 7,
    "start_time": "2021-11-07T22:16:34.270Z"
   },
   {
    "duration": 55,
    "start_time": "2021-11-07T22:16:34.279Z"
   },
   {
    "duration": 10,
    "start_time": "2021-11-07T22:16:34.337Z"
   },
   {
    "duration": 16,
    "start_time": "2021-11-07T22:16:34.350Z"
   },
   {
    "duration": 92,
    "start_time": "2021-11-07T22:16:34.368Z"
   },
   {
    "duration": 41,
    "start_time": "2021-11-07T22:16:34.463Z"
   },
   {
    "duration": 349,
    "start_time": "2021-11-07T22:16:34.506Z"
   },
   {
    "duration": 11,
    "start_time": "2021-11-07T22:16:34.858Z"
   },
   {
    "duration": 79,
    "start_time": "2021-11-07T22:16:34.872Z"
   },
   {
    "duration": 6,
    "start_time": "2021-11-07T22:16:34.958Z"
   },
   {
    "duration": 15,
    "start_time": "2021-11-07T22:16:34.968Z"
   },
   {
    "duration": 140,
    "start_time": "2021-11-07T22:16:34.986Z"
   },
   {
    "duration": 12,
    "start_time": "2021-11-07T22:16:35.128Z"
   },
   {
    "duration": 126,
    "start_time": "2021-11-07T22:16:35.142Z"
   },
   {
    "duration": 11,
    "start_time": "2021-11-07T22:16:35.270Z"
   },
   {
    "duration": 78,
    "start_time": "2021-11-07T22:16:35.283Z"
   },
   {
    "duration": 23,
    "start_time": "2021-11-07T22:16:35.363Z"
   },
   {
    "duration": 81,
    "start_time": "2021-11-07T22:16:35.388Z"
   },
   {
    "duration": 453,
    "start_time": "2021-11-07T22:16:35.471Z"
   },
   {
    "duration": 69,
    "start_time": "2021-11-07T22:16:35.929Z"
   },
   {
    "duration": 138,
    "start_time": "2021-11-07T22:16:36.001Z"
   },
   {
    "duration": 13,
    "start_time": "2021-11-07T22:16:36.141Z"
   },
   {
    "duration": 18,
    "start_time": "2021-11-07T22:16:36.156Z"
   },
   {
    "duration": 6,
    "start_time": "2021-11-07T22:16:36.177Z"
   },
   {
    "duration": 28926,
    "start_time": "2021-11-07T22:16:36.186Z"
   },
   {
    "duration": 171,
    "start_time": "2021-11-07T22:17:05.115Z"
   },
   {
    "duration": 21,
    "start_time": "2021-11-07T22:17:05.288Z"
   },
   {
    "duration": 1223,
    "start_time": "2021-11-07T22:17:05.311Z"
   },
   {
    "duration": 157,
    "start_time": "2021-11-07T22:17:06.536Z"
   },
   {
    "duration": 36,
    "start_time": "2021-11-07T22:17:06.696Z"
   },
   {
    "duration": 1329,
    "start_time": "2021-11-07T22:17:06.735Z"
   },
   {
    "duration": 19,
    "start_time": "2021-11-07T22:17:08.068Z"
   },
   {
    "duration": 345,
    "start_time": "2021-11-07T22:17:08.090Z"
   },
   {
    "duration": 10,
    "start_time": "2021-11-07T22:17:08.438Z"
   },
   {
    "duration": 23,
    "start_time": "2021-11-07T22:17:08.451Z"
   },
   {
    "duration": 4,
    "start_time": "2021-11-07T22:17:08.477Z"
   },
   {
    "duration": 46,
    "start_time": "2021-11-07T22:17:08.483Z"
   },
   {
    "duration": 5,
    "start_time": "2021-11-07T22:17:08.532Z"
   },
   {
    "duration": 16,
    "start_time": "2021-11-07T22:17:08.539Z"
   },
   {
    "duration": 163,
    "start_time": "2021-11-07T22:17:08.558Z"
   },
   {
    "duration": 34,
    "start_time": "2021-11-07T22:17:08.724Z"
   },
   {
    "duration": 20,
    "start_time": "2021-11-07T22:17:08.761Z"
   },
   {
    "duration": 58,
    "start_time": "2021-11-07T22:17:08.783Z"
   },
   {
    "duration": 123,
    "start_time": "2021-11-07T22:17:08.844Z"
   },
   {
    "duration": 1517,
    "start_time": "2021-11-08T18:35:10.489Z"
   },
   {
    "duration": 815,
    "start_time": "2021-11-08T18:35:12.009Z"
   },
   {
    "duration": 16,
    "start_time": "2021-11-08T18:35:12.827Z"
   },
   {
    "duration": 41,
    "start_time": "2021-11-08T18:35:12.846Z"
   },
   {
    "duration": 92,
    "start_time": "2021-11-08T18:35:12.890Z"
   },
   {
    "duration": 104,
    "start_time": "2021-11-08T18:35:12.984Z"
   },
   {
    "duration": 108,
    "start_time": "2021-11-08T18:35:13.090Z"
   },
   {
    "duration": 124,
    "start_time": "2021-11-08T18:35:13.202Z"
   },
   {
    "duration": 10,
    "start_time": "2021-11-08T18:35:13.329Z"
   },
   {
    "duration": 87,
    "start_time": "2021-11-08T18:35:13.342Z"
   },
   {
    "duration": 45,
    "start_time": "2021-11-08T18:35:13.431Z"
   },
   {
    "duration": 10,
    "start_time": "2021-11-08T18:35:13.479Z"
   },
   {
    "duration": 35,
    "start_time": "2021-11-08T18:35:13.491Z"
   },
   {
    "duration": 7,
    "start_time": "2021-11-08T18:35:13.528Z"
   },
   {
    "duration": 11,
    "start_time": "2021-11-08T18:35:13.537Z"
   },
   {
    "duration": 9,
    "start_time": "2021-11-08T18:35:13.551Z"
   },
   {
    "duration": 13,
    "start_time": "2021-11-08T18:35:13.562Z"
   },
   {
    "duration": 97,
    "start_time": "2021-11-08T18:35:13.577Z"
   },
   {
    "duration": 53,
    "start_time": "2021-11-08T18:35:13.676Z"
   },
   {
    "duration": 340,
    "start_time": "2021-11-08T18:35:13.732Z"
   },
   {
    "duration": 9,
    "start_time": "2021-11-08T18:35:14.074Z"
   },
   {
    "duration": 69,
    "start_time": "2021-11-08T18:35:14.086Z"
   },
   {
    "duration": 6,
    "start_time": "2021-11-08T18:35:14.161Z"
   },
   {
    "duration": 14,
    "start_time": "2021-11-08T18:35:14.170Z"
   },
   {
    "duration": 137,
    "start_time": "2021-11-08T18:35:14.186Z"
   },
   {
    "duration": 12,
    "start_time": "2021-11-08T18:35:14.325Z"
   },
   {
    "duration": 127,
    "start_time": "2021-11-08T18:35:14.340Z"
   },
   {
    "duration": 12,
    "start_time": "2021-11-08T18:35:14.469Z"
   },
   {
    "duration": 72,
    "start_time": "2021-11-08T18:35:14.483Z"
   },
   {
    "duration": 24,
    "start_time": "2021-11-08T18:35:14.557Z"
   },
   {
    "duration": 88,
    "start_time": "2021-11-08T18:35:14.583Z"
   },
   {
    "duration": 453,
    "start_time": "2021-11-08T18:35:14.674Z"
   },
   {
    "duration": 68,
    "start_time": "2021-11-08T18:35:15.130Z"
   },
   {
    "duration": 140,
    "start_time": "2021-11-08T18:35:15.201Z"
   },
   {
    "duration": 12,
    "start_time": "2021-11-08T18:35:15.344Z"
   },
   {
    "duration": 23,
    "start_time": "2021-11-08T18:35:15.358Z"
   },
   {
    "duration": 4,
    "start_time": "2021-11-08T18:35:15.383Z"
   },
   {
    "duration": 28362,
    "start_time": "2021-11-08T18:35:15.389Z"
   },
   {
    "duration": 163,
    "start_time": "2021-11-08T18:35:43.753Z"
   },
   {
    "duration": 20,
    "start_time": "2021-11-08T18:35:43.919Z"
   },
   {
    "duration": 1164,
    "start_time": "2021-11-08T18:35:43.941Z"
   },
   {
    "duration": 153,
    "start_time": "2021-11-08T18:35:45.107Z"
   },
   {
    "duration": 21,
    "start_time": "2021-11-08T18:35:45.262Z"
   },
   {
    "duration": 1341,
    "start_time": "2021-11-08T18:35:45.285Z"
   },
   {
    "duration": 19,
    "start_time": "2021-11-08T18:35:46.628Z"
   },
   {
    "duration": 331,
    "start_time": "2021-11-08T18:35:46.649Z"
   },
   {
    "duration": 8,
    "start_time": "2021-11-08T18:35:46.983Z"
   },
   {
    "duration": 35,
    "start_time": "2021-11-08T18:35:46.994Z"
   },
   {
    "duration": 7,
    "start_time": "2021-11-08T18:35:47.032Z"
   },
   {
    "duration": 12,
    "start_time": "2021-11-08T18:35:47.041Z"
   },
   {
    "duration": 7,
    "start_time": "2021-11-08T18:35:47.056Z"
   },
   {
    "duration": 59,
    "start_time": "2021-11-08T18:35:47.065Z"
   },
   {
    "duration": 156,
    "start_time": "2021-11-08T18:35:47.127Z"
   },
   {
    "duration": 42,
    "start_time": "2021-11-08T18:35:47.286Z"
   },
   {
    "duration": 10,
    "start_time": "2021-11-08T18:35:47.330Z"
   },
   {
    "duration": 80,
    "start_time": "2021-11-08T18:35:47.342Z"
   },
   {
    "duration": 123,
    "start_time": "2021-11-08T18:35:47.424Z"
   },
   {
    "duration": 5,
    "start_time": "2021-11-08T18:57:12.467Z"
   },
   {
    "duration": 12,
    "start_time": "2021-11-08T18:57:26.907Z"
   },
   {
    "duration": 5,
    "start_time": "2021-11-08T19:08:31.331Z"
   },
   {
    "duration": 1484,
    "start_time": "2021-11-08T19:08:42.615Z"
   },
   {
    "duration": 295,
    "start_time": "2021-11-08T19:08:44.102Z"
   },
   {
    "duration": 17,
    "start_time": "2021-11-08T19:08:44.400Z"
   },
   {
    "duration": 62,
    "start_time": "2021-11-08T19:08:44.420Z"
   },
   {
    "duration": 103,
    "start_time": "2021-11-08T19:08:44.484Z"
   },
   {
    "duration": 97,
    "start_time": "2021-11-08T19:08:44.590Z"
   },
   {
    "duration": 99,
    "start_time": "2021-11-08T19:08:44.690Z"
   },
   {
    "duration": 117,
    "start_time": "2021-11-08T19:08:44.793Z"
   },
   {
    "duration": 10,
    "start_time": "2021-11-08T19:08:44.913Z"
   },
   {
    "duration": 86,
    "start_time": "2021-11-08T19:08:44.929Z"
   },
   {
    "duration": 49,
    "start_time": "2021-11-08T19:08:45.017Z"
   },
   {
    "duration": 16,
    "start_time": "2021-11-08T19:08:45.069Z"
   },
   {
    "duration": 40,
    "start_time": "2021-11-08T19:08:45.087Z"
   },
   {
    "duration": 10,
    "start_time": "2021-11-08T19:08:45.130Z"
   },
   {
    "duration": 20,
    "start_time": "2021-11-08T19:08:45.142Z"
   },
   {
    "duration": 18,
    "start_time": "2021-11-08T19:08:45.164Z"
   },
   {
    "duration": 18,
    "start_time": "2021-11-08T19:08:45.185Z"
   },
   {
    "duration": 65,
    "start_time": "2021-11-08T19:08:45.206Z"
   },
   {
    "duration": 55,
    "start_time": "2021-11-08T19:08:45.274Z"
   },
   {
    "duration": 335,
    "start_time": "2021-11-08T19:08:45.331Z"
   },
   {
    "duration": 10,
    "start_time": "2021-11-08T19:08:45.668Z"
   },
   {
    "duration": 64,
    "start_time": "2021-11-08T19:08:45.680Z"
   },
   {
    "duration": 6,
    "start_time": "2021-11-08T19:08:45.750Z"
   },
   {
    "duration": 29,
    "start_time": "2021-11-08T19:08:45.759Z"
   },
   {
    "duration": 135,
    "start_time": "2021-11-08T19:08:45.790Z"
   },
   {
    "duration": 11,
    "start_time": "2021-11-08T19:08:45.930Z"
   },
   {
    "duration": 133,
    "start_time": "2021-11-08T19:08:45.943Z"
   },
   {
    "duration": 11,
    "start_time": "2021-11-08T19:08:46.079Z"
   },
   {
    "duration": 95,
    "start_time": "2021-11-08T19:08:46.092Z"
   },
   {
    "duration": 22,
    "start_time": "2021-11-08T19:08:46.190Z"
   },
   {
    "duration": 86,
    "start_time": "2021-11-08T19:08:46.214Z"
   },
   {
    "duration": 556,
    "start_time": "2021-11-08T19:08:46.302Z"
   },
   {
    "duration": 83,
    "start_time": "2021-11-08T19:08:46.860Z"
   },
   {
    "duration": 155,
    "start_time": "2021-11-08T19:08:46.945Z"
   },
   {
    "duration": 14,
    "start_time": "2021-11-08T19:08:47.102Z"
   },
   {
    "duration": 21,
    "start_time": "2021-11-08T19:08:47.129Z"
   },
   {
    "duration": 12,
    "start_time": "2021-11-08T19:08:47.153Z"
   },
   {
    "duration": 29236,
    "start_time": "2021-11-08T19:08:47.167Z"
   },
   {
    "duration": 179,
    "start_time": "2021-11-08T19:09:16.405Z"
   },
   {
    "duration": 20,
    "start_time": "2021-11-08T19:09:16.586Z"
   },
   {
    "duration": 1196,
    "start_time": "2021-11-08T19:09:16.608Z"
   },
   {
    "duration": 155,
    "start_time": "2021-11-08T19:09:17.807Z"
   },
   {
    "duration": 20,
    "start_time": "2021-11-08T19:09:17.965Z"
   },
   {
    "duration": 1344,
    "start_time": "2021-11-08T19:09:17.987Z"
   },
   {
    "duration": 18,
    "start_time": "2021-11-08T19:09:19.333Z"
   },
   {
    "duration": 319,
    "start_time": "2021-11-08T19:09:19.353Z"
   },
   {
    "duration": 7,
    "start_time": "2021-11-08T19:09:19.675Z"
   },
   {
    "duration": 21,
    "start_time": "2021-11-08T19:09:19.685Z"
   },
   {
    "duration": 709,
    "start_time": "2021-11-08T19:10:00.004Z"
   },
   {
    "duration": 4,
    "start_time": "2021-11-08T19:10:07.811Z"
   },
   {
    "duration": 7,
    "start_time": "2021-11-08T19:10:09.998Z"
   },
   {
    "duration": 8,
    "start_time": "2021-11-08T19:10:20.784Z"
   },
   {
    "duration": 28,
    "start_time": "2021-11-08T19:10:20.796Z"
   },
   {
    "duration": 48,
    "start_time": "2021-11-08T19:10:20.828Z"
   },
   {
    "duration": 154,
    "start_time": "2021-11-08T19:10:20.879Z"
   },
   {
    "duration": 33,
    "start_time": "2021-11-08T19:10:21.040Z"
   },
   {
    "duration": 31,
    "start_time": "2021-11-08T19:10:21.075Z"
   },
   {
    "duration": 53,
    "start_time": "2021-11-08T19:10:21.109Z"
   },
   {
    "duration": 184,
    "start_time": "2021-11-08T19:10:21.165Z"
   },
   {
    "duration": 100,
    "start_time": "2021-11-08T19:11:18.457Z"
   },
   {
    "duration": 229,
    "start_time": "2021-11-08T19:21:01.853Z"
   },
   {
    "duration": 577,
    "start_time": "2021-11-08T19:21:32.263Z"
   },
   {
    "duration": 104,
    "start_time": "2021-11-08T19:21:44.794Z"
   },
   {
    "duration": 734,
    "start_time": "2021-11-08T19:21:49.428Z"
   },
   {
    "duration": 539,
    "start_time": "2021-11-08T19:21:55.345Z"
   },
   {
    "duration": 592,
    "start_time": "2021-11-08T19:22:12.451Z"
   },
   {
    "duration": 94,
    "start_time": "2021-11-08T19:27:00.898Z"
   },
   {
    "duration": 15,
    "start_time": "2021-11-08T19:27:17.513Z"
   },
   {
    "duration": 5,
    "start_time": "2021-11-08T19:27:23.826Z"
   },
   {
    "duration": 5,
    "start_time": "2021-11-08T19:27:36.584Z"
   },
   {
    "duration": 86,
    "start_time": "2021-11-08T19:29:20.236Z"
   },
   {
    "duration": 10,
    "start_time": "2021-11-08T19:29:34.710Z"
   },
   {
    "duration": 14,
    "start_time": "2021-11-08T19:29:45.724Z"
   },
   {
    "duration": 18,
    "start_time": "2021-11-08T19:29:55.056Z"
   },
   {
    "duration": 811,
    "start_time": "2021-11-08T19:30:26.043Z"
   },
   {
    "duration": 412,
    "start_time": "2021-11-08T19:30:45.287Z"
   },
   {
    "duration": 507,
    "start_time": "2021-11-08T19:31:01.327Z"
   },
   {
    "duration": 489,
    "start_time": "2021-11-08T19:31:15.451Z"
   },
   {
    "duration": 482,
    "start_time": "2021-11-08T19:31:27.597Z"
   },
   {
    "duration": 373,
    "start_time": "2021-11-08T19:31:32.637Z"
   },
   {
    "duration": 482,
    "start_time": "2021-11-08T19:31:46.792Z"
   },
   {
    "duration": 464,
    "start_time": "2021-11-08T19:32:00.967Z"
   },
   {
    "duration": 904,
    "start_time": "2021-11-08T19:32:17.753Z"
   },
   {
    "duration": 752,
    "start_time": "2021-11-08T19:32:24.916Z"
   },
   {
    "duration": 493,
    "start_time": "2021-11-08T19:32:50.848Z"
   },
   {
    "duration": 464,
    "start_time": "2021-11-08T19:33:27.468Z"
   },
   {
    "duration": 461,
    "start_time": "2021-11-08T19:33:41.653Z"
   },
   {
    "duration": 104,
    "start_time": "2021-11-08T19:35:01.990Z"
   },
   {
    "duration": 667,
    "start_time": "2021-11-08T19:35:13.232Z"
   },
   {
    "duration": 1135,
    "start_time": "2021-11-08T19:35:22.898Z"
   },
   {
    "duration": 860,
    "start_time": "2021-11-08T19:35:34.447Z"
   },
   {
    "duration": 68,
    "start_time": "2021-11-08T19:40:42.214Z"
   },
   {
    "duration": 22,
    "start_time": "2021-11-08T19:40:58.538Z"
   },
   {
    "duration": 18,
    "start_time": "2021-11-08T19:41:26.517Z"
   },
   {
    "duration": 17,
    "start_time": "2021-11-08T19:41:26.591Z"
   },
   {
    "duration": 10,
    "start_time": "2021-11-08T19:41:30.178Z"
   },
   {
    "duration": 11,
    "start_time": "2021-11-08T19:41:52.897Z"
   },
   {
    "duration": 17,
    "start_time": "2021-11-08T19:42:54.326Z"
   },
   {
    "duration": 9,
    "start_time": "2021-11-08T19:42:57.109Z"
   },
   {
    "duration": 9,
    "start_time": "2021-11-08T19:42:58.899Z"
   },
   {
    "duration": 275,
    "start_time": "2021-11-08T19:43:33.402Z"
   },
   {
    "duration": 261,
    "start_time": "2021-11-08T19:44:36.719Z"
   },
   {
    "duration": 13,
    "start_time": "2021-11-08T19:44:53.095Z"
   },
   {
    "duration": 11,
    "start_time": "2021-11-08T19:44:55.427Z"
   },
   {
    "duration": 12,
    "start_time": "2021-11-08T19:44:58.021Z"
   },
   {
    "duration": 12,
    "start_time": "2021-11-08T19:45:32.983Z"
   },
   {
    "duration": 10,
    "start_time": "2021-11-08T19:45:36.621Z"
   },
   {
    "duration": 10,
    "start_time": "2021-11-08T19:45:40.388Z"
   },
   {
    "duration": 351,
    "start_time": "2021-11-08T19:46:55.929Z"
   },
   {
    "duration": 266,
    "start_time": "2021-11-08T19:47:29.408Z"
   },
   {
    "duration": 12,
    "start_time": "2021-11-08T19:47:58.045Z"
   },
   {
    "duration": 257,
    "start_time": "2021-11-08T19:48:00.887Z"
   },
   {
    "duration": 11,
    "start_time": "2021-11-08T19:48:04.550Z"
   },
   {
    "duration": 265,
    "start_time": "2021-11-08T19:48:30.805Z"
   },
   {
    "duration": 331,
    "start_time": "2021-11-08T19:48:57.872Z"
   },
   {
    "duration": 298,
    "start_time": "2021-11-08T19:49:06.617Z"
   },
   {
    "duration": 13,
    "start_time": "2021-11-08T19:49:32.166Z"
   },
   {
    "duration": 14,
    "start_time": "2021-11-08T19:49:47.558Z"
   },
   {
    "duration": 83,
    "start_time": "2021-11-08T19:49:58.557Z"
   },
   {
    "duration": 291,
    "start_time": "2021-11-08T19:50:02.905Z"
   },
   {
    "duration": 88,
    "start_time": "2021-11-08T19:50:47.423Z"
   },
   {
    "duration": 11,
    "start_time": "2021-11-08T19:50:53.960Z"
   },
   {
    "duration": 10,
    "start_time": "2021-11-08T19:51:00.659Z"
   },
   {
    "duration": 15,
    "start_time": "2021-11-08T19:53:01.099Z"
   },
   {
    "duration": 8,
    "start_time": "2021-11-08T19:53:08.466Z"
   },
   {
    "duration": 5,
    "start_time": "2021-11-08T19:53:20.932Z"
   },
   {
    "duration": 9,
    "start_time": "2021-11-08T19:53:28.669Z"
   },
   {
    "duration": 6801,
    "start_time": "2021-11-08T19:53:46.509Z"
   },
   {
    "duration": 11,
    "start_time": "2021-11-08T19:54:05.826Z"
   },
   {
    "duration": 10,
    "start_time": "2021-11-08T19:54:07.847Z"
   },
   {
    "duration": 16,
    "start_time": "2021-11-08T19:54:16.168Z"
   },
   {
    "duration": 6,
    "start_time": "2021-11-08T19:55:12.095Z"
   },
   {
    "duration": 11,
    "start_time": "2021-11-08T19:55:16.506Z"
   },
   {
    "duration": 4,
    "start_time": "2021-11-08T19:57:28.970Z"
   },
   {
    "duration": 10,
    "start_time": "2021-11-08T19:57:31.092Z"
   },
   {
    "duration": 335,
    "start_time": "2021-11-08T19:58:59.971Z"
   },
   {
    "duration": 272,
    "start_time": "2021-11-08T19:59:15.836Z"
   },
   {
    "duration": 317,
    "start_time": "2021-11-08T19:59:38.226Z"
   },
   {
    "duration": 304,
    "start_time": "2021-11-08T19:59:45.638Z"
   },
   {
    "duration": 277,
    "start_time": "2021-11-08T19:59:56.212Z"
   },
   {
    "duration": 283,
    "start_time": "2021-11-08T20:00:04.730Z"
   },
   {
    "duration": 263,
    "start_time": "2021-11-08T20:07:57.590Z"
   },
   {
    "duration": 378,
    "start_time": "2021-11-08T20:08:14.886Z"
   },
   {
    "duration": 668,
    "start_time": "2021-11-08T20:08:34.841Z"
   },
   {
    "duration": 13,
    "start_time": "2021-11-08T20:08:46.466Z"
   },
   {
    "duration": 12,
    "start_time": "2021-11-08T20:08:48.847Z"
   },
   {
    "duration": 13,
    "start_time": "2021-11-08T20:08:55.461Z"
   },
   {
    "duration": 11,
    "start_time": "2021-11-08T20:08:56.933Z"
   },
   {
    "duration": 1895,
    "start_time": "2021-11-08T20:08:58.973Z"
   },
   {
    "duration": 4,
    "start_time": "2021-11-08T20:09:16.873Z"
   },
   {
    "duration": 11,
    "start_time": "2021-11-08T20:09:18.611Z"
   },
   {
    "duration": 623,
    "start_time": "2021-11-08T20:09:30.155Z"
   },
   {
    "duration": 275,
    "start_time": "2021-11-08T20:12:43.305Z"
   },
   {
    "duration": 274,
    "start_time": "2021-11-08T20:13:23.596Z"
   },
   {
    "duration": 12,
    "start_time": "2021-11-08T20:14:06.541Z"
   },
   {
    "duration": 285,
    "start_time": "2021-11-08T20:15:04.622Z"
   },
   {
    "duration": 6,
    "start_time": "2021-11-08T20:15:58.392Z"
   },
   {
    "duration": 13,
    "start_time": "2021-11-08T20:16:09.562Z"
   },
   {
    "duration": 1152,
    "start_time": "2021-11-08T20:16:58.453Z"
   },
   {
    "duration": 1270,
    "start_time": "2021-11-08T20:17:18.516Z"
   },
   {
    "duration": 97,
    "start_time": "2021-11-08T20:17:36.517Z"
   },
   {
    "duration": 2974,
    "start_time": "2021-11-08T20:17:40.686Z"
   },
   {
    "duration": 115066,
    "start_time": "2021-11-08T20:18:00.194Z"
   },
   {
    "duration": 1005,
    "start_time": "2021-11-08T20:19:54.258Z"
   },
   {
    "duration": 700,
    "start_time": "2021-11-08T20:20:00.310Z"
   },
   {
    "duration": 327,
    "start_time": "2021-11-08T20:20:11.726Z"
   },
   {
    "duration": 572,
    "start_time": "2021-11-08T20:20:22.573Z"
   },
   {
    "duration": 310,
    "start_time": "2021-11-08T20:21:24.119Z"
   },
   {
    "duration": 364,
    "start_time": "2021-11-08T20:21:48.674Z"
   },
   {
    "duration": 277,
    "start_time": "2021-11-08T20:21:54.334Z"
   },
   {
    "duration": 362,
    "start_time": "2021-11-08T20:21:56.882Z"
   },
   {
    "duration": 300,
    "start_time": "2021-11-08T20:22:16.409Z"
   },
   {
    "duration": 530,
    "start_time": "2021-11-08T20:22:24.552Z"
   },
   {
    "duration": 1873,
    "start_time": "2021-11-08T20:22:34.614Z"
   },
   {
    "duration": 750,
    "start_time": "2021-11-08T20:22:43.674Z"
   },
   {
    "duration": 519,
    "start_time": "2021-11-08T20:22:54.955Z"
   },
   {
    "duration": 532,
    "start_time": "2021-11-08T20:23:06.742Z"
   },
   {
    "duration": 677,
    "start_time": "2021-11-08T20:23:14.040Z"
   },
   {
    "duration": 13,
    "start_time": "2021-11-08T20:23:28.871Z"
   },
   {
    "duration": 56,
    "start_time": "2021-11-08T20:23:40.292Z"
   },
   {
    "duration": 24,
    "start_time": "2021-11-08T20:23:45.550Z"
   },
   {
    "duration": 69,
    "start_time": "2021-11-08T20:23:47.800Z"
   },
   {
    "duration": 16,
    "start_time": "2021-11-08T20:23:50.577Z"
   },
   {
    "duration": 91,
    "start_time": "2021-11-08T20:23:52.540Z"
   },
   {
    "duration": 6,
    "start_time": "2021-11-08T20:26:55.240Z"
   },
   {
    "duration": 14,
    "start_time": "2021-11-08T20:27:02.853Z"
   },
   {
    "duration": 6,
    "start_time": "2021-11-08T20:28:09.452Z"
   },
   {
    "duration": 13,
    "start_time": "2021-11-08T20:28:12.146Z"
   },
   {
    "duration": 301,
    "start_time": "2021-11-08T20:30:01.291Z"
   },
   {
    "duration": 11,
    "start_time": "2021-11-08T20:30:36.183Z"
   },
   {
    "duration": 21,
    "start_time": "2021-11-08T20:30:42.427Z"
   },
   {
    "duration": 11,
    "start_time": "2021-11-08T20:31:05.729Z"
   },
   {
    "duration": 33,
    "start_time": "2021-11-08T20:31:07.940Z"
   },
   {
    "duration": 11,
    "start_time": "2021-11-08T20:31:54.178Z"
   },
   {
    "duration": 18,
    "start_time": "2021-11-08T20:31:56.586Z"
   },
   {
    "duration": 14,
    "start_time": "2021-11-08T20:32:28.899Z"
   },
   {
    "duration": 13,
    "start_time": "2021-11-08T20:32:30.925Z"
   },
   {
    "duration": 416,
    "start_time": "2021-11-08T20:34:25.058Z"
   },
   {
    "duration": 389,
    "start_time": "2021-11-08T20:34:53.320Z"
   },
   {
    "duration": 512,
    "start_time": "2021-11-08T20:35:35.564Z"
   },
   {
    "duration": 1681,
    "start_time": "2021-11-08T20:35:59.121Z"
   },
   {
    "duration": 310,
    "start_time": "2021-11-08T20:36:00.805Z"
   },
   {
    "duration": 18,
    "start_time": "2021-11-08T20:36:01.118Z"
   },
   {
    "duration": 62,
    "start_time": "2021-11-08T20:36:01.138Z"
   },
   {
    "duration": 100,
    "start_time": "2021-11-08T20:36:01.202Z"
   },
   {
    "duration": 103,
    "start_time": "2021-11-08T20:36:01.305Z"
   },
   {
    "duration": 119,
    "start_time": "2021-11-08T20:36:01.411Z"
   },
   {
    "duration": 128,
    "start_time": "2021-11-08T20:36:01.534Z"
   },
   {
    "duration": 11,
    "start_time": "2021-11-08T20:36:01.665Z"
   },
   {
    "duration": 98,
    "start_time": "2021-11-08T20:36:01.678Z"
   },
   {
    "duration": 57,
    "start_time": "2021-11-08T20:36:01.779Z"
   },
   {
    "duration": 16,
    "start_time": "2021-11-08T20:36:01.839Z"
   },
   {
    "duration": 47,
    "start_time": "2021-11-08T20:36:01.858Z"
   },
   {
    "duration": 21,
    "start_time": "2021-11-08T20:36:01.908Z"
   },
   {
    "duration": 35,
    "start_time": "2021-11-08T20:36:01.932Z"
   },
   {
    "duration": 33,
    "start_time": "2021-11-08T20:36:01.970Z"
   },
   {
    "duration": 31,
    "start_time": "2021-11-08T20:36:02.006Z"
   },
   {
    "duration": 75,
    "start_time": "2021-11-08T20:36:02.039Z"
   },
   {
    "duration": 48,
    "start_time": "2021-11-08T20:36:02.116Z"
   },
   {
    "duration": 437,
    "start_time": "2021-11-08T20:36:02.167Z"
   },
   {
    "duration": 9,
    "start_time": "2021-11-08T20:36:02.607Z"
   },
   {
    "duration": 59,
    "start_time": "2021-11-08T20:36:02.629Z"
   },
   {
    "duration": 6,
    "start_time": "2021-11-08T20:36:02.694Z"
   },
   {
    "duration": 39,
    "start_time": "2021-11-08T20:36:02.703Z"
   },
   {
    "duration": 125,
    "start_time": "2021-11-08T20:36:02.744Z"
   },
   {
    "duration": 12,
    "start_time": "2021-11-08T20:36:02.871Z"
   },
   {
    "duration": 143,
    "start_time": "2021-11-08T20:36:02.885Z"
   },
   {
    "duration": 12,
    "start_time": "2021-11-08T20:36:03.030Z"
   },
   {
    "duration": 85,
    "start_time": "2021-11-08T20:36:03.045Z"
   },
   {
    "duration": 25,
    "start_time": "2021-11-08T20:36:03.133Z"
   },
   {
    "duration": 95,
    "start_time": "2021-11-08T20:36:03.161Z"
   },
   {
    "duration": 12,
    "start_time": "2021-11-08T20:36:03.258Z"
   },
   {
    "duration": 130,
    "start_time": "2021-11-08T20:36:03.272Z"
   },
   {
    "duration": 6,
    "start_time": "2021-11-08T20:36:03.405Z"
   },
   {
    "duration": 31,
    "start_time": "2021-11-08T20:36:03.413Z"
   },
   {
    "duration": 510,
    "start_time": "2021-11-08T20:36:03.446Z"
   },
   {
    "duration": 91,
    "start_time": "2021-11-08T20:36:03.958Z"
   },
   {
    "duration": 124,
    "start_time": "2021-11-08T20:36:04.051Z"
   },
   {
    "duration": 12,
    "start_time": "2021-11-08T20:36:04.178Z"
   },
   {
    "duration": 35,
    "start_time": "2021-11-08T20:36:04.193Z"
   },
   {
    "duration": 25,
    "start_time": "2021-11-08T20:36:04.230Z"
   },
   {
    "duration": 31320,
    "start_time": "2021-11-08T20:36:04.257Z"
   },
   {
    "duration": 183,
    "start_time": "2021-11-08T20:36:35.580Z"
   },
   {
    "duration": 23,
    "start_time": "2021-11-08T20:36:35.766Z"
   },
   {
    "duration": 1318,
    "start_time": "2021-11-08T20:36:35.792Z"
   },
   {
    "duration": 177,
    "start_time": "2021-11-08T20:36:37.114Z"
   },
   {
    "duration": 23,
    "start_time": "2021-11-08T20:36:37.294Z"
   },
   {
    "duration": 1583,
    "start_time": "2021-11-08T20:36:37.329Z"
   },
   {
    "duration": 27,
    "start_time": "2021-11-08T20:36:38.915Z"
   },
   {
    "duration": 338,
    "start_time": "2021-11-08T20:36:38.945Z"
   },
   {
    "duration": 7,
    "start_time": "2021-11-08T20:36:39.286Z"
   },
   {
    "duration": 40,
    "start_time": "2021-11-08T20:36:39.296Z"
   },
   {
    "duration": 6,
    "start_time": "2021-11-08T20:36:39.338Z"
   },
   {
    "duration": 11,
    "start_time": "2021-11-08T20:36:39.347Z"
   },
   {
    "duration": 6,
    "start_time": "2021-11-08T20:36:39.360Z"
   },
   {
    "duration": 16,
    "start_time": "2021-11-08T20:36:39.368Z"
   },
   {
    "duration": 275,
    "start_time": "2021-11-08T20:36:39.387Z"
   },
   {
    "duration": 45,
    "start_time": "2021-11-08T20:36:39.665Z"
   },
   {
    "duration": 16,
    "start_time": "2021-11-08T20:36:39.714Z"
   },
   {
    "duration": 96,
    "start_time": "2021-11-08T20:36:39.733Z"
   },
   {
    "duration": 125,
    "start_time": "2021-11-08T20:36:39.831Z"
   },
   {
    "duration": 18,
    "start_time": "2021-11-08T20:42:37.292Z"
   },
   {
    "duration": 18,
    "start_time": "2021-11-08T20:42:52.244Z"
   },
   {
    "duration": 14,
    "start_time": "2021-11-08T20:43:14.047Z"
   },
   {
    "duration": 19,
    "start_time": "2021-11-08T20:43:30.771Z"
   },
   {
    "duration": 89,
    "start_time": "2021-11-08T21:09:06.500Z"
   },
   {
    "duration": 21,
    "start_time": "2021-11-08T21:11:25.846Z"
   },
   {
    "duration": 92,
    "start_time": "2021-11-08T21:11:44.766Z"
   },
   {
    "duration": 19,
    "start_time": "2021-11-08T21:11:46.899Z"
   },
   {
    "duration": 98,
    "start_time": "2021-11-08T21:13:03.883Z"
   },
   {
    "duration": 4,
    "start_time": "2021-11-08T21:13:05.593Z"
   },
   {
    "duration": 13,
    "start_time": "2021-11-08T21:13:12.609Z"
   },
   {
    "duration": 4,
    "start_time": "2021-11-08T21:13:28.817Z"
   },
   {
    "duration": 13,
    "start_time": "2021-11-08T21:13:30.978Z"
   },
   {
    "duration": 4,
    "start_time": "2021-11-08T21:13:41.769Z"
   },
   {
    "duration": 11,
    "start_time": "2021-11-08T21:13:43.451Z"
   },
   {
    "duration": 509,
    "start_time": "2021-11-08T21:15:08.628Z"
   },
   {
    "duration": 18,
    "start_time": "2021-11-08T21:45:24.146Z"
   },
   {
    "duration": 73,
    "start_time": "2021-11-08T21:46:00.544Z"
   },
   {
    "duration": 13,
    "start_time": "2021-11-08T21:46:10.596Z"
   },
   {
    "duration": 91,
    "start_time": "2021-11-08T21:48:02.742Z"
   },
   {
    "duration": 770,
    "start_time": "2021-11-08T21:48:04.630Z"
   },
   {
    "duration": 443,
    "start_time": "2021-11-08T21:48:11.978Z"
   },
   {
    "duration": 338,
    "start_time": "2021-11-08T21:48:32.712Z"
   },
   {
    "duration": 342,
    "start_time": "2021-11-08T21:48:43.868Z"
   },
   {
    "duration": 83,
    "start_time": "2021-11-08T21:49:03.066Z"
   },
   {
    "duration": 85,
    "start_time": "2021-11-08T21:49:11.348Z"
   },
   {
    "duration": 83,
    "start_time": "2021-11-08T21:49:17.732Z"
   },
   {
    "duration": 350,
    "start_time": "2021-11-08T21:49:37.783Z"
   },
   {
    "duration": 349,
    "start_time": "2021-11-08T21:49:44.408Z"
   },
   {
    "duration": 1323,
    "start_time": "2021-11-08T21:49:54.573Z"
   },
   {
    "duration": 70,
    "start_time": "2021-11-08T21:50:14.165Z"
   },
   {
    "duration": 73,
    "start_time": "2021-11-08T21:50:39.523Z"
   },
   {
    "duration": 348,
    "start_time": "2021-11-08T21:50:52.770Z"
   },
   {
    "duration": 336,
    "start_time": "2021-11-08T21:51:00.828Z"
   },
   {
    "duration": 322,
    "start_time": "2021-11-08T21:51:11.006Z"
   },
   {
    "duration": 330,
    "start_time": "2021-11-08T21:51:15.633Z"
   },
   {
    "duration": 68,
    "start_time": "2021-11-08T21:52:08.510Z"
   },
   {
    "duration": 267,
    "start_time": "2021-11-08T21:52:43.102Z"
   },
   {
    "duration": 19,
    "start_time": "2021-11-08T21:52:52.996Z"
   },
   {
    "duration": 68,
    "start_time": "2021-11-08T21:53:01.505Z"
   },
   {
    "duration": 15,
    "start_time": "2021-11-08T21:53:04.786Z"
   },
   {
    "duration": 14,
    "start_time": "2021-11-08T21:53:17.572Z"
   },
   {
    "duration": 71,
    "start_time": "2021-11-08T21:55:42.144Z"
   },
   {
    "duration": 10,
    "start_time": "2021-11-08T21:55:44.118Z"
   },
   {
    "duration": 15,
    "start_time": "2021-11-08T21:56:23.384Z"
   },
   {
    "duration": 10,
    "start_time": "2021-11-08T21:56:35.774Z"
   },
   {
    "duration": 11,
    "start_time": "2021-11-08T21:56:43.241Z"
   },
   {
    "duration": 263,
    "start_time": "2021-11-08T21:56:53.468Z"
   },
   {
    "duration": 13,
    "start_time": "2021-11-08T21:57:00.769Z"
   },
   {
    "duration": 79,
    "start_time": "2021-11-08T21:59:55.694Z"
   },
   {
    "duration": 73,
    "start_time": "2021-11-08T22:00:09.967Z"
   },
   {
    "duration": 10,
    "start_time": "2021-11-08T22:00:11.377Z"
   },
   {
    "duration": 73,
    "start_time": "2021-11-08T22:01:14.271Z"
   },
   {
    "duration": 175,
    "start_time": "2021-11-08T22:04:20.392Z"
   },
   {
    "duration": 174,
    "start_time": "2021-11-08T22:05:00.867Z"
   },
   {
    "duration": 168,
    "start_time": "2021-11-08T22:05:16.605Z"
   },
   {
    "duration": 458,
    "start_time": "2021-11-08T22:05:50.401Z"
   },
   {
    "duration": 8527,
    "start_time": "2021-11-08T22:06:32.956Z"
   },
   {
    "duration": 7592,
    "start_time": "2021-11-08T22:06:53.655Z"
   },
   {
    "duration": 186,
    "start_time": "2021-11-08T22:07:21.164Z"
   },
   {
    "duration": 180,
    "start_time": "2021-11-08T22:07:42.570Z"
   },
   {
    "duration": 178,
    "start_time": "2021-11-08T22:07:58.209Z"
   },
   {
    "duration": 189,
    "start_time": "2021-11-08T22:08:25.688Z"
   },
   {
    "duration": 189,
    "start_time": "2021-11-08T22:08:35.416Z"
   },
   {
    "duration": 7475,
    "start_time": "2021-11-08T22:10:04.157Z"
   },
   {
    "duration": 774,
    "start_time": "2021-11-08T22:10:43.842Z"
   },
   {
    "duration": 580,
    "start_time": "2021-11-08T22:11:08.737Z"
   },
   {
    "duration": 345,
    "start_time": "2021-11-08T22:11:29.671Z"
   },
   {
    "duration": 128,
    "start_time": "2021-11-08T22:11:39.077Z"
   },
   {
    "duration": 8073,
    "start_time": "2021-11-08T22:12:20.655Z"
   },
   {
    "duration": 7117,
    "start_time": "2021-11-08T22:12:32.464Z"
   },
   {
    "duration": 217,
    "start_time": "2021-11-08T22:12:44.422Z"
   },
   {
    "duration": 10,
    "start_time": "2021-11-08T22:12:47.286Z"
   },
   {
    "duration": 14,
    "start_time": "2021-11-08T22:13:24.450Z"
   },
   {
    "duration": 13,
    "start_time": "2021-11-08T22:14:58.930Z"
   },
   {
    "duration": 18,
    "start_time": "2021-11-08T22:15:14.333Z"
   },
   {
    "duration": 22,
    "start_time": "2021-11-08T22:16:22.094Z"
   },
   {
    "duration": 116,
    "start_time": "2021-11-08T22:17:54.351Z"
   },
   {
    "duration": 22,
    "start_time": "2021-11-08T22:19:00.032Z"
   },
   {
    "duration": 23,
    "start_time": "2021-11-08T22:19:44.839Z"
   },
   {
    "duration": 13,
    "start_time": "2021-11-08T22:21:45.862Z"
   },
   {
    "duration": 21,
    "start_time": "2021-11-08T22:21:52.875Z"
   },
   {
    "duration": 20,
    "start_time": "2021-11-08T22:22:42.447Z"
   },
   {
    "duration": 23,
    "start_time": "2021-11-08T22:22:50.256Z"
   },
   {
    "duration": 22,
    "start_time": "2021-11-08T22:23:16.013Z"
   },
   {
    "duration": 21,
    "start_time": "2021-11-08T22:23:26.319Z"
   },
   {
    "duration": 24,
    "start_time": "2021-11-08T22:23:47.559Z"
   },
   {
    "duration": 296,
    "start_time": "2021-11-08T22:26:56.013Z"
   },
   {
    "duration": 117,
    "start_time": "2021-11-08T22:27:10.925Z"
   },
   {
    "duration": 36,
    "start_time": "2021-11-08T22:27:45.910Z"
   },
   {
    "duration": 948,
    "start_time": "2021-11-08T22:28:25.683Z"
   },
   {
    "duration": 36,
    "start_time": "2021-11-08T22:28:38.435Z"
   },
   {
    "duration": 33,
    "start_time": "2021-11-08T22:28:49.514Z"
   },
   {
    "duration": 72,
    "start_time": "2021-11-08T22:29:26.123Z"
   },
   {
    "duration": 36,
    "start_time": "2021-11-08T22:29:52.057Z"
   },
   {
    "duration": 17,
    "start_time": "2021-11-08T22:32:00.817Z"
   },
   {
    "duration": 140,
    "start_time": "2021-11-08T22:33:27.957Z"
   },
   {
    "duration": 176,
    "start_time": "2021-11-08T22:34:10.847Z"
   },
   {
    "duration": 16,
    "start_time": "2021-11-08T22:35:15.853Z"
   },
   {
    "duration": 172,
    "start_time": "2021-11-08T22:35:39.120Z"
   },
   {
    "duration": 170,
    "start_time": "2021-11-08T22:36:07.845Z"
   },
   {
    "duration": 12,
    "start_time": "2021-11-08T22:38:09.929Z"
   },
   {
    "duration": 476,
    "start_time": "2021-11-08T22:40:14.810Z"
   },
   {
    "duration": 114,
    "start_time": "2021-11-08T22:40:22.902Z"
   },
   {
    "duration": 116,
    "start_time": "2021-11-08T22:41:09.016Z"
   },
   {
    "duration": 76,
    "start_time": "2021-11-08T22:41:32.671Z"
   },
   {
    "duration": 78,
    "start_time": "2021-11-08T22:42:34.245Z"
   },
   {
    "duration": 294,
    "start_time": "2021-11-08T22:45:59.599Z"
   },
   {
    "duration": 72,
    "start_time": "2021-11-08T22:46:29.558Z"
   },
   {
    "duration": 174,
    "start_time": "2021-11-08T22:51:37.203Z"
   },
   {
    "duration": 139,
    "start_time": "2021-11-08T22:53:51.670Z"
   },
   {
    "duration": 148,
    "start_time": "2021-11-08T22:54:31.534Z"
   },
   {
    "duration": 138,
    "start_time": "2021-11-08T22:54:58.752Z"
   },
   {
    "duration": 1443,
    "start_time": "2021-11-08T23:00:44.453Z"
   },
   {
    "duration": 302,
    "start_time": "2021-11-08T23:00:45.898Z"
   },
   {
    "duration": 20,
    "start_time": "2021-11-08T23:00:46.204Z"
   },
   {
    "duration": 41,
    "start_time": "2021-11-08T23:00:46.227Z"
   },
   {
    "duration": 98,
    "start_time": "2021-11-08T23:00:46.271Z"
   },
   {
    "duration": 107,
    "start_time": "2021-11-08T23:00:46.371Z"
   },
   {
    "duration": 100,
    "start_time": "2021-11-08T23:00:46.481Z"
   },
   {
    "duration": 128,
    "start_time": "2021-11-08T23:00:46.585Z"
   },
   {
    "duration": 17,
    "start_time": "2021-11-08T23:00:46.716Z"
   },
   {
    "duration": 94,
    "start_time": "2021-11-08T23:00:46.736Z"
   },
   {
    "duration": 50,
    "start_time": "2021-11-08T23:00:46.832Z"
   },
   {
    "duration": 18,
    "start_time": "2021-11-08T23:00:46.885Z"
   },
   {
    "duration": 29,
    "start_time": "2021-11-08T23:00:46.906Z"
   },
   {
    "duration": 29,
    "start_time": "2021-11-08T23:00:46.938Z"
   },
   {
    "duration": 28,
    "start_time": "2021-11-08T23:00:46.970Z"
   },
   {
    "duration": 34,
    "start_time": "2021-11-08T23:00:47.001Z"
   },
   {
    "duration": 14,
    "start_time": "2021-11-08T23:00:47.038Z"
   },
   {
    "duration": 51,
    "start_time": "2021-11-08T23:00:47.055Z"
   },
   {
    "duration": 39,
    "start_time": "2021-11-08T23:00:47.130Z"
   },
   {
    "duration": 333,
    "start_time": "2021-11-08T23:00:47.172Z"
   },
   {
    "duration": 21,
    "start_time": "2021-11-08T23:00:47.508Z"
   },
   {
    "duration": 48,
    "start_time": "2021-11-08T23:00:47.532Z"
   },
   {
    "duration": 7,
    "start_time": "2021-11-08T23:00:47.586Z"
   },
   {
    "duration": 42,
    "start_time": "2021-11-08T23:00:47.596Z"
   },
   {
    "duration": 115,
    "start_time": "2021-11-08T23:00:47.640Z"
   },
   {
    "duration": 13,
    "start_time": "2021-11-08T23:00:47.757Z"
   },
   {
    "duration": 125,
    "start_time": "2021-11-08T23:00:47.772Z"
   },
   {
    "duration": 17,
    "start_time": "2021-11-08T23:00:47.900Z"
   },
   {
    "duration": 54,
    "start_time": "2021-11-08T23:00:47.930Z"
   },
   {
    "duration": 46,
    "start_time": "2021-11-08T23:00:47.987Z"
   },
   {
    "duration": 72,
    "start_time": "2021-11-08T23:00:48.036Z"
   },
   {
    "duration": 29,
    "start_time": "2021-11-08T23:00:48.111Z"
   },
   {
    "duration": 117,
    "start_time": "2021-11-08T23:00:48.143Z"
   },
   {
    "duration": 7,
    "start_time": "2021-11-08T23:00:48.263Z"
   },
   {
    "duration": 20,
    "start_time": "2021-11-08T23:00:48.273Z"
   },
   {
    "duration": 411,
    "start_time": "2021-11-08T23:00:48.296Z"
   },
   {
    "duration": 433,
    "start_time": "2021-11-08T23:00:48.711Z"
   },
   {
    "duration": 1315,
    "start_time": "2021-11-08T23:00:47.832Z"
   },
   {
    "duration": 1311,
    "start_time": "2021-11-08T23:00:47.838Z"
   },
   {
    "duration": 1308,
    "start_time": "2021-11-08T23:00:47.842Z"
   },
   {
    "duration": 1305,
    "start_time": "2021-11-08T23:00:47.847Z"
   },
   {
    "duration": 1303,
    "start_time": "2021-11-08T23:00:47.851Z"
   },
   {
    "duration": 1300,
    "start_time": "2021-11-08T23:00:47.856Z"
   },
   {
    "duration": 1298,
    "start_time": "2021-11-08T23:00:47.860Z"
   },
   {
    "duration": 1294,
    "start_time": "2021-11-08T23:00:47.865Z"
   },
   {
    "duration": 1292,
    "start_time": "2021-11-08T23:00:47.869Z"
   },
   {
    "duration": 1288,
    "start_time": "2021-11-08T23:00:47.874Z"
   },
   {
    "duration": 1285,
    "start_time": "2021-11-08T23:00:47.878Z"
   },
   {
    "duration": 1281,
    "start_time": "2021-11-08T23:00:47.883Z"
   },
   {
    "duration": 1278,
    "start_time": "2021-11-08T23:00:47.887Z"
   },
   {
    "duration": 1266,
    "start_time": "2021-11-08T23:00:47.901Z"
   },
   {
    "duration": 1262,
    "start_time": "2021-11-08T23:00:47.906Z"
   },
   {
    "duration": 1258,
    "start_time": "2021-11-08T23:00:47.911Z"
   },
   {
    "duration": 1255,
    "start_time": "2021-11-08T23:00:47.915Z"
   },
   {
    "duration": 1249,
    "start_time": "2021-11-08T23:00:47.922Z"
   },
   {
    "duration": 1245,
    "start_time": "2021-11-08T23:00:47.928Z"
   },
   {
    "duration": 1242,
    "start_time": "2021-11-08T23:00:47.932Z"
   },
   {
    "duration": 1237,
    "start_time": "2021-11-08T23:00:47.938Z"
   },
   {
    "duration": 1233,
    "start_time": "2021-11-08T23:00:47.943Z"
   },
   {
    "duration": 1220,
    "start_time": "2021-11-08T23:00:47.957Z"
   },
   {
    "duration": 1217,
    "start_time": "2021-11-08T23:00:47.962Z"
   },
   {
    "duration": 1214,
    "start_time": "2021-11-08T23:00:47.966Z"
   },
   {
    "duration": 1210,
    "start_time": "2021-11-08T23:00:47.971Z"
   },
   {
    "duration": 1207,
    "start_time": "2021-11-08T23:00:47.976Z"
   },
   {
    "duration": 86,
    "start_time": "2021-11-08T23:02:20.160Z"
   },
   {
    "duration": 1519,
    "start_time": "2021-11-08T23:03:31.772Z"
   },
   {
    "duration": 296,
    "start_time": "2021-11-08T23:03:33.293Z"
   },
   {
    "duration": 21,
    "start_time": "2021-11-08T23:03:33.592Z"
   },
   {
    "duration": 45,
    "start_time": "2021-11-08T23:03:33.616Z"
   },
   {
    "duration": 88,
    "start_time": "2021-11-08T23:03:33.664Z"
   },
   {
    "duration": 108,
    "start_time": "2021-11-08T23:03:33.754Z"
   },
   {
    "duration": 95,
    "start_time": "2021-11-08T23:03:33.864Z"
   },
   {
    "duration": 117,
    "start_time": "2021-11-08T23:03:33.963Z"
   },
   {
    "duration": 9,
    "start_time": "2021-11-08T23:03:34.084Z"
   },
   {
    "duration": 86,
    "start_time": "2021-11-08T23:03:34.095Z"
   },
   {
    "duration": 52,
    "start_time": "2021-11-08T23:03:34.183Z"
   },
   {
    "duration": 14,
    "start_time": "2021-11-08T23:03:34.238Z"
   },
   {
    "duration": 20,
    "start_time": "2021-11-08T23:03:34.254Z"
   },
   {
    "duration": 12,
    "start_time": "2021-11-08T23:03:34.277Z"
   },
   {
    "duration": 26,
    "start_time": "2021-11-08T23:03:34.291Z"
   },
   {
    "duration": 27,
    "start_time": "2021-11-08T23:03:34.319Z"
   },
   {
    "duration": 32,
    "start_time": "2021-11-08T23:03:34.349Z"
   },
   {
    "duration": 63,
    "start_time": "2021-11-08T23:03:34.383Z"
   },
   {
    "duration": 40,
    "start_time": "2021-11-08T23:03:34.448Z"
   },
   {
    "duration": 330,
    "start_time": "2021-11-08T23:03:34.490Z"
   },
   {
    "duration": 14,
    "start_time": "2021-11-08T23:03:34.822Z"
   },
   {
    "duration": 46,
    "start_time": "2021-11-08T23:03:34.838Z"
   },
   {
    "duration": 6,
    "start_time": "2021-11-08T23:03:34.890Z"
   },
   {
    "duration": 11,
    "start_time": "2021-11-08T23:03:34.929Z"
   },
   {
    "duration": 123,
    "start_time": "2021-11-08T23:03:34.943Z"
   },
   {
    "duration": 11,
    "start_time": "2021-11-08T23:03:35.068Z"
   },
   {
    "duration": 121,
    "start_time": "2021-11-08T23:03:35.082Z"
   },
   {
    "duration": 12,
    "start_time": "2021-11-08T23:03:35.205Z"
   },
   {
    "duration": 55,
    "start_time": "2021-11-08T23:03:35.230Z"
   },
   {
    "duration": 42,
    "start_time": "2021-11-08T23:03:35.287Z"
   },
   {
    "duration": 68,
    "start_time": "2021-11-08T23:03:35.331Z"
   },
   {
    "duration": 30,
    "start_time": "2021-11-08T23:03:35.401Z"
   },
   {
    "duration": 103,
    "start_time": "2021-11-08T23:03:35.435Z"
   },
   {
    "duration": 6,
    "start_time": "2021-11-08T23:03:35.540Z"
   },
   {
    "duration": 17,
    "start_time": "2021-11-08T23:03:35.549Z"
   },
   {
    "duration": 425,
    "start_time": "2021-11-08T23:03:35.568Z"
   },
   {
    "duration": 4,
    "start_time": "2021-11-08T23:03:35.996Z"
   },
   {
    "duration": 27420,
    "start_time": "2021-11-08T23:03:36.002Z"
   },
   {
    "duration": 124,
    "start_time": "2021-11-08T23:04:03.424Z"
   },
   {
    "duration": 406,
    "start_time": "2021-11-08T23:04:03.551Z"
   },
   {
    "duration": 18,
    "start_time": "2021-11-08T23:04:03.959Z"
   },
   {
    "duration": 200,
    "start_time": "2021-11-08T23:04:03.980Z"
   },
   {
    "duration": 78,
    "start_time": "2021-11-08T23:04:04.183Z"
   },
   {
    "duration": 157,
    "start_time": "2021-11-08T23:04:04.263Z"
   },
   {
    "duration": 16,
    "start_time": "2021-11-08T23:04:04.422Z"
   },
   {
    "duration": 174,
    "start_time": "2021-11-08T23:04:04.440Z"
   },
   {
    "duration": 26,
    "start_time": "2021-11-08T23:04:04.617Z"
   },
   {
    "duration": 1148,
    "start_time": "2021-11-08T23:04:04.645Z"
   },
   {
    "duration": 152,
    "start_time": "2021-11-08T23:04:05.796Z"
   },
   {
    "duration": 20,
    "start_time": "2021-11-08T23:04:05.951Z"
   },
   {
    "duration": 1361,
    "start_time": "2021-11-08T23:04:05.973Z"
   },
   {
    "duration": 318,
    "start_time": "2021-11-08T23:04:07.337Z"
   },
   {
    "duration": 8,
    "start_time": "2021-11-08T23:04:07.658Z"
   },
   {
    "duration": 44,
    "start_time": "2021-11-08T23:04:07.669Z"
   },
   {
    "duration": 31,
    "start_time": "2021-11-08T23:04:07.715Z"
   },
   {
    "duration": 42,
    "start_time": "2021-11-08T23:04:07.748Z"
   },
   {
    "duration": 27,
    "start_time": "2021-11-08T23:04:07.793Z"
   },
   {
    "duration": 53,
    "start_time": "2021-11-08T23:04:07.823Z"
   },
   {
    "duration": 150,
    "start_time": "2021-11-08T23:04:07.878Z"
   },
   {
    "duration": 34,
    "start_time": "2021-11-08T23:04:08.030Z"
   },
   {
    "duration": 28,
    "start_time": "2021-11-08T23:04:08.067Z"
   },
   {
    "duration": 67,
    "start_time": "2021-11-08T23:04:08.097Z"
   },
   {
    "duration": 174,
    "start_time": "2021-11-08T23:04:08.167Z"
   },
   {
    "duration": 103,
    "start_time": "2021-11-08T23:09:27.029Z"
   },
   {
    "duration": 397,
    "start_time": "2021-11-08T23:16:25.053Z"
   },
   {
    "duration": 76,
    "start_time": "2021-11-08T23:16:31.825Z"
   },
   {
    "duration": 338,
    "start_time": "2021-11-08T23:17:22.406Z"
   },
   {
    "duration": 2200,
    "start_time": "2021-11-08T23:18:36.452Z"
   },
   {
    "duration": 4189,
    "start_time": "2021-11-08T23:18:46.876Z"
   },
   {
    "duration": 2152,
    "start_time": "2021-11-08T23:18:59.399Z"
   },
   {
    "duration": 2204,
    "start_time": "2021-11-08T23:20:59.860Z"
   },
   {
    "duration": 2156,
    "start_time": "2021-11-08T23:21:31.229Z"
   },
   {
    "duration": 9567,
    "start_time": "2021-11-08T23:21:48.870Z"
   },
   {
    "duration": 2244,
    "start_time": "2021-11-08T23:22:07.079Z"
   },
   {
    "duration": 2343,
    "start_time": "2021-11-08T23:23:06.735Z"
   },
   {
    "duration": 400,
    "start_time": "2021-11-08T23:23:36.510Z"
   },
   {
    "duration": 1581,
    "start_time": "2021-11-08T23:30:42.609Z"
   },
   {
    "duration": 295,
    "start_time": "2021-11-08T23:30:44.192Z"
   },
   {
    "duration": 17,
    "start_time": "2021-11-08T23:30:44.490Z"
   },
   {
    "duration": 46,
    "start_time": "2021-11-08T23:30:44.509Z"
   },
   {
    "duration": 81,
    "start_time": "2021-11-08T23:30:44.557Z"
   },
   {
    "duration": 104,
    "start_time": "2021-11-08T23:30:44.641Z"
   },
   {
    "duration": 97,
    "start_time": "2021-11-08T23:30:44.747Z"
   },
   {
    "duration": 117,
    "start_time": "2021-11-08T23:30:44.848Z"
   },
   {
    "duration": 11,
    "start_time": "2021-11-08T23:30:44.968Z"
   },
   {
    "duration": 102,
    "start_time": "2021-11-08T23:30:44.981Z"
   },
   {
    "duration": 47,
    "start_time": "2021-11-08T23:30:45.085Z"
   },
   {
    "duration": 11,
    "start_time": "2021-11-08T23:30:45.135Z"
   },
   {
    "duration": 24,
    "start_time": "2021-11-08T23:30:45.148Z"
   },
   {
    "duration": 9,
    "start_time": "2021-11-08T23:30:45.174Z"
   },
   {
    "duration": 29,
    "start_time": "2021-11-08T23:30:45.186Z"
   },
   {
    "duration": 26,
    "start_time": "2021-11-08T23:30:45.217Z"
   },
   {
    "duration": 38,
    "start_time": "2021-11-08T23:30:45.245Z"
   },
   {
    "duration": 54,
    "start_time": "2021-11-08T23:30:45.285Z"
   },
   {
    "duration": 40,
    "start_time": "2021-11-08T23:30:45.341Z"
   },
   {
    "duration": 333,
    "start_time": "2021-11-08T23:30:45.383Z"
   },
   {
    "duration": 17,
    "start_time": "2021-11-08T23:30:45.718Z"
   },
   {
    "duration": 51,
    "start_time": "2021-11-08T23:30:45.738Z"
   },
   {
    "duration": 6,
    "start_time": "2021-11-08T23:30:45.795Z"
   },
   {
    "duration": 15,
    "start_time": "2021-11-08T23:30:45.829Z"
   },
   {
    "duration": 121,
    "start_time": "2021-11-08T23:30:45.846Z"
   },
   {
    "duration": 11,
    "start_time": "2021-11-08T23:30:45.969Z"
   },
   {
    "duration": 122,
    "start_time": "2021-11-08T23:30:45.983Z"
   },
   {
    "duration": 11,
    "start_time": "2021-11-08T23:30:46.107Z"
   },
   {
    "duration": 32,
    "start_time": "2021-11-08T23:30:46.129Z"
   },
   {
    "duration": 3,
    "start_time": "2021-11-08T23:30:46.163Z"
   },
   {
    "duration": 20,
    "start_time": "2021-11-08T23:30:46.168Z"
   },
   {
    "duration": 27625,
    "start_time": "2021-11-08T23:30:46.191Z"
   },
   {
    "duration": 2303,
    "start_time": "2021-11-08T23:31:13.818Z"
   },
   {
    "duration": 408,
    "start_time": "2021-11-08T23:31:16.124Z"
   },
   {
    "duration": 107,
    "start_time": "2021-11-08T23:31:16.534Z"
   },
   {
    "duration": 478,
    "start_time": "2021-11-08T23:31:16.644Z"
   },
   {
    "duration": 20,
    "start_time": "2021-11-08T23:31:17.124Z"
   },
   {
    "duration": 211,
    "start_time": "2021-11-08T23:31:17.146Z"
   },
   {
    "duration": 75,
    "start_time": "2021-11-08T23:31:17.360Z"
   },
   {
    "duration": 161,
    "start_time": "2021-11-08T23:31:17.437Z"
   },
   {
    "duration": 12,
    "start_time": "2021-11-08T23:31:17.601Z"
   },
   {
    "duration": 183,
    "start_time": "2021-11-08T23:31:17.628Z"
   },
   {
    "duration": 31,
    "start_time": "2021-11-08T23:31:17.813Z"
   },
   {
    "duration": 1139,
    "start_time": "2021-11-08T23:31:17.847Z"
   },
   {
    "duration": 156,
    "start_time": "2021-11-08T23:31:18.989Z"
   },
   {
    "duration": 21,
    "start_time": "2021-11-08T23:31:19.147Z"
   },
   {
    "duration": 1331,
    "start_time": "2021-11-08T23:31:19.170Z"
   },
   {
    "duration": 321,
    "start_time": "2021-11-08T23:31:20.503Z"
   },
   {
    "duration": 8,
    "start_time": "2021-11-08T23:31:20.826Z"
   },
   {
    "duration": 25,
    "start_time": "2021-11-08T23:31:20.836Z"
   },
   {
    "duration": 6,
    "start_time": "2021-11-08T23:31:20.864Z"
   },
   {
    "duration": 415,
    "start_time": "2021-11-08T23:31:20.872Z"
   },
   {
    "duration": 1363,
    "start_time": "2021-11-08T23:31:19.926Z"
   },
   {
    "duration": 1359,
    "start_time": "2021-11-08T23:31:19.932Z"
   },
   {
    "duration": 1356,
    "start_time": "2021-11-08T23:31:19.936Z"
   },
   {
    "duration": 1353,
    "start_time": "2021-11-08T23:31:19.941Z"
   },
   {
    "duration": 1350,
    "start_time": "2021-11-08T23:31:19.945Z"
   },
   {
    "duration": 1343,
    "start_time": "2021-11-08T23:31:19.953Z"
   },
   {
    "duration": 1341,
    "start_time": "2021-11-08T23:31:19.957Z"
   },
   {
    "duration": 12,
    "start_time": "2021-11-08T23:32:47.338Z"
   },
   {
    "duration": 11,
    "start_time": "2021-11-08T23:33:57.263Z"
   },
   {
    "duration": 9,
    "start_time": "2021-11-08T23:33:59.260Z"
   },
   {
    "duration": 5,
    "start_time": "2021-11-08T23:34:02.895Z"
   },
   {
    "duration": 10,
    "start_time": "2021-11-08T23:34:05.135Z"
   },
   {
    "duration": 132,
    "start_time": "2021-11-08T23:34:09.665Z"
   },
   {
    "duration": 32,
    "start_time": "2021-11-08T23:34:11.403Z"
   },
   {
    "duration": 3,
    "start_time": "2021-11-08T23:34:13.366Z"
   },
   {
    "duration": 33,
    "start_time": "2021-11-08T23:34:15.324Z"
   },
   {
    "duration": 117,
    "start_time": "2021-11-08T23:34:32.434Z"
   },
   {
    "duration": 1492,
    "start_time": "2021-11-08T23:47:25.909Z"
   },
   {
    "duration": 300,
    "start_time": "2021-11-08T23:47:27.403Z"
   },
   {
    "duration": 16,
    "start_time": "2021-11-08T23:47:27.706Z"
   },
   {
    "duration": 46,
    "start_time": "2021-11-08T23:47:27.725Z"
   },
   {
    "duration": 80,
    "start_time": "2021-11-08T23:47:27.773Z"
   },
   {
    "duration": 104,
    "start_time": "2021-11-08T23:47:27.856Z"
   },
   {
    "duration": 100,
    "start_time": "2021-11-08T23:47:27.962Z"
   },
   {
    "duration": 129,
    "start_time": "2021-11-08T23:47:28.065Z"
   },
   {
    "duration": 15,
    "start_time": "2021-11-08T23:47:28.197Z"
   },
   {
    "duration": 85,
    "start_time": "2021-11-08T23:47:28.215Z"
   },
   {
    "duration": 56,
    "start_time": "2021-11-08T23:47:28.303Z"
   },
   {
    "duration": 11,
    "start_time": "2021-11-08T23:47:28.362Z"
   },
   {
    "duration": 16,
    "start_time": "2021-11-08T23:47:28.375Z"
   },
   {
    "duration": 13,
    "start_time": "2021-11-08T23:47:28.393Z"
   },
   {
    "duration": 22,
    "start_time": "2021-11-08T23:47:28.409Z"
   },
   {
    "duration": 17,
    "start_time": "2021-11-08T23:47:28.433Z"
   },
   {
    "duration": 25,
    "start_time": "2021-11-08T23:47:28.452Z"
   },
   {
    "duration": 63,
    "start_time": "2021-11-08T23:47:28.480Z"
   },
   {
    "duration": 39,
    "start_time": "2021-11-08T23:47:28.545Z"
   },
   {
    "duration": 334,
    "start_time": "2021-11-08T23:47:28.587Z"
   },
   {
    "duration": 12,
    "start_time": "2021-11-08T23:47:28.923Z"
   },
   {
    "duration": 57,
    "start_time": "2021-11-08T23:47:28.937Z"
   },
   {
    "duration": 6,
    "start_time": "2021-11-08T23:47:28.999Z"
   },
   {
    "duration": 31,
    "start_time": "2021-11-08T23:47:29.007Z"
   },
   {
    "duration": 120,
    "start_time": "2021-11-08T23:47:29.040Z"
   },
   {
    "duration": 12,
    "start_time": "2021-11-08T23:47:29.162Z"
   },
   {
    "duration": 125,
    "start_time": "2021-11-08T23:47:29.176Z"
   },
   {
    "duration": 11,
    "start_time": "2021-11-08T23:47:29.304Z"
   },
   {
    "duration": 25,
    "start_time": "2021-11-08T23:47:29.328Z"
   },
   {
    "duration": 4,
    "start_time": "2021-11-08T23:47:29.355Z"
   },
   {
    "duration": 27182,
    "start_time": "2021-11-08T23:47:29.361Z"
   },
   {
    "duration": 2103,
    "start_time": "2021-11-08T23:47:56.545Z"
   },
   {
    "duration": 408,
    "start_time": "2021-11-08T23:47:58.650Z"
   },
   {
    "duration": 111,
    "start_time": "2021-11-08T23:47:59.061Z"
   },
   {
    "duration": 478,
    "start_time": "2021-11-08T23:47:59.174Z"
   },
   {
    "duration": 17,
    "start_time": "2021-11-08T23:47:59.654Z"
   },
   {
    "duration": 210,
    "start_time": "2021-11-08T23:47:59.673Z"
   },
   {
    "duration": 75,
    "start_time": "2021-11-08T23:47:59.885Z"
   },
   {
    "duration": 167,
    "start_time": "2021-11-08T23:47:59.963Z"
   },
   {
    "duration": 15,
    "start_time": "2021-11-08T23:48:00.132Z"
   },
   {
    "duration": 187,
    "start_time": "2021-11-08T23:48:00.150Z"
   },
   {
    "duration": 20,
    "start_time": "2021-11-08T23:48:00.340Z"
   },
   {
    "duration": 1183,
    "start_time": "2021-11-08T23:48:00.363Z"
   },
   {
    "duration": 152,
    "start_time": "2021-11-08T23:48:01.549Z"
   },
   {
    "duration": 35,
    "start_time": "2021-11-08T23:48:01.703Z"
   },
   {
    "duration": 1325,
    "start_time": "2021-11-08T23:48:01.740Z"
   },
   {
    "duration": 310,
    "start_time": "2021-11-08T23:48:03.067Z"
   },
   {
    "duration": 8,
    "start_time": "2021-11-08T23:48:03.379Z"
   },
   {
    "duration": 39,
    "start_time": "2021-11-08T23:48:03.390Z"
   },
   {
    "duration": 4,
    "start_time": "2021-11-08T23:48:03.432Z"
   },
   {
    "duration": 13,
    "start_time": "2021-11-08T23:48:03.438Z"
   },
   {
    "duration": 9,
    "start_time": "2021-11-08T23:48:03.453Z"
   },
   {
    "duration": 5,
    "start_time": "2021-11-08T23:48:03.464Z"
   },
   {
    "duration": 10,
    "start_time": "2021-11-08T23:48:03.471Z"
   },
   {
    "duration": 183,
    "start_time": "2021-11-08T23:48:03.483Z"
   },
   {
    "duration": 32,
    "start_time": "2021-11-08T23:48:03.668Z"
   },
   {
    "duration": 9,
    "start_time": "2021-11-08T23:48:03.702Z"
   },
   {
    "duration": 54,
    "start_time": "2021-11-08T23:48:03.713Z"
   },
   {
    "duration": 177,
    "start_time": "2021-11-08T23:48:03.769Z"
   },
   {
    "duration": 2120,
    "start_time": "2021-11-09T08:03:33.054Z"
   },
   {
    "duration": 1970,
    "start_time": "2021-11-09T08:03:35.179Z"
   },
   {
    "duration": 12,
    "start_time": "2021-11-09T08:03:37.153Z"
   },
   {
    "duration": 38,
    "start_time": "2021-11-09T08:03:37.167Z"
   },
   {
    "duration": 57,
    "start_time": "2021-11-09T08:03:37.207Z"
   },
   {
    "duration": 83,
    "start_time": "2021-11-09T08:03:37.266Z"
   },
   {
    "duration": 82,
    "start_time": "2021-11-09T08:03:37.352Z"
   },
   {
    "duration": 92,
    "start_time": "2021-11-09T08:03:37.436Z"
   },
   {
    "duration": 8,
    "start_time": "2021-11-09T08:03:37.530Z"
   },
   {
    "duration": 52,
    "start_time": "2021-11-09T08:03:37.540Z"
   },
   {
    "duration": 42,
    "start_time": "2021-11-09T08:03:37.594Z"
   },
   {
    "duration": 7,
    "start_time": "2021-11-09T08:03:37.638Z"
   },
   {
    "duration": 12,
    "start_time": "2021-11-09T08:03:37.647Z"
   },
   {
    "duration": 12,
    "start_time": "2021-11-09T08:03:37.661Z"
   },
   {
    "duration": 12,
    "start_time": "2021-11-09T08:03:37.675Z"
   },
   {
    "duration": 17,
    "start_time": "2021-11-09T08:03:37.689Z"
   },
   {
    "duration": 26,
    "start_time": "2021-11-09T08:03:37.708Z"
   },
   {
    "duration": 62,
    "start_time": "2021-11-09T08:03:37.736Z"
   },
   {
    "duration": 37,
    "start_time": "2021-11-09T08:03:37.800Z"
   },
   {
    "duration": 228,
    "start_time": "2021-11-09T08:03:37.839Z"
   },
   {
    "duration": 7,
    "start_time": "2021-11-09T08:03:38.069Z"
   },
   {
    "duration": 48,
    "start_time": "2021-11-09T08:03:38.079Z"
   },
   {
    "duration": 4,
    "start_time": "2021-11-09T08:03:38.130Z"
   },
   {
    "duration": 17,
    "start_time": "2021-11-09T08:03:38.135Z"
   },
   {
    "duration": 84,
    "start_time": "2021-11-09T08:03:38.154Z"
   },
   {
    "duration": 8,
    "start_time": "2021-11-09T08:03:38.240Z"
   },
   {
    "duration": 88,
    "start_time": "2021-11-09T08:03:38.249Z"
   },
   {
    "duration": 7,
    "start_time": "2021-11-09T08:03:38.339Z"
   },
   {
    "duration": 22,
    "start_time": "2021-11-09T08:03:38.348Z"
   },
   {
    "duration": 3,
    "start_time": "2021-11-09T08:03:38.372Z"
   },
   {
    "duration": 18510,
    "start_time": "2021-11-09T08:03:38.376Z"
   },
   {
    "duration": 1179,
    "start_time": "2021-11-09T08:03:56.888Z"
   },
   {
    "duration": 265,
    "start_time": "2021-11-09T08:03:58.069Z"
   },
   {
    "duration": 79,
    "start_time": "2021-11-09T08:03:58.336Z"
   },
   {
    "duration": 325,
    "start_time": "2021-11-09T08:03:58.417Z"
   },
   {
    "duration": 14,
    "start_time": "2021-11-09T08:03:58.744Z"
   },
   {
    "duration": 157,
    "start_time": "2021-11-09T08:03:58.761Z"
   },
   {
    "duration": 48,
    "start_time": "2021-11-09T08:03:58.920Z"
   },
   {
    "duration": 115,
    "start_time": "2021-11-09T08:03:58.970Z"
   },
   {
    "duration": 20,
    "start_time": "2021-11-09T08:03:59.087Z"
   },
   {
    "duration": 140,
    "start_time": "2021-11-09T08:03:59.109Z"
   },
   {
    "duration": 18,
    "start_time": "2021-11-09T08:03:59.251Z"
   },
   {
    "duration": 830,
    "start_time": "2021-11-09T08:03:59.271Z"
   },
   {
    "duration": 123,
    "start_time": "2021-11-09T08:04:00.106Z"
   },
   {
    "duration": 17,
    "start_time": "2021-11-09T08:04:00.231Z"
   },
   {
    "duration": 984,
    "start_time": "2021-11-09T08:04:00.250Z"
   },
   {
    "duration": 251,
    "start_time": "2021-11-09T08:04:01.236Z"
   },
   {
    "duration": 5,
    "start_time": "2021-11-09T08:04:01.489Z"
   },
   {
    "duration": 29,
    "start_time": "2021-11-09T08:04:01.496Z"
   },
   {
    "duration": 10,
    "start_time": "2021-11-09T08:04:01.527Z"
   },
   {
    "duration": 27,
    "start_time": "2021-11-09T08:04:01.539Z"
   },
   {
    "duration": 26,
    "start_time": "2021-11-09T08:04:01.568Z"
   },
   {
    "duration": 9,
    "start_time": "2021-11-09T08:04:01.596Z"
   },
   {
    "duration": 27,
    "start_time": "2021-11-09T08:04:01.607Z"
   },
   {
    "duration": 103,
    "start_time": "2021-11-09T08:04:01.636Z"
   },
   {
    "duration": 21,
    "start_time": "2021-11-09T08:04:01.740Z"
   },
   {
    "duration": 13,
    "start_time": "2021-11-09T08:04:01.763Z"
   },
   {
    "duration": 41,
    "start_time": "2021-11-09T08:04:01.778Z"
   },
   {
    "duration": 104,
    "start_time": "2021-11-09T08:04:01.820Z"
   }
  ],
  "kernelspec": {
   "display_name": "Python 3",
   "language": "python",
   "name": "python3"
  },
  "language_info": {
   "codemirror_mode": {
    "name": "ipython",
    "version": 3
   },
   "file_extension": ".py",
   "mimetype": "text/x-python",
   "name": "python",
   "nbconvert_exporter": "python",
   "pygments_lexer": "ipython3",
   "version": "3.8.8"
  },
  "toc": {
   "base_numbering": 1,
   "nav_menu": {},
   "number_sections": false,
   "sideBar": true,
   "skip_h1_title": true,
   "title_cell": "Table of Contents",
   "title_sidebar": "Contents",
   "toc_cell": false,
   "toc_position": {
    "height": "calc(100% - 180px)",
    "left": "10px",
    "top": "150px",
    "width": "255.594px"
   },
   "toc_section_display": true,
   "toc_window_display": false
  }
 },
 "nbformat": 4,
 "nbformat_minor": 2
}
